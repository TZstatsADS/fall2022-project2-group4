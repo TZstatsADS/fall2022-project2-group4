{
 "cells": [
  {
   "cell_type": "code",
<<<<<<< HEAD:analysis.ipynb
   "execution_count": null,
=======
   "execution_count": 2,
   "metadata": {},
   "outputs": [
    {
     "name": "stdout",
     "output_type": "stream",
     "text": [
      "C:\\Users\\Gabriel\\Documents\\Columbia\\Applied_DS\\fall2022-project2-group4\n"
     ]
    }
   ],
   "source": [
    "#For relative paths/reproducibility: change to parent project directory to access lib subdirectory\n",
    "%cd .."
   ]
  },
  {
   "cell_type": "code",
   "execution_count": 5,
>>>>>>> b2668d6b852a8ec6fcebf9d909eeccdb5cac4514:doc/analysis.ipynb
   "metadata": {},
   "outputs": [],
   "source": [
    "%pip install --quiet -r requirements.txt"
   ]
  },
  {
   "cell_type": "code",
   "execution_count": 1,
   "metadata": {},
   "outputs": [],
   "source": [
    "from lib import data_pipeline\n",
    "import pandas as pd\n",
    "import matplotlib.pyplot as plt"
   ]
  },
  {
   "cell_type": "code",
   "execution_count": 2,
   "metadata": {},
   "outputs": [
    {
     "name": "stdout",
     "output_type": "stream",
     "text": [
      "motor_vehicle_collisions_crashes.csv download cancelled.\n",
      "real-time_traffic_speed_data.csv download cancelled.\n"
     ]
    }
   ],
   "source": [
    "data_pipeline.download_datasets(limit = 1000000000)"
   ]
  },
  {
   "cell_type": "code",
<<<<<<< HEAD:analysis.ipynb
   "execution_count": 72,
=======
   "execution_count": 6,
>>>>>>> b2668d6b852a8ec6fcebf9d909eeccdb5cac4514:doc/analysis.ipynb
   "metadata": {},
   "outputs": [
    {
     "data": {
      "text/html": [
       "<div>\n",
       "<style scoped>\n",
       "    .dataframe tbody tr th:only-of-type {\n",
       "        vertical-align: middle;\n",
       "    }\n",
       "\n",
       "    .dataframe tbody tr th {\n",
       "        vertical-align: top;\n",
       "    }\n",
       "\n",
       "    .dataframe thead th {\n",
       "        text-align: right;\n",
       "    }\n",
       "</style>\n",
       "<table border=\"1\" class=\"dataframe\">\n",
       "  <thead>\n",
       "    <tr style=\"text-align: right;\">\n",
       "      <th></th>\n",
       "      <th>crash_date</th>\n",
       "      <th>crash_time</th>\n",
       "      <th>borough</th>\n",
       "      <th>zip_code</th>\n",
       "      <th>longitude</th>\n",
       "      <th>latitude</th>\n",
       "      <th>on_street_name</th>\n",
       "      <th>number_of_persons_injured</th>\n",
       "      <th>number_of_persons_killed</th>\n",
       "      <th>number_of_pedestrians_injured</th>\n",
       "      <th>number_of_pedestrians_killed</th>\n",
       "      <th>number_of_cyclist_injured</th>\n",
       "      <th>number_of_cyclist_killed</th>\n",
       "      <th>number_of_motorist_injured</th>\n",
       "      <th>number_of_motorist_killed</th>\n",
       "    </tr>\n",
       "  </thead>\n",
       "  <tbody>\n",
       "    <tr>\n",
       "      <th>0</th>\n",
       "      <td>2019-01-01T00:00:00.000</td>\n",
       "      <td>18:41</td>\n",
       "      <td>NaN</td>\n",
       "      <td>NaN</td>\n",
       "      <td>NaN</td>\n",
       "      <td>NaN</td>\n",
       "      <td>VERRAZANO BRIDGE UPPER</td>\n",
       "      <td>0</td>\n",
       "      <td>0</td>\n",
       "      <td>0</td>\n",
       "      <td>0</td>\n",
       "      <td>0</td>\n",
       "      <td>0</td>\n",
       "      <td>0</td>\n",
       "      <td>0</td>\n",
       "    </tr>\n",
       "    <tr>\n",
       "      <th>1</th>\n",
       "      <td>2019-01-01T00:00:00.000</td>\n",
       "      <td>1:30</td>\n",
       "      <td>NaN</td>\n",
       "      <td>NaN</td>\n",
       "      <td>NaN</td>\n",
       "      <td>NaN</td>\n",
       "      <td>NARROWS ROAD NORTH</td>\n",
       "      <td>1</td>\n",
       "      <td>0</td>\n",
       "      <td>0</td>\n",
       "      <td>0</td>\n",
       "      <td>0</td>\n",
       "      <td>0</td>\n",
       "      <td>1</td>\n",
       "      <td>0</td>\n",
       "    </tr>\n",
       "    <tr>\n",
       "      <th>2</th>\n",
       "      <td>2019-01-01T00:00:00.000</td>\n",
       "      <td>23:55</td>\n",
       "      <td>NaN</td>\n",
       "      <td>NaN</td>\n",
       "      <td>NaN</td>\n",
       "      <td>NaN</td>\n",
       "      <td>MARTIN LUTHER KING JR</td>\n",
       "      <td>1</td>\n",
       "      <td>0</td>\n",
       "      <td>0</td>\n",
       "      <td>0</td>\n",
       "      <td>0</td>\n",
       "      <td>0</td>\n",
       "      <td>1</td>\n",
       "      <td>0</td>\n",
       "    </tr>\n",
       "    <tr>\n",
       "      <th>3</th>\n",
       "      <td>2019-01-01T00:00:00.000</td>\n",
       "      <td>0:20</td>\n",
       "      <td>QUEENS</td>\n",
       "      <td>11377.0</td>\n",
       "      <td>-73.915855</td>\n",
       "      <td>40.743137</td>\n",
       "      <td>ROOSEVELT AVENUE</td>\n",
       "      <td>0</td>\n",
       "      <td>0</td>\n",
       "      <td>0</td>\n",
       "      <td>0</td>\n",
       "      <td>0</td>\n",
       "      <td>0</td>\n",
       "      <td>0</td>\n",
       "      <td>0</td>\n",
       "    </tr>\n",
       "    <tr>\n",
       "      <th>4</th>\n",
       "      <td>2019-01-01T00:00:00.000</td>\n",
       "      <td>3:30</td>\n",
       "      <td>QUEENS</td>\n",
       "      <td>11103.0</td>\n",
       "      <td>-73.913450</td>\n",
       "      <td>40.759020</td>\n",
       "      <td>NaN</td>\n",
       "      <td>1</td>\n",
       "      <td>0</td>\n",
       "      <td>0</td>\n",
       "      <td>0</td>\n",
       "      <td>0</td>\n",
       "      <td>0</td>\n",
       "      <td>1</td>\n",
       "      <td>0</td>\n",
       "    </tr>\n",
       "  </tbody>\n",
       "</table>\n",
       "</div>"
      ],
      "text/plain": [
       "                crash_date crash_time borough  zip_code  longitude   latitude  \\\n",
       "0  2019-01-01T00:00:00.000      18:41     NaN       NaN        NaN        NaN   \n",
       "1  2019-01-01T00:00:00.000       1:30     NaN       NaN        NaN        NaN   \n",
       "2  2019-01-01T00:00:00.000      23:55     NaN       NaN        NaN        NaN   \n",
       "3  2019-01-01T00:00:00.000       0:20  QUEENS   11377.0 -73.915855  40.743137   \n",
       "4  2019-01-01T00:00:00.000       3:30  QUEENS   11103.0 -73.913450  40.759020   \n",
       "\n",
       "                     on_street_name  number_of_persons_injured  \\\n",
       "0  VERRAZANO BRIDGE UPPER                                    0   \n",
       "1  NARROWS ROAD NORTH                                        1   \n",
       "2  MARTIN LUTHER KING JR                                     1   \n",
       "3  ROOSEVELT AVENUE                                          0   \n",
       "4                               NaN                          1   \n",
       "\n",
       "   number_of_persons_killed  number_of_pedestrians_injured  \\\n",
       "0                         0                              0   \n",
       "1                         0                              0   \n",
       "2                         0                              0   \n",
       "3                         0                              0   \n",
       "4                         0                              0   \n",
       "\n",
       "   number_of_pedestrians_killed  number_of_cyclist_injured  \\\n",
       "0                             0                          0   \n",
       "1                             0                          0   \n",
       "2                             0                          0   \n",
       "3                             0                          0   \n",
       "4                             0                          0   \n",
       "\n",
       "   number_of_cyclist_killed  number_of_motorist_injured  \\\n",
       "0                         0                           0   \n",
       "1                         0                           1   \n",
       "2                         0                           1   \n",
       "3                         0                           0   \n",
       "4                         0                           1   \n",
       "\n",
       "   number_of_motorist_killed  \n",
       "0                          0  \n",
       "1                          0  \n",
       "2                          0  \n",
       "3                          0  \n",
       "4                          0  "
      ]
     },
<<<<<<< HEAD:analysis.ipynb
     "execution_count": 72,
=======
     "execution_count": 6,
>>>>>>> b2668d6b852a8ec6fcebf9d909eeccdb5cac4514:doc/analysis.ipynb
     "metadata": {},
     "output_type": "execute_result"
    }
   ],
   "source": [
    "raw_data_crashes = pd.read_csv(\"./data/motor_vehicle_collisions_crashes.csv\")\n",
    "raw_data_crashes.head()"
   ]
  },
  {
   "cell_type": "code",
   "execution_count": 73,
   "metadata": {},
   "outputs": [
    {
     "data": {
      "text/html": [
       "<div>\n",
       "<style scoped>\n",
       "    .dataframe tbody tr th:only-of-type {\n",
       "        vertical-align: middle;\n",
       "    }\n",
       "\n",
       "    .dataframe tbody tr th {\n",
       "        vertical-align: top;\n",
       "    }\n",
       "\n",
       "    .dataframe thead th {\n",
       "        text-align: right;\n",
       "    }\n",
       "</style>\n",
       "<table border=\"1\" class=\"dataframe\">\n",
       "  <thead>\n",
       "    <tr style=\"text-align: right;\">\n",
       "      <th></th>\n",
       "      <th>speed</th>\n",
       "      <th>travel_time</th>\n",
       "      <th>data_as_of</th>\n",
       "      <th>link_points</th>\n",
       "      <th>borough</th>\n",
       "    </tr>\n",
       "  </thead>\n",
       "  <tbody>\n",
       "    <tr>\n",
       "      <th>0</th>\n",
       "      <td>0.00</td>\n",
       "      <td>0</td>\n",
       "      <td>2022-10-09T09:54:11.000</td>\n",
       "      <td>40.6167105,-74.15242 40.61572,-74.15276 40.614...</td>\n",
       "      <td>Staten Island</td>\n",
       "    </tr>\n",
       "    <tr>\n",
       "      <th>1</th>\n",
       "      <td>14.91</td>\n",
       "      <td>794</td>\n",
       "      <td>2022-10-09T09:54:11.000</td>\n",
       "      <td>40.66673,-73.78649 40.66642,-73.78958 40.66642...</td>\n",
       "      <td>Queens</td>\n",
       "    </tr>\n",
       "    <tr>\n",
       "      <th>2</th>\n",
       "      <td>44.11</td>\n",
       "      <td>51</td>\n",
       "      <td>2022-10-09T09:54:11.000</td>\n",
       "      <td>40.77158,-73.994441 40.7713004,-73.99455 40.77...</td>\n",
       "      <td>Manhattan</td>\n",
       "    </tr>\n",
       "    <tr>\n",
       "      <th>3</th>\n",
       "      <td>54.68</td>\n",
       "      <td>26</td>\n",
       "      <td>2022-10-09T09:54:11.000</td>\n",
       "      <td>40.6077805,-74.14091 40.60826,-74.132101</td>\n",
       "      <td>Staten Island</td>\n",
       "    </tr>\n",
       "    <tr>\n",
       "      <th>4</th>\n",
       "      <td>32.93</td>\n",
       "      <td>113</td>\n",
       "      <td>2022-10-09T09:54:11.000</td>\n",
       "      <td>40.6665206,-73.76246 40.66738,-73.77021 40.667...</td>\n",
       "      <td>Queens</td>\n",
       "    </tr>\n",
       "  </tbody>\n",
       "</table>\n",
       "</div>"
      ],
      "text/plain": [
       "   speed travel_time               data_as_of  \\\n",
       "0   0.00           0  2022-10-09T09:54:11.000   \n",
       "1  14.91         794  2022-10-09T09:54:11.000   \n",
       "2  44.11          51  2022-10-09T09:54:11.000   \n",
       "3  54.68          26  2022-10-09T09:54:11.000   \n",
       "4  32.93         113  2022-10-09T09:54:11.000   \n",
       "\n",
       "                                         link_points        borough  \n",
       "0  40.6167105,-74.15242 40.61572,-74.15276 40.614...  Staten Island  \n",
       "1  40.66673,-73.78649 40.66642,-73.78958 40.66642...         Queens  \n",
       "2  40.77158,-73.994441 40.7713004,-73.99455 40.77...      Manhattan  \n",
       "3           40.6077805,-74.14091 40.60826,-74.132101  Staten Island  \n",
       "4  40.6665206,-73.76246 40.66738,-73.77021 40.667...         Queens  "
      ]
     },
     "execution_count": 73,
     "metadata": {},
     "output_type": "execute_result"
    }
   ],
   "source": [
    "raw_data_speed = pd.read_csv(\"./data/real-time_traffic_speed_data.csv\")\n",
    "raw_data_speed.head()"
   ]
  },
  {
   "cell_type": "code",
   "execution_count": 74,
   "metadata": {},
   "outputs": [
    {
     "data": {
      "text/plain": [
       "crash_date                        object\n",
       "crash_time                        object\n",
       "borough                           object\n",
       "zip_code                         float64\n",
       "longitude                        float64\n",
       "latitude                         float64\n",
       "on_street_name                    object\n",
       "number_of_persons_injured          int64\n",
       "number_of_persons_killed           int64\n",
       "number_of_pedestrians_injured      int64\n",
       "number_of_pedestrians_killed       int64\n",
       "number_of_cyclist_injured          int64\n",
       "number_of_cyclist_killed           int64\n",
       "number_of_motorist_injured         int64\n",
       "number_of_motorist_killed          int64\n",
       "dtype: object"
      ]
     },
     "execution_count": 74,
     "metadata": {},
     "output_type": "execute_result"
    }
   ],
   "source": [
    "raw_data_crashes.dtypes"
   ]
  },
  {
   "cell_type": "code",
   "execution_count": 75,
   "metadata": {},
   "outputs": [
    {
     "data": {
      "text/plain": [
       "speed          object\n",
       "travel_time    object\n",
       "data_as_of     object\n",
       "link_points    object\n",
       "borough        object\n",
       "dtype: object"
      ]
     },
     "execution_count": 75,
     "metadata": {},
     "output_type": "execute_result"
    }
   ],
   "source": [
    "raw_data_speed.dtypes"
   ]
  },
  {
   "cell_type": "code",
   "execution_count": 7,
   "metadata": {},
   "outputs": [
    {
     "data": {
      "text/plain": [
       "((1000, 15), (164163, 5))"
      ]
     },
     "execution_count": 7,
     "metadata": {},
     "output_type": "execute_result"
    }
   ],
   "source": [
    "raw_data_crashes.shape, raw_data_speed.shape"
   ]
  },
  {
   "cell_type": "code",
   "execution_count": null,
   "metadata": {},
   "outputs": [],
   "source": []
  },
  {
   "cell_type": "code",
   "execution_count": 8,
   "metadata": {},
   "outputs": [
    {
     "data": {
      "text/html": [
       "<div>\n",
       "<style scoped>\n",
       "    .dataframe tbody tr th:only-of-type {\n",
       "        vertical-align: middle;\n",
       "    }\n",
       "\n",
       "    .dataframe tbody tr th {\n",
       "        vertical-align: top;\n",
       "    }\n",
       "\n",
       "    .dataframe thead th {\n",
       "        text-align: right;\n",
       "    }\n",
       "</style>\n",
       "<table border=\"1\" class=\"dataframe\">\n",
       "  <thead>\n",
       "    <tr style=\"text-align: right;\">\n",
       "      <th></th>\n",
       "      <th>crash_date</th>\n",
       "      <th>crash_time</th>\n",
       "      <th>borough</th>\n",
       "      <th>zip_code</th>\n",
       "      <th>longitude</th>\n",
       "      <th>latitude</th>\n",
       "      <th>on_street_name</th>\n",
       "      <th>number_of_persons_injured</th>\n",
       "      <th>number_of_persons_killed</th>\n",
       "      <th>number_of_pedestrians_injured</th>\n",
       "      <th>number_of_pedestrians_killed</th>\n",
       "      <th>number_of_cyclist_injured</th>\n",
       "      <th>number_of_cyclist_killed</th>\n",
       "      <th>number_of_motorist_injured</th>\n",
       "      <th>number_of_motorist_killed</th>\n",
       "    </tr>\n",
       "  </thead>\n",
       "  <tbody>\n",
       "    <tr>\n",
       "      <th>0</th>\n",
       "      <td>2019-01-01T00:00:00.000</td>\n",
       "      <td>18:41</td>\n",
       "      <td>NaN</td>\n",
       "      <td>NaN</td>\n",
       "      <td>NaN</td>\n",
       "      <td>NaN</td>\n",
       "      <td>VERRAZANO BRIDGE UPPER</td>\n",
       "      <td>0</td>\n",
       "      <td>0</td>\n",
       "      <td>0</td>\n",
       "      <td>0</td>\n",
       "      <td>0</td>\n",
       "      <td>0</td>\n",
       "      <td>0</td>\n",
       "      <td>0</td>\n",
       "    </tr>\n",
       "    <tr>\n",
       "      <th>1</th>\n",
       "      <td>2019-01-01T00:00:00.000</td>\n",
       "      <td>1:30</td>\n",
       "      <td>NaN</td>\n",
       "      <td>NaN</td>\n",
       "      <td>NaN</td>\n",
       "      <td>NaN</td>\n",
       "      <td>NARROWS ROAD NORTH</td>\n",
       "      <td>1</td>\n",
       "      <td>0</td>\n",
       "      <td>0</td>\n",
       "      <td>0</td>\n",
       "      <td>0</td>\n",
       "      <td>0</td>\n",
       "      <td>1</td>\n",
       "      <td>0</td>\n",
       "    </tr>\n",
       "    <tr>\n",
       "      <th>2</th>\n",
       "      <td>2019-01-01T00:00:00.000</td>\n",
       "      <td>23:55</td>\n",
       "      <td>NaN</td>\n",
       "      <td>NaN</td>\n",
       "      <td>NaN</td>\n",
       "      <td>NaN</td>\n",
       "      <td>MARTIN LUTHER KING JR</td>\n",
       "      <td>1</td>\n",
       "      <td>0</td>\n",
       "      <td>0</td>\n",
       "      <td>0</td>\n",
       "      <td>0</td>\n",
       "      <td>0</td>\n",
       "      <td>1</td>\n",
       "      <td>0</td>\n",
       "    </tr>\n",
       "    <tr>\n",
       "      <th>3</th>\n",
       "      <td>2019-01-01T00:00:00.000</td>\n",
       "      <td>0:20</td>\n",
       "      <td>QUEENS</td>\n",
       "      <td>11377.0</td>\n",
       "      <td>-73.915855</td>\n",
       "      <td>40.743137</td>\n",
       "      <td>ROOSEVELT AVENUE</td>\n",
       "      <td>0</td>\n",
       "      <td>0</td>\n",
       "      <td>0</td>\n",
       "      <td>0</td>\n",
       "      <td>0</td>\n",
       "      <td>0</td>\n",
       "      <td>0</td>\n",
       "      <td>0</td>\n",
       "    </tr>\n",
       "    <tr>\n",
       "      <th>4</th>\n",
       "      <td>2019-01-01T00:00:00.000</td>\n",
       "      <td>3:30</td>\n",
       "      <td>QUEENS</td>\n",
       "      <td>11103.0</td>\n",
       "      <td>-73.913450</td>\n",
       "      <td>40.759020</td>\n",
       "      <td>NaN</td>\n",
       "      <td>1</td>\n",
       "      <td>0</td>\n",
       "      <td>0</td>\n",
       "      <td>0</td>\n",
       "      <td>0</td>\n",
       "      <td>0</td>\n",
       "      <td>1</td>\n",
       "      <td>0</td>\n",
       "    </tr>\n",
       "    <tr>\n",
       "      <th>...</th>\n",
       "      <td>...</td>\n",
       "      <td>...</td>\n",
       "      <td>...</td>\n",
       "      <td>...</td>\n",
       "      <td>...</td>\n",
       "      <td>...</td>\n",
       "      <td>...</td>\n",
       "      <td>...</td>\n",
       "      <td>...</td>\n",
       "      <td>...</td>\n",
       "      <td>...</td>\n",
       "      <td>...</td>\n",
       "      <td>...</td>\n",
       "      <td>...</td>\n",
       "      <td>...</td>\n",
       "    </tr>\n",
       "    <tr>\n",
       "      <th>995</th>\n",
       "      <td>2019-01-03T00:00:00.000</td>\n",
       "      <td>9:30</td>\n",
       "      <td>QUEENS</td>\n",
       "      <td>11429.0</td>\n",
       "      <td>-73.748660</td>\n",
       "      <td>40.713505</td>\n",
       "      <td>NaN</td>\n",
       "      <td>0</td>\n",
       "      <td>0</td>\n",
       "      <td>0</td>\n",
       "      <td>0</td>\n",
       "      <td>0</td>\n",
       "      <td>0</td>\n",
       "      <td>0</td>\n",
       "      <td>0</td>\n",
       "    </tr>\n",
       "    <tr>\n",
       "      <th>996</th>\n",
       "      <td>2019-01-03T00:00:00.000</td>\n",
       "      <td>8:55</td>\n",
       "      <td>QUEENS</td>\n",
       "      <td>11435.0</td>\n",
       "      <td>-73.810455</td>\n",
       "      <td>40.705524</td>\n",
       "      <td>NaN</td>\n",
       "      <td>0</td>\n",
       "      <td>0</td>\n",
       "      <td>0</td>\n",
       "      <td>0</td>\n",
       "      <td>0</td>\n",
       "      <td>0</td>\n",
       "      <td>0</td>\n",
       "      <td>0</td>\n",
       "    </tr>\n",
       "    <tr>\n",
       "      <th>997</th>\n",
       "      <td>2019-01-03T00:00:00.000</td>\n",
       "      <td>22:07</td>\n",
       "      <td>STATEN ISLAND</td>\n",
       "      <td>10312.0</td>\n",
       "      <td>-74.195290</td>\n",
       "      <td>40.547825</td>\n",
       "      <td>NaN</td>\n",
       "      <td>0</td>\n",
       "      <td>0</td>\n",
       "      <td>0</td>\n",
       "      <td>0</td>\n",
       "      <td>0</td>\n",
       "      <td>0</td>\n",
       "      <td>0</td>\n",
       "      <td>0</td>\n",
       "    </tr>\n",
       "    <tr>\n",
       "      <th>998</th>\n",
       "      <td>2019-01-03T00:00:00.000</td>\n",
       "      <td>20:00</td>\n",
       "      <td>MANHATTAN</td>\n",
       "      <td>10011.0</td>\n",
       "      <td>-73.995160</td>\n",
       "      <td>40.741455</td>\n",
       "      <td>NaN</td>\n",
       "      <td>0</td>\n",
       "      <td>0</td>\n",
       "      <td>0</td>\n",
       "      <td>0</td>\n",
       "      <td>0</td>\n",
       "      <td>0</td>\n",
       "      <td>0</td>\n",
       "      <td>0</td>\n",
       "    </tr>\n",
       "    <tr>\n",
       "      <th>999</th>\n",
       "      <td>2019-01-03T00:00:00.000</td>\n",
       "      <td>21:10</td>\n",
       "      <td>MANHATTAN</td>\n",
       "      <td>10036.0</td>\n",
       "      <td>-73.988750</td>\n",
       "      <td>40.758660</td>\n",
       "      <td>NaN</td>\n",
       "      <td>0</td>\n",
       "      <td>0</td>\n",
       "      <td>0</td>\n",
       "      <td>0</td>\n",
       "      <td>0</td>\n",
       "      <td>0</td>\n",
       "      <td>0</td>\n",
       "      <td>0</td>\n",
       "    </tr>\n",
       "  </tbody>\n",
       "</table>\n",
       "<p>1000 rows × 15 columns</p>\n",
       "</div>"
      ],
      "text/plain": [
       "                  crash_date crash_time        borough  zip_code  longitude  \\\n",
       "0    2019-01-01T00:00:00.000      18:41            NaN       NaN        NaN   \n",
       "1    2019-01-01T00:00:00.000       1:30            NaN       NaN        NaN   \n",
       "2    2019-01-01T00:00:00.000      23:55            NaN       NaN        NaN   \n",
       "3    2019-01-01T00:00:00.000       0:20         QUEENS   11377.0 -73.915855   \n",
       "4    2019-01-01T00:00:00.000       3:30         QUEENS   11103.0 -73.913450   \n",
       "..                       ...        ...            ...       ...        ...   \n",
       "995  2019-01-03T00:00:00.000       9:30         QUEENS   11429.0 -73.748660   \n",
       "996  2019-01-03T00:00:00.000       8:55         QUEENS   11435.0 -73.810455   \n",
       "997  2019-01-03T00:00:00.000      22:07  STATEN ISLAND   10312.0 -74.195290   \n",
       "998  2019-01-03T00:00:00.000      20:00      MANHATTAN   10011.0 -73.995160   \n",
       "999  2019-01-03T00:00:00.000      21:10      MANHATTAN   10036.0 -73.988750   \n",
       "\n",
       "      latitude                    on_street_name  number_of_persons_injured  \\\n",
       "0          NaN  VERRAZANO BRIDGE UPPER                                    0   \n",
       "1          NaN  NARROWS ROAD NORTH                                        1   \n",
       "2          NaN  MARTIN LUTHER KING JR                                     1   \n",
       "3    40.743137  ROOSEVELT AVENUE                                          0   \n",
       "4    40.759020                               NaN                          1   \n",
       "..         ...                               ...                        ...   \n",
       "995  40.713505                               NaN                          0   \n",
       "996  40.705524                               NaN                          0   \n",
       "997  40.547825                               NaN                          0   \n",
       "998  40.741455                               NaN                          0   \n",
       "999  40.758660                               NaN                          0   \n",
       "\n",
       "     number_of_persons_killed  number_of_pedestrians_injured  \\\n",
       "0                           0                              0   \n",
       "1                           0                              0   \n",
       "2                           0                              0   \n",
       "3                           0                              0   \n",
       "4                           0                              0   \n",
       "..                        ...                            ...   \n",
       "995                         0                              0   \n",
       "996                         0                              0   \n",
       "997                         0                              0   \n",
       "998                         0                              0   \n",
       "999                         0                              0   \n",
       "\n",
       "     number_of_pedestrians_killed  number_of_cyclist_injured  \\\n",
       "0                               0                          0   \n",
       "1                               0                          0   \n",
       "2                               0                          0   \n",
       "3                               0                          0   \n",
       "4                               0                          0   \n",
       "..                            ...                        ...   \n",
       "995                             0                          0   \n",
       "996                             0                          0   \n",
       "997                             0                          0   \n",
       "998                             0                          0   \n",
       "999                             0                          0   \n",
       "\n",
       "     number_of_cyclist_killed  number_of_motorist_injured  \\\n",
       "0                           0                           0   \n",
       "1                           0                           1   \n",
       "2                           0                           1   \n",
       "3                           0                           0   \n",
       "4                           0                           1   \n",
       "..                        ...                         ...   \n",
       "995                         0                           0   \n",
       "996                         0                           0   \n",
       "997                         0                           0   \n",
       "998                         0                           0   \n",
       "999                         0                           0   \n",
       "\n",
       "     number_of_motorist_killed  \n",
       "0                            0  \n",
       "1                            0  \n",
       "2                            0  \n",
       "3                            0  \n",
       "4                            0  \n",
       "..                         ...  \n",
       "995                          0  \n",
       "996                          0  \n",
       "997                          0  \n",
       "998                          0  \n",
       "999                          0  \n",
       "\n",
       "[1000 rows x 15 columns]"
      ]
     },
     "execution_count": 8,
     "metadata": {},
     "output_type": "execute_result"
    }
   ],
   "source": [
    "raw_data_crashes"
   ]
  },
  {
   "cell_type": "markdown",
   "metadata": {},
   "source": [
    "### Checking missing values"
   ]
  },
  {
   "cell_type": "code",
   "execution_count": 9,
   "metadata": {},
   "outputs": [
    {
     "data": {
      "text/plain": [
       "crash_date                         0\n",
       "crash_time                         0\n",
       "borough                          333\n",
       "zip_code                         333\n",
       "longitude                         91\n",
       "latitude                          91\n",
       "on_street_name                   254\n",
       "number_of_persons_injured          0\n",
       "number_of_persons_killed           0\n",
       "number_of_pedestrians_injured      0\n",
       "number_of_pedestrians_killed       0\n",
       "number_of_cyclist_injured          0\n",
       "number_of_cyclist_killed           0\n",
       "number_of_motorist_injured         0\n",
       "number_of_motorist_killed          0\n",
       "dtype: int64"
      ]
     },
     "execution_count": 9,
     "metadata": {},
     "output_type": "execute_result"
    }
   ],
   "source": [
    "raw_data_crashes.isna().sum()"
   ]
  },
  {
   "cell_type": "markdown",
   "metadata": {},
   "source": [
    "# Plotting total collisons, total injured, total killed, injured/collison and killed/collison"
   ]
  },
  {
   "cell_type": "markdown",
   "metadata": {},
   "source": [
    "### Dropping columns"
   ]
  },
  {
   "cell_type": "code",
   "execution_count": 69,
   "metadata": {},
   "outputs": [],
   "source": [
    "df = raw_data_crashes.drop(['zip_code', 'longitude','latitude','latitude','on_street_name','crash_time'], axis=1)"
   ]
  },
  {
   "cell_type": "markdown",
   "metadata": {},
   "source": [
    "### Converting crash time to datetime variable"
   ]
  },
  {
   "cell_type": "code",
   "execution_count": 57,
   "metadata": {},
   "outputs": [
    {
     "data": {
      "text/plain": [
       "crash_date                       object\n",
       "borough                          object\n",
       "number_of_persons_injured         int64\n",
       "number_of_persons_killed          int64\n",
       "number_of_pedestrians_injured     int64\n",
       "number_of_pedestrians_killed      int64\n",
       "number_of_cyclist_injured         int64\n",
       "number_of_cyclist_killed          int64\n",
       "number_of_motorist_injured        int64\n",
       "number_of_motorist_killed         int64\n",
       "dtype: object"
      ]
     },
     "execution_count": 57,
     "metadata": {},
     "output_type": "execute_result"
    }
   ],
   "source": [
    "df.dtypes"
   ]
  },
  {
   "cell_type": "code",
   "execution_count": 61,
   "metadata": {},
   "outputs": [],
   "source": [
    "df['crash_date'] = pd.to_datetime(df['crash_date'])"
   ]
  },
  {
   "cell_type": "code",
   "execution_count": 71,
   "metadata": {},
   "outputs": [
    {
     "ename": "KeyboardInterrupt",
     "evalue": "",
     "output_type": "error",
     "traceback": [
      "\u001b[1;31m---------------------------------------------------------------------------\u001b[0m",
      "\u001b[1;31mKeyError\u001b[0m                                  Traceback (most recent call last)",
      "File \u001b[1;32m_pydevd_frame_eval/pydevd_frame_evaluator.pyx:256\u001b[0m, in \u001b[0;36m_pydevd_frame_eval.pydevd_frame_evaluator.get_func_code_info\u001b[1;34m()\u001b[0m\n",
      "\u001b[1;31mKeyError\u001b[0m: 'd:\\\\Documents\\\\Masters\\\\3rd Semester\\\\Applied Data Science - GR5243\\\\fall2022-project2-group4\\\\.venv\\\\lib\\\\site-packages\\\\pandas\\\\core\\\\internals\\\\blocks.py'",
      "\nDuring handling of the above exception, another exception occurred:\n",
      "\u001b[1;31mKeyError\u001b[0m                                  Traceback (most recent call last)",
      "File \u001b[1;32md:\\Documents\\Masters\\3rd Semester\\Applied Data Science - GR5243\\fall2022-project2-group4\\.venv\\lib\\site-packages\\debugpy\\_vendored\\pydevd\\pydevd_file_utils.py:867\u001b[0m, in \u001b[0;36mget_abs_path_real_path_and_base_from_frame\u001b[1;34m(frame, NORM_PATHS_AND_BASE_CONTAINER)\u001b[0m\n\u001b[0;32m    866\u001b[0m \u001b[39mtry\u001b[39;00m:\n\u001b[1;32m--> 867\u001b[0m     \u001b[39mreturn\u001b[39;00m NORM_PATHS_AND_BASE_CONTAINER[frame\u001b[39m.\u001b[39;49mf_code\u001b[39m.\u001b[39;49mco_filename]\n\u001b[0;32m    868\u001b[0m \u001b[39mexcept\u001b[39;00m:\n\u001b[0;32m    869\u001b[0m     \u001b[39m# This one is just internal (so, does not need any kind of client-server translation)\u001b[39;00m\n",
      "\u001b[1;31mKeyError\u001b[0m: 'd:\\\\Documents\\\\Masters\\\\3rd Semester\\\\Applied Data Science - GR5243\\\\fall2022-project2-group4\\\\.venv\\\\lib\\\\site-packages\\\\pandas\\\\core\\\\internals\\\\blocks.py'",
      "\nDuring handling of the above exception, another exception occurred:\n",
      "\u001b[1;31mKeyError\u001b[0m                                  Traceback (most recent call last)",
      "File \u001b[1;32md:\\Documents\\Masters\\3rd Semester\\Applied Data Science - GR5243\\fall2022-project2-group4\\.venv\\lib\\site-packages\\debugpy\\_vendored\\pydevd\\pydevd_file_utils.py:831\u001b[0m, in \u001b[0;36mget_abs_path_real_path_and_base_from_file\u001b[1;34m(filename, NORM_PATHS_AND_BASE_CONTAINER)\u001b[0m\n\u001b[0;32m    830\u001b[0m \u001b[39mtry\u001b[39;00m:\n\u001b[1;32m--> 831\u001b[0m     \u001b[39mreturn\u001b[39;00m NORM_PATHS_AND_BASE_CONTAINER[filename]\n\u001b[0;32m    832\u001b[0m \u001b[39mexcept\u001b[39;00m:\n",
      "\u001b[1;31mKeyError\u001b[0m: 'd:\\\\Documents\\\\Masters\\\\3rd Semester\\\\Applied Data Science - GR5243\\\\fall2022-project2-group4\\\\.venv\\\\lib\\\\site-packages\\\\pandas\\\\core\\\\internals\\\\blocks.py'",
      "\nDuring handling of the above exception, another exception occurred:\n",
      "\u001b[1;31mKeyError\u001b[0m                                  Traceback (most recent call last)",
      "File \u001b[1;32md:\\Documents\\Masters\\3rd Semester\\Applied Data Science - GR5243\\fall2022-project2-group4\\.venv\\lib\\site-packages\\debugpy\\_vendored\\pydevd\\pydevd_file_utils.py:385\u001b[0m, in \u001b[0;36m_abs_and_canonical_path\u001b[1;34m(filename, NORM_PATHS_CONTAINER)\u001b[0m\n\u001b[0;32m    384\u001b[0m \u001b[39mtry\u001b[39;00m:\n\u001b[1;32m--> 385\u001b[0m     \u001b[39mreturn\u001b[39;00m NORM_PATHS_CONTAINER[filename]\n\u001b[0;32m    386\u001b[0m \u001b[39mexcept\u001b[39;00m:\n",
      "\u001b[1;31mKeyError\u001b[0m: 'd:\\\\Documents\\\\Masters\\\\3rd Semester\\\\Applied Data Science - GR5243\\\\fall2022-project2-group4\\\\.venv\\\\lib\\\\site-packages\\\\pandas\\\\core\\\\internals\\\\blocks.py'",
      "\nDuring handling of the above exception, another exception occurred:\n",
      "\u001b[1;31mKeyboardInterrupt\u001b[0m                         Traceback (most recent call last)",
      "File \u001b[1;32m_pydevd_frame_eval/pydevd_frame_evaluator.pyx:258\u001b[0m, in \u001b[0;36m_pydevd_frame_eval.pydevd_frame_evaluator.get_func_code_info\u001b[1;34m()\u001b[0m\n",
      "File \u001b[1;32md:\\Documents\\Masters\\3rd Semester\\Applied Data Science - GR5243\\fall2022-project2-group4\\.venv\\lib\\site-packages\\debugpy\\_vendored\\pydevd\\pydevd_file_utils.py:885\u001b[0m, in \u001b[0;36mget_abs_path_real_path_and_base_from_frame\u001b[1;34m(frame, NORM_PATHS_AND_BASE_CONTAINER)\u001b[0m\n\u001b[0;32m    882\u001b[0m     i \u001b[39m=\u001b[39m \u001b[39mmax\u001b[39m(f\u001b[39m.\u001b[39mrfind(\u001b[39m'\u001b[39m\u001b[39m/\u001b[39m\u001b[39m'\u001b[39m), f\u001b[39m.\u001b[39mrfind(\u001b[39m'\u001b[39m\u001b[39m\\\\\u001b[39;00m\u001b[39m'\u001b[39m))\n\u001b[0;32m    883\u001b[0m     \u001b[39mreturn\u001b[39;00m f, f, f[i \u001b[39m+\u001b[39m \u001b[39m1\u001b[39m:]\n\u001b[1;32m--> 885\u001b[0m ret \u001b[39m=\u001b[39m get_abs_path_real_path_and_base_from_file(f)\n\u001b[0;32m    886\u001b[0m \u001b[39m# Also cache based on the frame.f_code.co_filename (if we had it inside build/bdist it can make a difference).\u001b[39;00m\n\u001b[0;32m    887\u001b[0m NORM_PATHS_AND_BASE_CONTAINER[frame\u001b[39m.\u001b[39mf_code\u001b[39m.\u001b[39mco_filename] \u001b[39m=\u001b[39m ret\n",
      "File \u001b[1;32md:\\Documents\\Masters\\3rd Semester\\Applied Data Science - GR5243\\fall2022-project2-group4\\.venv\\lib\\site-packages\\debugpy\\_vendored\\pydevd\\pydevd_file_utils.py:852\u001b[0m, in \u001b[0;36mget_abs_path_real_path_and_base_from_file\u001b[1;34m(filename, NORM_PATHS_AND_BASE_CONTAINER)\u001b[0m\n\u001b[0;32m    849\u001b[0m     \u001b[39melif\u001b[39;00m f\u001b[39m.\u001b[39mendswith(\u001b[39m'\u001b[39m\u001b[39m$py.class\u001b[39m\u001b[39m'\u001b[39m):\n\u001b[0;32m    850\u001b[0m         f \u001b[39m=\u001b[39m f[:\u001b[39m-\u001b[39m\u001b[39mlen\u001b[39m(\u001b[39m'\u001b[39m\u001b[39m$py.class\u001b[39m\u001b[39m'\u001b[39m)] \u001b[39m+\u001b[39m \u001b[39m'\u001b[39m\u001b[39m.py\u001b[39m\u001b[39m'\u001b[39m\n\u001b[1;32m--> 852\u001b[0m abs_path, canonical_normalized_filename \u001b[39m=\u001b[39m _abs_and_canonical_path(f)\n\u001b[0;32m    854\u001b[0m \u001b[39mtry\u001b[39;00m:\n\u001b[0;32m    855\u001b[0m     base \u001b[39m=\u001b[39m os_path_basename(canonical_normalized_filename)\n",
      "File \u001b[1;32md:\\Documents\\Masters\\3rd Semester\\Applied Data Science - GR5243\\fall2022-project2-group4\\.venv\\lib\\site-packages\\debugpy\\_vendored\\pydevd\\pydevd_file_utils.py:411\u001b[0m, in \u001b[0;36m_abs_and_canonical_path\u001b[1;34m(filename, NORM_PATHS_CONTAINER)\u001b[0m\n\u001b[0;32m    408\u001b[0m abs_path \u001b[39m=\u001b[39m _apply_func_and_normalize_case(filename, os_path_abspath, isabs, normalize)\n\u001b[0;32m    410\u001b[0m normalize \u001b[39m=\u001b[39m \u001b[39mTrue\u001b[39;00m\n\u001b[1;32m--> 411\u001b[0m real_path \u001b[39m=\u001b[39m _apply_func_and_normalize_case(filename, os_path_real_path, isabs, normalize)\n\u001b[0;32m    413\u001b[0m \u001b[39m# cache it for fast access later\u001b[39;00m\n\u001b[0;32m    414\u001b[0m NORM_PATHS_CONTAINER[filename] \u001b[39m=\u001b[39m abs_path, real_path\n",
      "File \u001b[1;32md:\\Documents\\Masters\\3rd Semester\\Applied Data Science - GR5243\\fall2022-project2-group4\\.venv\\lib\\site-packages\\debugpy\\_vendored\\pydevd\\pydevd_file_utils.py:438\u001b[0m, in \u001b[0;36m_apply_func_and_normalize_case\u001b[1;34m(filename, func, isabs, normalize_case, os_path_exists, join)\u001b[0m\n\u001b[0;32m    433\u001b[0m \u001b[39mif\u001b[39;00m filename\u001b[39m.\u001b[39mstartswith(\u001b[39m'\u001b[39m\u001b[39m<\u001b[39m\u001b[39m'\u001b[39m):\n\u001b[0;32m    434\u001b[0m     \u001b[39m# Not really a file, rather a synthetic name like <string> or <ipython-...>;\u001b[39;00m\n\u001b[0;32m    435\u001b[0m     \u001b[39m# shouldn't be normalized.\u001b[39;00m\n\u001b[0;32m    436\u001b[0m     \u001b[39mreturn\u001b[39;00m filename\n\u001b[1;32m--> 438\u001b[0m r \u001b[39m=\u001b[39m func(filename)\n\u001b[0;32m    440\u001b[0m \u001b[39mif\u001b[39;00m \u001b[39mnot\u001b[39;00m isabs:\n\u001b[0;32m    441\u001b[0m     \u001b[39mif\u001b[39;00m \u001b[39mnot\u001b[39;00m os_path_exists(r):\n",
      "File \u001b[1;32mD:\\Python\\lib\\ntpath.py:660\u001b[0m, in \u001b[0;36mrealpath\u001b[1;34m(path, strict)\u001b[0m\n\u001b[0;32m    658\u001b[0m     path \u001b[39m=\u001b[39m join(cwd, path)\n\u001b[0;32m    659\u001b[0m \u001b[39mtry\u001b[39;00m:\n\u001b[1;32m--> 660\u001b[0m     path \u001b[39m=\u001b[39m _getfinalpathname(path)\n\u001b[0;32m    661\u001b[0m     initial_winerror \u001b[39m=\u001b[39m \u001b[39m0\u001b[39m\n\u001b[0;32m    662\u001b[0m \u001b[39mexcept\u001b[39;00m \u001b[39mOSError\u001b[39;00m \u001b[39mas\u001b[39;00m ex:\n",
      "\u001b[1;31mKeyboardInterrupt\u001b[0m: "
     ]
    },
    {
     "name": "stderr",
     "output_type": "stream",
     "text": [
      "Exception ignored in: '_pydevd_frame_eval.pydevd_frame_evaluator.get_bytecode_while_frame_eval_39'\n",
      "Traceback (most recent call last):\n",
      "  File \"_pydevd_frame_eval/pydevd_frame_evaluator.pyx\", line 258, in _pydevd_frame_eval.pydevd_frame_evaluator.get_func_code_info\n",
      "  File \"d:\\Documents\\Masters\\3rd Semester\\Applied Data Science - GR5243\\fall2022-project2-group4\\.venv\\lib\\site-packages\\debugpy\\_vendored\\pydevd\\pydevd_file_utils.py\", line 885, in get_abs_path_real_path_and_base_from_frame\n",
      "    ret = get_abs_path_real_path_and_base_from_file(f)\n",
      "  File \"d:\\Documents\\Masters\\3rd Semester\\Applied Data Science - GR5243\\fall2022-project2-group4\\.venv\\lib\\site-packages\\debugpy\\_vendored\\pydevd\\pydevd_file_utils.py\", line 852, in get_abs_path_real_path_and_base_from_file\n",
      "    abs_path, canonical_normalized_filename = _abs_and_canonical_path(f)\n",
      "  File \"d:\\Documents\\Masters\\3rd Semester\\Applied Data Science - GR5243\\fall2022-project2-group4\\.venv\\lib\\site-packages\\debugpy\\_vendored\\pydevd\\pydevd_file_utils.py\", line 411, in _abs_and_canonical_path\n",
      "    real_path = _apply_func_and_normalize_case(filename, os_path_real_path, isabs, normalize)\n",
      "  File \"d:\\Documents\\Masters\\3rd Semester\\Applied Data Science - GR5243\\fall2022-project2-group4\\.venv\\lib\\site-packages\\debugpy\\_vendored\\pydevd\\pydevd_file_utils.py\", line 438, in _apply_func_and_normalize_case\n",
      "    r = func(filename)\n",
      "  File \"D:\\Python\\lib\\ntpath.py\", line 660, in realpath\n",
      "    path = _getfinalpathname(path)\n",
      "KeyboardInterrupt: \n"
     ]
    },
    {
     "ename": "SystemError",
     "evalue": "<function new_block at 0x00000190F1465A20> returned NULL without setting an exception",
     "output_type": "error",
     "traceback": [
      "\u001b[1;31m---------------------------------------------------------------------------\u001b[0m",
      "\u001b[1;31mSystemError\u001b[0m                               Traceback (most recent call last)",
      "Cell \u001b[1;32mIn [71], line 1\u001b[0m\n\u001b[1;32m----> 1\u001b[0m df\u001b[39m.\u001b[39mdtypes, df\u001b[39m.\u001b[39mshape\n",
      "File \u001b[1;32md:\\Documents\\Masters\\3rd Semester\\Applied Data Science - GR5243\\fall2022-project2-group4\\.venv\\lib\\site-packages\\pandas\\core\\generic.py:6079\u001b[0m, in \u001b[0;36mNDFrame.dtypes\u001b[1;34m(self)\u001b[0m\n\u001b[0;32m   6052\u001b[0m \u001b[39m\"\"\"\u001b[39;00m\n\u001b[0;32m   6053\u001b[0m \u001b[39mReturn the dtypes in the DataFrame.\u001b[39;00m\n\u001b[0;32m   6054\u001b[0m \n\u001b[1;32m   (...)\u001b[0m\n\u001b[0;32m   6076\u001b[0m \u001b[39mdtype: object\u001b[39;00m\n\u001b[0;32m   6077\u001b[0m \u001b[39m\"\"\"\u001b[39;00m\n\u001b[0;32m   6078\u001b[0m data \u001b[39m=\u001b[39m \u001b[39mself\u001b[39m\u001b[39m.\u001b[39m_mgr\u001b[39m.\u001b[39mget_dtypes()\n\u001b[1;32m-> 6079\u001b[0m \u001b[39mreturn\u001b[39;00m \u001b[39mself\u001b[39;49m\u001b[39m.\u001b[39;49m_constructor_sliced(data, index\u001b[39m=\u001b[39;49m\u001b[39mself\u001b[39;49m\u001b[39m.\u001b[39;49m_info_axis, dtype\u001b[39m=\u001b[39;49mnp\u001b[39m.\u001b[39;49mobject_)\n",
      "File \u001b[1;32md:\\Documents\\Masters\\3rd Semester\\Applied Data Science - GR5243\\fall2022-project2-group4\\.venv\\lib\\site-packages\\pandas\\core\\series.py:475\u001b[0m, in \u001b[0;36mSeries.__init__\u001b[1;34m(self, data, index, dtype, name, copy, fastpath)\u001b[0m\n\u001b[0;32m    473\u001b[0m manager \u001b[39m=\u001b[39m get_option(\u001b[39m\"\u001b[39m\u001b[39mmode.data_manager\u001b[39m\u001b[39m\"\u001b[39m)\n\u001b[0;32m    474\u001b[0m \u001b[39mif\u001b[39;00m manager \u001b[39m==\u001b[39m \u001b[39m\"\u001b[39m\u001b[39mblock\u001b[39m\u001b[39m\"\u001b[39m:\n\u001b[1;32m--> 475\u001b[0m     data \u001b[39m=\u001b[39m SingleBlockManager\u001b[39m.\u001b[39;49mfrom_array(data, index)\n\u001b[0;32m    476\u001b[0m \u001b[39melif\u001b[39;00m manager \u001b[39m==\u001b[39m \u001b[39m\"\u001b[39m\u001b[39marray\u001b[39m\u001b[39m\"\u001b[39m:\n\u001b[0;32m    477\u001b[0m     data \u001b[39m=\u001b[39m SingleArrayManager\u001b[39m.\u001b[39mfrom_array(data, index)\n",
      "File \u001b[1;32md:\\Documents\\Masters\\3rd Semester\\Applied Data Science - GR5243\\fall2022-project2-group4\\.venv\\lib\\site-packages\\pandas\\core\\internals\\managers.py:1913\u001b[0m, in \u001b[0;36mSingleBlockManager.from_array\u001b[1;34m(cls, array, index)\u001b[0m\n\u001b[0;32m   1908\u001b[0m \u001b[39m@classmethod\u001b[39m\n\u001b[0;32m   1909\u001b[0m \u001b[39mdef\u001b[39;00m \u001b[39mfrom_array\u001b[39m(\u001b[39mcls\u001b[39m, array: ArrayLike, index: Index) \u001b[39m-\u001b[39m\u001b[39m>\u001b[39m SingleBlockManager:\n\u001b[0;32m   1910\u001b[0m     \u001b[39m\"\"\"\u001b[39;00m\n\u001b[0;32m   1911\u001b[0m \u001b[39m    Constructor for if we have an array that is not yet a Block.\u001b[39;00m\n\u001b[0;32m   1912\u001b[0m \u001b[39m    \"\"\"\u001b[39;00m\n\u001b[1;32m-> 1913\u001b[0m     block \u001b[39m=\u001b[39m new_block(array, placement\u001b[39m=\u001b[39;49m\u001b[39mslice\u001b[39;49m(\u001b[39m0\u001b[39;49m, \u001b[39mlen\u001b[39;49m(index)), ndim\u001b[39m=\u001b[39;49m\u001b[39m1\u001b[39;49m)\n\u001b[0;32m   1914\u001b[0m     \u001b[39mreturn\u001b[39;00m \u001b[39mcls\u001b[39m(block, index)\n",
      "\u001b[1;31mSystemError\u001b[0m: <function new_block at 0x00000190F1465A20> returned NULL without setting an exception"
     ]
    }
   ],
   "source": [
    "df.dtypes, df.shape"
   ]
  },
  {
   "cell_type": "markdown",
   "metadata": {},
   "source": [
    "### Adding 1 column for counting number of collisions in a particular month"
   ]
  },
  {
   "cell_type": "code",
   "execution_count": 64,
   "metadata": {},
   "outputs": [],
   "source": [
    "df[\"collisions\"]=1"
   ]
  },
  {
   "cell_type": "code",
   "execution_count": 68,
   "metadata": {},
   "outputs": [
    {
     "data": {
      "text/html": [
       "<div>\n",
       "<style scoped>\n",
       "    .dataframe tbody tr th:only-of-type {\n",
       "        vertical-align: middle;\n",
       "    }\n",
       "\n",
       "    .dataframe tbody tr th {\n",
       "        vertical-align: top;\n",
       "    }\n",
       "\n",
       "    .dataframe thead th {\n",
       "        text-align: right;\n",
       "    }\n",
       "</style>\n",
       "<table border=\"1\" class=\"dataframe\">\n",
       "  <thead>\n",
       "    <tr style=\"text-align: right;\">\n",
       "      <th></th>\n",
       "      <th>number_of_persons_injured</th>\n",
       "      <th>number_of_persons_killed</th>\n",
       "      <th>number_of_pedestrians_injured</th>\n",
       "      <th>number_of_pedestrians_killed</th>\n",
       "      <th>number_of_cyclist_injured</th>\n",
       "      <th>number_of_cyclist_killed</th>\n",
       "      <th>number_of_motorist_injured</th>\n",
       "      <th>number_of_motorist_killed</th>\n",
       "      <th>collisions</th>\n",
       "    </tr>\n",
       "    <tr>\n",
       "      <th>crash_date</th>\n",
       "      <th></th>\n",
       "      <th></th>\n",
       "      <th></th>\n",
       "      <th></th>\n",
       "      <th></th>\n",
       "      <th></th>\n",
       "      <th></th>\n",
       "      <th></th>\n",
       "      <th></th>\n",
       "    </tr>\n",
       "  </thead>\n",
       "  <tbody>\n",
       "    <tr>\n",
       "      <th>2019-01-31</th>\n",
       "      <td>284</td>\n",
       "      <td>2</td>\n",
       "      <td>57</td>\n",
       "      <td>1</td>\n",
       "      <td>13</td>\n",
       "      <td>1</td>\n",
       "      <td>214</td>\n",
       "      <td>0</td>\n",
       "      <td>1000</td>\n",
       "    </tr>\n",
       "  </tbody>\n",
       "</table>\n",
       "</div>"
      ],
      "text/plain": [
       "            number_of_persons_injured  number_of_persons_killed  \\\n",
       "crash_date                                                        \n",
       "2019-01-31                        284                         2   \n",
       "\n",
       "            number_of_pedestrians_injured  number_of_pedestrians_killed  \\\n",
       "crash_date                                                                \n",
       "2019-01-31                             57                             1   \n",
       "\n",
       "            number_of_cyclist_injured  number_of_cyclist_killed  \\\n",
       "crash_date                                                        \n",
       "2019-01-31                         13                         1   \n",
       "\n",
       "            number_of_motorist_injured  number_of_motorist_killed  collisions  \n",
       "crash_date                                                                     \n",
       "2019-01-31                         214                          0        1000  "
      ]
     },
     "execution_count": 68,
     "metadata": {},
     "output_type": "execute_result"
    }
   ],
   "source": [
    "df.head()"
   ]
  },
  {
   "cell_type": "markdown",
   "metadata": {},
   "source": [
    "### Grouping columns based on month"
   ]
  },
  {
   "cell_type": "code",
   "execution_count": 67,
   "metadata": {},
   "outputs": [
    {
     "name": "stderr",
     "output_type": "stream",
     "text": [
      "C:\\Users\\alixl\\AppData\\Local\\Temp\\ipykernel_9172\\835002635.py:1: FutureWarning: The default value of numeric_only in DataFrameGroupBy.sum is deprecated. In a future version, numeric_only will default to False. Either specify numeric_only or select only columns which should be valid for the function.\n",
      "  df = df.resample('M', on='crash_date').sum()\n"
     ]
    }
   ],
   "source": [
    "df = df.resample('M', on='crash_date').sum()"
   ]
  },
  {
   "cell_type": "code",
   "execution_count": null,
   "metadata": {},
   "outputs": [],
   "source": []
  },
  {
   "cell_type": "code",
   "execution_count": 17,
   "metadata": {},
   "outputs": [],
   "source": [
    "# Adding severity columns\n",
    "\n",
    "df[\"severity_injuries\"] = df[\"number_of_persons_injured\"]/df[\"collisions\"]\n",
    "df[\"severity_killed\"] = df[\"number_of_persons_killed\"]/df[\"collisions\"]"
   ]
  },
  {
   "cell_type": "code",
   "execution_count": 18,
   "metadata": {},
   "outputs": [
    {
     "data": {
      "image/png": "iVBORw0KGgoAAAANSUhEUgAAAjAAAAHJCAYAAACbhAMjAAAAOXRFWHRTb2Z0d2FyZQBNYXRwbG90bGliIHZlcnNpb24zLjYuMSwgaHR0cHM6Ly9tYXRwbG90bGliLm9yZy/av/WaAAAACXBIWXMAAA9hAAAPYQGoP6dpAAA1ZElEQVR4nO3deXRTdf7/8VcCNC10oyAtlbaAKIsiKigWKi5UKjgIigqoCMoiDugPUVScQZARQdRBERDHERH84vB1FMQFEJFl1MrSsYAIFRAEKS0u0LCWpZ/fH5zkS6XVLinp5/b5OCfnTPNJb94vbw95zc3NjcsYYwQAAGARd7AHAAAAKC0KDAAAsA4FBgAAWIcCAwAArEOBAQAA1qHAAAAA61BgAACAdSgwAADAOtWDPUBFKSgoUHZ2tiIiIuRyuYI9DgAAKAFjjA4cOKD4+Hi53cUfZ3FsgcnOzlZCQkKwxwAAAGWwa9cuNWjQoNh1xxaYiIgISaf+A0RGRgZ5GgAAUBJer1cJCQn+1/HiOLbA+N42ioyMpMAAAGCZPzr9g5N4AQCAdSgwAADAOhQYAABgHceeAwMANjl58qSOHz8e7DGAClejRg1Vq1at3NuhwABAEBljlJOTo/379wd7FOCsiY6OVlxcXLmu00aBAYAg8pWXevXqqWbNmlx4E45mjNHhw4e1d+9eSVL9+vXLvC0KDAAEycmTJ/3lpU6dOsEeBzgrwsLCJEl79+5VvXr1yvx2EifxAkCQ+M55qVmzZpAnAc4u3998ec77osAAQJDxthGqmkD8zVNgAACAdSgwAACr7NixQy6XS5mZmcEexW/z5s268sorFRoaqksuuaRCnqNfv37q3r27/+drrrlGw4YN8//csGFDvfjiiyXaVmkeW1lRYAAApdKvXz+5XC5NmDCh0P3z58+vsm+HjR49WrVq1VJWVpaWLl0alBnWrFmjQYMGBfyxlRUFBgBQaqGhoXr22We1b9++YI8SMMeOHSvz727btk0pKSlKSkoK2ifKzjnnnBKfEF6ax1ZWFBgAQKmlpqYqLi5O48ePL/YxY8aMOePtlBdffFENGzb0/+x7W+SZZ55RbGysoqOjNXbsWJ04cUIjRoxQTEyMGjRooDfeeOOM7W/evFnt2rVTaGioLrroIq1YsaLQ+jfffKPOnTsrPDxcsbGx6tOnj37++Wf/+jXXXKOhQ4dq2LBhqlu3rtLS0orMUVBQoLFjx6pBgwbyeDy65JJLtGjRIv+6y+VSRkaGxo4dK5fLpTFjxhS7nYkTJ6pJkybyeDxKTEzUuHHj/OsbNmzQddddp7CwMNWpU0eDBg3SwYMHi/vPe4bT3xYyxmjMmDFKTEyUx+NRfHy8HnzwwSIfK0k7d+5Ut27dFB4ersjISN1+++3Kzc31r/v25ezZs9WwYUNFRUWpV69eOnDggP8x//73v9WyZUv//KmpqTp06FCJ5y8tCgwAVBLGGB3KPxSUmzGmVLNWq1ZNzzzzjF5++WX9+OOP5cr92WefKTs7WytXrtTf//53jR49Wn/6059Uu3ZtrVq1SoMHD9Z99913xvOMGDFCDz/8sL7++mslJyera9eu+uWXXyRJ+/fv13XXXadLL71Ua9eu1aJFi5Sbm6vbb7+90DbefPNNhYSE6IsvvtD06dOLnO+ll17SCy+8oOeff17r169XWlqabrrpJm3ZskWStGfPHl144YV6+OGHtWfPHj3yyCNFbmfkyJGaMGGCRo0apW+//VZz5sxRbGysJOnQoUNKS0tT7dq1tWbNGr3zzjv69NNPNXTo0DL9N3333Xc1adIkvfrqq9qyZYvmz5+vli1bFvnYgoICdevWTb/++qtWrFihJUuW6Pvvv1fPnj0LPW7btm2aP3++PvzwQ3344YdasWKF/23EPXv2qHfv3rr33nu1adMmLV++XLfcckup/65KgwvZAUAlcfjYYYUPDQ/Kcx+cclC1PLVK9Ts333yzLrnkEo0ePVqvv/56mZ87JiZGkydPltvtVtOmTTVx4kQdPnxYTzzxhKT/e+H//PPP1atXL//vDR06VD169JAkvfLKK1q0aJFef/11Pfroo5oyZYouvfRSPfPMM/7Hz5gxQwkJCfruu+90wQUXSJLOP/98TZw48Xfne/755/XYY4/5n/vZZ5/VsmXL9OKLL2rq1KmKi4tT9erVFR4erri4uCK3ceDAAb300kuaMmWK+vbtK0k677zzlJKSIkmaM2eOjh49qlmzZqlWrVP7YcqUKerataueffZZf9EpqZ07dyouLk6pqamqUaOGEhMTdcUVVxT52KVLl2rDhg3avn27EhISJEmzZs3ShRdeqDVr1ujyyy+XdKrozJw5UxEREZKkPn36aOnSpRo3bpz27NmjEydO6JZbblFSUpIkFVuYAoUjMACAMnv22Wf15ptvatOmTWXexoUXXii3+/9ejmJjYwu9+FWrVk116tTxX37eJzk52f+/q1evrjZt2vjnWLdunZYtW6bw8HD/rVmzZpJOHUnwad269e/O5vV6lZ2drfbt2xe6v3379qXKvGnTJuXn56tjx47Frrdq1cpfXnzPUVBQoKysrBI/j89tt92mI0eOqHHjxho4cKDmzZunEydOFPvcCQkJ/vIiSS1atFB0dHShjA0bNvSXF+nU1wD49kmrVq3UsWNHtWzZUrfddptee+21Cj8/iiMwAFBJ1AypqYNTSn7OQ6Cfuyw6dOigtLQ0jRw5Uv369Su05na7z3gLoagrr9aoUaPQzy6Xq8j7CgoKSjzXwYMH/Ucvfuv07985vTBUJN/l88+WhIQEZWVl6dNPP9WSJUv05z//Wc8995xWrFhxxn/bkvq9fVKtWjUtWbJEX375pT755BO9/PLL+stf/qJVq1apUaNG5c5TFI7AAEAl4XK5VMtTKyi38nz8ecKECfrggw+Unp5e6P5zzjlHOTk5hUpMIK/d8tVXX/n/94kTJ5SRkaHmzZtLki677DJt3LhRDRs2VJMmTQrdSlNaIiMjFR8fry+++KLQ/V988YVatGhR4u2cf/75CgsLK/Yj1s2bN9e6desKnfT6xRdf+N9WK4uwsDB17dpVkydP1vLly5Wenq4NGzYU+dy7du3Srl27/Pd9++232r9/f6kyulwutW/fXk899ZS+/vprhYSEaN68eWWavSQoMACAcmnZsqXuvPNOTZ48udD911xzjX766SdNnDhR27Zt09SpU7Vw4cKAPe/UqVM1b948bd68WUOGDNG+fft07733SpKGDBmiX3/9Vb1799aaNWu0bds2LV68WPfcc49OnjxZqucZMWKEnn32Wc2dO1dZWVl6/PHHlZmZqf/3//5fibcRGhqqxx57TI8++qhmzZqlbdu26auvvvKfO3TnnXcqNDRUffv21TfffKNly5bpgQceUJ8+fUp9/oskzZw5U6+//rq++eYbff/993rrrbcUFhbmPz/ldKmpqf59+N///lerV6/W3Xffrauvvlpt2rQp0fOtWrVKzzzzjNauXaudO3fqvffe008//eQvlBWBAgMAKLexY8ee8RZP8+bNNW3aNE2dOlWtWrXS6tWri/2ETllMmDBBEyZMUKtWrfT5559rwYIFqlu3riT5j5qcPHlSnTp1UsuWLTVs2DBFR0cXOt+mJB588EENHz5cDz/8sFq2bKlFixZpwYIFOv/880u1nVGjRunhhx/Wk08+qebNm6tnz57+c0hq1qypxYsX69dff9Xll1+uW2+9VR07dtSUKVNK9Rw+0dHReu2119S+fXtdfPHF+vTTT/XBBx8UeY0al8ul999/X7Vr11aHDh2Umpqqxo0ba+7cuSV+vsjISK1cuVJdunTRBRdcoL/+9a964YUX1Llz5zLNXxIuU5GfcQoir9erqKgo5eXlKTIyMtjjAMAZjh49qu3bt6tRo0YKDQ0N9jjAWfN7f/slff3mCAwAALAOBQYAAFiHAgMAAKxDgQEAANahwABAkDn0sxRAsQLxN0+BAYAg8V3Z9PDhw0GeBDi7fH/zZb0qsMRXCQBA0FSrVk3R0dGFrgVSniviApWdMUaHDx/W3r17FR0drWrVqpV5WxQYAAgi37cX//aLCgEni46OLvabu0uKAgMAQeRyuVS/fn3Vq1evyC86BJymRo0a5Try4kOBAYBKoFq1agH5Rx2oKjiJFwAAWIcCAwAArEOBAQAA1qHAAAAA61BgAACAdSgwAADAOhQYAABgHQoMAACwDgUGAABYhwIDAACsQ4EBAADWKXWBWblypbp27ar4+Hi5XC7Nnz+/0LoxRk8++aTq16+vsLAwpaamasuWLUVuKz8/X5dccolcLpcyMzMLra1fv15XXXWVQkNDlZCQoIkTJ5Z2VAAA4FClLjCHDh1Sq1atNHXq1CLXJ06cqMmTJ2v69OlatWqVatWqpbS0NB09evSMxz766KOKj48/436v16tOnTopKSlJGRkZeu655zRmzBj94x//KO24AADAgUr9bdSdO3dW586di1wzxujFF1/UX//6V3Xr1k2SNGvWLMXGxmr+/Pnq1auX/7ELFy7UJ598onfffVcLFy4stJ3/+Z//0bFjxzRjxgyFhITowgsvVGZmpv7+979r0KBBpR0ZAAA4TEDPgdm+fbtycnKUmprqvy8qKkpt27ZVenq6/77c3FwNHDhQs2fPVs2aNc/YTnp6ujp06KCQkBD/fWlpacrKytK+ffuKfO78/Hx5vd5CNwAA4EwBLTA5OTmSpNjY2EL3x8bG+teMMerXr58GDx6sNm3aFLudorZx+nP81vjx4xUVFeW/JSQklCsLAACovM76p5BefvllHThwQCNHjgzodkeOHKm8vDz/bdeuXQHdPgAAqDwCWmDi4uIknXqL6HS5ubn+tc8++0zp6enyeDyqXr26mjRpIklq06aN+vbt699OUds4/Tl+y+PxKDIystANAAA4U0ALTKNGjRQXF6elS5f67/N6vVq1apWSk5MlSZMnT9a6deuUmZmpzMxMffzxx5KkuXPnaty4cZKk5ORkrVy5UsePH/dvZ8mSJWratKlq164dyJEBAICFSv0ppIMHD2rr1q3+n7dv367MzEzFxMQoMTFRw4YN09NPP63zzz9fjRo10qhRoxQfH6/u3btLkhITEwttLzw8XJJ03nnnqUGDBpKkO+64Q0899ZT69++vxx57TN98841eeuklTZo0qaw5AQCAg5S6wKxdu1bXXnut/+fhw4dLkvr27auZM2fq0Ucf1aFDhzRo0CDt379fKSkpWrRokUJDQ0v8HFFRUfrkk080ZMgQtW7dWnXr1tWTTz7JR6gBAIAkyWWMMcEeoiJ4vV5FRUUpLy+P82EAALBESV+/+S4kAABgHQoMAACwDgUGAABYhwIDAACsQ4EBAADWocAAAADrUGAAAIB1KDAAAMA6FBgAAGAdCgwAALAOBQYAAFiHAgMAAKxDgQEAANahwAAAAOtQYAAAgHUoMAAAwDoUGAAAYB0KDAAAsA4FBgAAWIcCAwAArEOBAQAA1qHAAAAA61BgAACAdSgwAADAOhQYAABgHQoMAACwDgUGAABYhwIDAACsQ4EBAADWocAAAADrUGAAAIB1KDAAAMA6FBgAAGAdCgwAALAOBQYAAFiHAgMAAKxDgQEAANahwAAAAOtQYAAAgHUoMAAAwDoUGAAAYB0KDAAAsA4FBgAAWIcCAwAArEOBAQAA1qHAAAAA61BgAACAdSgwAADAOhQYAABgHQoMAACwDgUGAABYhwIDAACsQ4EBAADWocAAAADrUGAAAIB1KDAAAMA6pS4wK1euVNeuXRUfHy+Xy6X58+cXWjfG6Mknn1T9+vUVFham1NRUbdmyxb++Y8cO9e/fX40aNVJYWJjOO+88jR49WseOHSu0nfXr1+uqq65SaGioEhISNHHixLIlBAAAjlPqAnPo0CG1atVKU6dOLXJ94sSJmjx5sqZPn65Vq1apVq1aSktL09GjRyVJmzdvVkFBgV599VVt3LhRkyZN0vTp0/XEE0/4t+H1etWpUyclJSUpIyNDzz33nMaMGaN//OMfZYwJAACcxGWMMWX+ZZdL8+bNU/fu3SWdOvoSHx+vhx9+WI888ogkKS8vT7GxsZo5c6Z69epV5Haee+45vfLKK/r+++8lSa+88or+8pe/KCcnRyEhIZKkxx9/XPPnz9fmzZtLNJvX61VUVJTy8vIUGRlZ1ogAAOAsKunrd0DPgdm+fbtycnKUmprqvy8qKkpt27ZVenp6sb+Xl5enmJgY/8/p6enq0KGDv7xIUlpamrKysrRv375AjgwAACwU0AKTk5MjSYqNjS10f2xsrH/tt7Zu3aqXX35Z9913X6HtFLWN05/jt/Lz8+X1egvdAACAMwX1U0i7d+/WDTfcoNtuu00DBw4s17bGjx+vqKgo/y0hISFAUwIAgMomoAUmLi5OkpSbm1vo/tzcXP+aT3Z2tq699lq1a9fujJNz4+LiitzG6c/xWyNHjlReXp7/tmvXrnJlAQAAlVdAC0yjRo0UFxenpUuX+u/zer1atWqVkpOT/fft3r1b11xzjVq3bq033nhDbnfhMZKTk7Vy5UodP37cf9+SJUvUtGlT1a5du8jn9ng8ioyMLHQDAADOVOoCc/DgQWVmZiozM1PSqRN3MzMztXPnTrlcLg0bNkxPP/20FixYoA0bNujuu+9WfHy8/5NKvvKSmJio559/Xj/99JNycnIKndtyxx13KCQkRP3799fGjRs1d+5cvfTSSxo+fHhAQgMAALtVL+0vrF27Vtdee63/Z1+p6Nu3r2bOnKlHH31Uhw4d0qBBg7R//36lpKRo0aJFCg0NlXTqSMrWrVu1detWNWjQoNC2fZ/ojoqK0ieffKIhQ4aodevWqlu3rp588kkNGjSozEEBAIBzlOs6MJUZ14EBAMA+QbkODAAAwNlAgQEAANahwAAAAOtQYAAAgHUoMAAAwDoUGAAAYB0KDAAAsA4FBgAAWIcCAwAArEOBAQAA1qHAAAAA61BgAACAdSgwAADAOhQYAABgHQoMAACwDgUGAABYhwIDAACsQ4EBAADWocAAAADrUGAAAIB1KDAAAMA6FBgAAGAdCgwAALAOBQYAAFiHAgMAAKxDgQEAANahwAAAAOtQYAAAgHUoMAAAwDoUGAAAYB0KDAAAsA4FBgAAWIcCAwAArEOBAQAA1qHAAAAA61BgAACAdSgwAADAOhQYAABgHQoMAACwDgUGAABYhwIDAACsQ4EBAADWocAAAADrUGAAAIB1KDAAAMA6FBgAAGAdCgwAALAOBQYAAFiHAgMAAKxDgQEAANahwAAAAOtQYAAAgHUoMAAAwDoUGAAAYB0KDAAAsA4FBgAAWKfUBWblypXq2rWr4uPj5XK5NH/+/ELrxhg9+eSTql+/vsLCwpSamqotW7YUesyvv/6qO++8U5GRkYqOjlb//v118ODBQo9Zv369rrrqKoWGhiohIUETJ04sfToAAOBIpS4whw4dUqtWrTR16tQi1ydOnKjJkydr+vTpWrVqlWrVqqW0tDQdPXrU/5g777xTGzdu1JIlS/Thhx9q5cqVGjRokH/d6/WqU6dOSkpKUkZGhp577jmNGTNG//jHP8oQEQAAOI4pB0lm3rx5/p8LCgpMXFycee655/z37d+/33g8HvP2228bY4z59ttvjSSzZs0a/2MWLlxoXC6X2b17tzHGmGnTppnatWub/Px8/2Mee+wx07Rp0xLPlpeXZySZvLy8ssYDAABnWUlfvwN6Dsz27duVk5Oj1NRU/31RUVFq27at0tPTJUnp6emKjo5WmzZt/I9JTU2V2+3WqlWr/I/p0KGDQkJC/I9JS0tTVlaW9u3bF8iRAQCAhaoHcmM5OTmSpNjY2EL3x8bG+tdycnJUr169wkNUr66YmJhCj2nUqNEZ2/Ct1a5d+4znzs/PV35+vv9nr9dbzjQAAKCycsynkMaPH6+oqCj/LSEhIdgjAQCAChLQAhMXFydJys3NLXR/bm6ufy0uLk579+4ttH7ixAn9+uuvhR5T1DZOf47fGjlypPLy8vy3Xbt2lT8QAAColAJaYBo1aqS4uDgtXbrUf5/X69WqVauUnJwsSUpOTtb+/fuVkZHhf8xnn32mgoICtW3b1v+YlStX6vjx4/7HLFmyRE2bNi3y7SNJ8ng8ioyMLHQDAADOVOoCc/DgQWVmZiozM1PSqRN3MzMztXPnTrlcLg0bNkxPP/20FixYoA0bNujuu+9WfHy8unfvLklq3ry5brjhBg0cOFCrV6/WF198oaFDh6pXr16Kj4+XJN1xxx0KCQlR//79tXHjRs2dO1cvvfSShg8fHrDgAADAYqX9eNOyZcuMpDNuffv2Ncac+ij1qFGjTGxsrPF4PKZjx44mKyur0DZ++eUX07t3bxMeHm4iIyPNPffcYw4cOFDoMevWrTMpKSnG4/GYc88910yYMKFUc/IxagAA7FPS12+XMcYEsT9VGK/Xq6ioKOXl5fF2EgAAlijp67djPoUEAACqDgoMAACwDgUGAABYhwIDAACsQ4EBAADWocAAAADrUGAAAIB1KDAAAMA6FBgAAGAdCgwAALAOBQYAAFiHAgMAAKxDgQEAANahwAAAAOtQYAAAgHUoMAAAwDoUGAAAYB0KDAAAsA4FBgAAWIcCAwAArEOBAQAA1qHAAAAA61BgAACAdSgwAADAOhQYAABgHQoMAACwDgUGAABYhwIDAACsQ4EBAADWocAAAADrUGAAAIB1KDAAAMA6FBgAAGAdCgwAALAOBQYAAFiHAgMAAKxDgQEAANahwAAAAOtQYAAAgHUoMAAAwDoUGAAAYB0KDAAAsA4FBgAAWIcCAwAArEOBAQAA1qHAAAAA61BgAACAdSgwAADAOhQYAABgHQoMAACwDgUGAABYhwIDAACsQ4EBAADWocAAAADrUGAAAIB1KDAAAMA6FBgAAGCdCikwBw4c0LBhw5SUlKSwsDC1a9dOa9as8a8fPHhQQ4cOVYMGDRQWFqYWLVpo+vTphbZx9OhRDRkyRHXq1FF4eLh69Oih3NzcihgXAABYpkIKzIABA7RkyRLNnj1bGzZsUKdOnZSamqrdu3dLkoYPH65Fixbprbfe0qZNmzRs2DANHTpUCxYs8G/joYce0gcffKB33nlHK1asUHZ2tm655ZaKGBcAAFjGZYwxgdzgkSNHFBERoffff1833nij//7WrVurc+fOevrpp3XRRRepZ8+eGjVqVJHreXl5OuecczRnzhzdeuutkqTNmzerefPmSk9P15VXXvmHc3i9XkVFRSkvL0+RkZGBjAgAACpISV+/A34E5sSJEzp58qRCQ0ML3R8WFqbPP/9cktSuXTstWLBAu3fvljFGy5Yt03fffadOnTpJkjIyMnT8+HGlpqb6f79Zs2ZKTExUenp6kc+bn58vr9db6AYAAJwp4AUmIiJCycnJ+tvf/qbs7GydPHlSb731ltLT07Vnzx5J0ssvv6wWLVqoQYMGCgkJ0Q033KCpU6eqQ4cOkqScnByFhIQoOjq60LZjY2OVk5NT5POOHz9eUVFR/ltCQkKgowEAgEqiQs6BmT17towxOvfcc+XxeDR58mT17t1bbvepp3v55Zf11VdfacGCBcrIyNALL7ygIUOG6NNPPy3zc44cOVJ5eXn+265duwIVBwAAVDLVK2Kj5513nlasWKFDhw7J6/Wqfv366tmzpxo3bqwjR47oiSee0Lx58/znyFx88cXKzMzU888/r9TUVMXFxenYsWPav39/oaMwubm5iouLK/I5PR6PPB5PRcQBAACVTIVeB6ZWrVqqX7++9u3bp8WLF6tbt246fvy4jh8/7j8a41OtWjUVFBRIOnVCb40aNbR06VL/elZWlnbu3Knk5OSKHBkAAFigQo7ALF68WMYYNW3aVFu3btWIESPUrFkz3XPPPapRo4auvvpqjRgxQmFhYUpKStKKFSs0a9Ys/f3vf5ckRUVFqX///ho+fLhiYmIUGRmpBx54QMnJySX6BBIAAHC2CikweXl5GjlypH788UfFxMSoR48eGjdunGrUqCFJ+te//qWRI0fqzjvv1K+//qqkpCSNGzdOgwcP9m9j0qRJcrvd6tGjh/Lz85WWlqZp06ZVxLgAAMAyAb8OTGXBdWAAALBP0K4DAwAAUNEoMAAAwDoUGAAAYB0KDAAAsA4FBgAAWIcCAwAArEOBAQAA1qHAAAAA61BgAACAdSgwAADAOhQYAABgHQoMAACwDgUGAABYhwIDAACsQ4EBAADWocAAAADrUGAAAIB1KDAAAMA6FBgAAGAdCgwAALAOBQYAAFiHAgMAAKxDgQEAANahwAAAAOtQYAAAgHUoMAAAwDoUGAAAYB0KDAAAsA4FBgAAWIcCAwAArEOBAQAA1qHAAAAA61BgAACAdSgwAADAOhQYAABgHQoMAACwDgUGAABYhwIDAACsQ4EBAADWocAAAADrUGAAAIB1KDAAAMA6FBgAAGAdCgwAALAOBQYAAFiHAgMAAKxDgQEAANahwAAAAOtQYAAAgHUoMAAAwDoUGAAAYB0KDAAAsA4FBgAAWIcCAwAArEOBAQAA1qHAAAAA61RIgTlw4ICGDRumpKQkhYWFqV27dlqzZk2hx2zatEk33XSToqKiVKtWLV1++eXauXOnf/3o0aMaMmSI6tSpo/DwcPXo0UO5ubkVMS4AALBMhRSYAQMGaMmSJZo9e7Y2bNigTp06KTU1Vbt375Ykbdu2TSkpKWrWrJmWL1+u9evXa9SoUQoNDfVv46GHHtIHH3ygd955RytWrFB2drZuueWWihgXAABYxmWMMYHc4JEjRxQREaH3339fN954o//+1q1bq3Pnznr66afVq1cv1ahRQ7Nnzy5yG3l5eTrnnHM0Z84c3XrrrZKkzZs3q3nz5kpPT9eVV175h3N4vV5FRUUpLy9PkZGRgQkHAAAqVElfvwN+BObEiRM6efJkoaMpkhQWFqbPP/9cBQUF+uijj3TBBRcoLS1N9erVU9u2bTV//nz/YzMyMnT8+HGlpqb672vWrJkSExOVnp5e5PPm5+fL6/UWugEAAGcKeIGJiIhQcnKy/va3vyk7O1snT57UW2+9pfT0dO3Zs0d79+7VwYMHNWHCBN1www365JNPdPPNN+uWW27RihUrJEk5OTkKCQlRdHR0oW3HxsYqJyenyOcdP368oqKi/LeEhIRARwMAAJVEhZwDM3v2bBljdO6558rj8Wjy5Mnq3bu33G63CgoKJEndunXTQw89pEsuuUSPP/64/vSnP2n69Ollfs6RI0cqLy/Pf9u1a1eg4gAAgEqmQgrMeeedpxUrVujgwYPatWuXVq9erePHj6tx48aqW7euqlevrhYtWhT6nebNm/s/hRQXF6djx45p//79hR6Tm5uruLi4Ip/T4/EoMjKy0A0AADhThV4HplatWqpfv7727dunxYsXq1u3bgoJCdHll1+urKysQo/97rvvlJSUJOnUCb81atTQ0qVL/etZWVnauXOnkpOTK3JkAABggeoVsdHFixfLGKOmTZtq69atGjFihJo1a6Z77rlHkjRixAj17NlTHTp00LXXXqtFixbpgw8+0PLlyyVJUVFR6t+/v4YPH66YmBhFRkbqgQceUHJycok+gQQAAJytQgpMXl6eRo4cqR9//FExMTHq0aOHxo0bpxo1akiSbr75Zk2fPl3jx4/Xgw8+qKZNm+rdd99VSkqKfxuTJk2S2+1Wjx49lJ+fr7S0NE2bNq0ixgUAAJYJ+HVgKguuAwMAgH2Cdh0YAACAikaBAQAA1qHAAAAA61BgAACAdSgwAADAOhQYAABgHQoMAACwDgUGAABYhwIDAACsQ4EBAADWocAAAADrUGAAAIB1KDAAAMA6FBgAAGAdCgwAALAOBQYAAFiHAgMAAKxDgQEAANahwAAAAOtQYAAAgHUoMAAAwDoUGAAAYB0KDAAAsA4FBgAAWIcCAwAArEOBAQAA1qHAAAAA61BgAACAdSgwAADAOhQYAABgHQoMAACwDgUGAABYhwIDAACsQ4EBAADWocAAAADrUGAAAIB1KDAAAMA6FBgAAGAdCgwAALAOBQYAAFiHAgMAAKxDgQEAANahwAAAAOtUD/YAFcUYI0nyer1BngQAAJSU73Xb9zpeHMcWmAMHDkiSEhISgjwJAAAorQMHDigqKqrYdZf5o4pjqYKCAmVnZysiIkIul6tEv+P1epWQkKBdu3YpMjKygic8+5yeT3J+Rqfnk5yd0cnZfMhov2DnM8bowIEDio+Pl9td/Jkujj0C43a71aBBgzL9bmRkpCP/KH2cnk9yfkan55OcndHJ2XzIaL9g5vu9Iy8+nMQLAACsQ4EBAADWocCcxuPxaPTo0fJ4PMEepUI4PZ/k/IxOzyc5O6OTs/mQ0X625HPsSbwAAMC5OAIDAACsQ4EBAADWocAAAADrUGAAAIB1KDAAAMA6FJhi7Nu3T7NmzQr2GGX27rvv6vDhw8EeI6hyc3M1duzYYI9RZi+88IJ++OGHYI8RVDbvQ/afdOjQIa1cuTLYY5RLRkZGsEcIqsr8WsjHqIuxbt06XXbZZTp58mSwRykTt9utiIgI9ezZU/3791fbtm2DPdJZ54R96Ha7de2112rAgAG6+eabFRISEuyxziqb9yH7z+795+N2u9W4cWPde++96tevn+Lj44M90llVmfehY78L6Y/4vq67OL5vs7bZI488onnz5umf//ynWrRooQEDBqhPnz6qU6dOsEcLiPXr1//uelZW1lmapOL885//1Pz589WnTx9FRkbqrrvu0oABA3TRRRcFe7SAcPo+dPr+qyquu+46vfTSSxo9erTS0tI0YMAAde3aVdWqVQv2aOVm82thlT0C43a7f/dbqo0xcrlclbJ1loTb7VZOTo7q1aunjIwMvf7663r77bd15MgR3XTTTRo4cKCuv/76YI9ZLr59WNSfsO9+p+zDvXv3aubMmXrjjTf03XffqXXr1ho4cKB69eqliIiIYI9aZk7eh1Vh/8XExPzu+smTJ3Xw4EEr95+Pbz/GxMTo/fff14wZM7R48WLVrVtXffv2Vf/+/XXBBRcEe8wys/m1sMoWmKioKP3lL38p9q2VLVu26L777quUO60kTv/H0+fo0aN65513NGPGDK1cuVKJiYnavn17EKcsn7p162rixInq2LFjkesbN25U165dHbUPJek///mPXn/9df373/+WJB08eDAY4wWEk/dhVdh/tWrV0v3336+WLVsWuf7DDz/oqaeesnL/+RS1H3fv3q0ZM2Zo5syZ2rFjh9q3b2/tuT42vxZW2beQLrvsMknS1VdfXeR6dHR0kf+v0BZFNerQ0FD16dNHffr00datW/XGG28EYbLAad26tbKzs5WUlFTk+v79+x23DyXpqquu0lVXXaXJkydr7ty5Z3mqwHLyPqwK+++SSy5RQkKC+vbtW+T6unXr9NRTT53lqQKrqP147rnnatSoURo1apSWLl2qGTNmBGGywLD5tbDKFpg77rhDR44cKXY9Li5Oo0ePPosTBdYf/cE1adJE48aNO0vTVIzBgwfr0KFDxa4nJiZaXdL+aB9GRkZq4MCBZ2maiuHkfVgV9t+NN96o/fv3F7seExOju+++++wNVAH+aD927Nix2COINrD5tbDKvoXkdD/88IMSExN/971NAMDvW7Fihdq3b6/q1avs/9+vtCgwAADAOlW6Uv7888+aMWOG0tPTlZOTI+nU4bJ27dqpX79+Ouecc4I8Yfk4PZ8kffvtt5oyZcoZGZOTkzV06FC1aNEiyBOWj9PzSc7O6ORsPseOHdP8+fOL/HemW7dujrj2jdMz2vpaUWWPwKxZs0ZpaWmqWbOmUlNTFRsbK+nUlT+XLl2qw4cPa/HixWrTpk2QJy0bp+eTpIULF6p79+667LLLlJaWVijjkiVLlJGRoffff19paWlBnrRsnJ5PcnZGJ2fz2bp1q9LS0pSdna22bdsWyrhq1So1aNBACxcuVJMmTYI8adk5PaPVrxWmimrbtq0ZNGiQKSgoOGOtoKDADBo0yFx55ZVBmCwwnJ7PGGMuvvhiM2rUqGLXR48ebVq2bHkWJwosp+czxtkZnZzNJzU11XTr1s3k5eWdsZaXl2e6detmOnXqFITJAsfpGW1+raiyBSY0NNRs2rSp2PVNmzaZ0NDQszhRYDk9nzGnMm7evLnY9c2bN1ud0en5jHF2Ridn8wkLCzMbNmwodn39+vUmLCzsLE4UeE7PaPNrRZX9Mse4uDitXr262PXVq1f7D6XZyOn5JKlhw4b66KOPil3/6KOPir2+iA2cnk9ydkYnZ/OJjo7Wjh07il3fsWOHoqOjz9o8FcHpGW1+raiyJ/E+8sgjGjRokDIyMtSxY8cz3vd77bXX9Pzzzwd5yrJzej5JGjt2rO644w4tX768yPduFy1apDlz5gR5yrJzej7J2RmdnM1nwIABuvvuuzVq1Kgi/515+umn9cADDwR5yvJxekarXyuCfQgomP71r3+Ztm3bmurVqxuXy2VcLpepXr26adu2rZk7d26wxys3p+czxpgvvvjC9OzZ0yQmJpqQkBATEhJiEhMTTc+ePc2XX34Z7PHKzen5jHF2Ridn85kwYYKpX7++cblcxu12G7fbbVwul6lfv7559tlngz1eQDg9o62vFVX2U0inO378uH7++WdJp76bpUaNGkGeKLCcng9A8G3fvr3QR3AbNWoU5IkCz+kZbXutqLLnwJyuRo0aql+/vpYvX65jx44Fe5yAc3q+002YMOF3L21uO6fnk5yd0cnZGjVqpOTkZBUUFCg+Pj7Y41QIp2e07bWCIzCniYyMVGZmpho3bhzsUSqE0/NJzs/o9HySszM6OZsPGe1nSz6OwJzG6V3O6fkk52d0ej7J2RmdnM2HjPazJR8FBgAAWKfKfoy6KAsXLtS5554b7DEqjNPzSae+e8bJGZ2eTzqV0YnnF0jOzubz6quvVtrrhgSK0zPa8lrBOTCw3smTJ1WtWjX/z6tXr1ZBQYEuvfRSeTyeIE4WGE7P57Nz507t2bNHbrdbjRs3Vp06dYI9UsA4Odvp8vPzJclRf5e/VRUy2qLKvoUUERGh/v3768svvwz2KBXC6fkk6YcfflCbNm3k8XjUuXNneb1eXX/99bryyivVrl07tWjRQt99912wxywzp+fzmTZtmpKSktSoUSO1a9dOV155perVq6eUlBRlZGQEe7xycXI2nyVLlqhLly6qXbu2atasqZo1a6p27drq0qWLPv3002CPFxBVIWNxNm3aVGlP5q2yBebQoUNatWqVUlJS1Lx5c73wwgv66aefgj1WwDg9nyQ9/PDDCg8P1/z58xUZGakuXbroxIkT2rVrl3bv3q3zzz9fjz32WLDHLDOn55Ok559/XuPGjdOIESP06quvqmnTphozZow++ugjNW7cWB06dNDatWuDPWaZODmbz5tvvqkuXbooKipKkyZN0ocffqgPP/xQkyZNUnR0tLp06aLZs2cHe8xyqQoZf8+xY8f0ww8/BHuMogXh4nmVgsvlMrm5uSYzM9MMHTrUxMTEmJCQEHPLLbeYjz/+uMhv5rSJ0/MZY8w555xjvv76a2OMMfv37zcul8v85z//8a9nZGSY2NjYIE1Xfk7PZ4wxDRs2NB9//LH/56ysLFOnTh1z/PhxY4wxDz74oLn++uuDNV65ODmbz/nnn2+mTJlS7PrUqVNNkyZNzuJEgef0jA899NDv3u666y7jdruDPWaRqnyB8Tl69KiZM2eO6dixo3G73aZBgwZm1KhRQZywfJyezxhjIiIizPfff2+MMebkyZOmevXqJjMz07++ZcsWExEREazxys3p+YwxpmbNmmb79u3+nwsKCkz16tVNdna2McaYzMxMEx4eHqTpysfJ2Xw8Ho/jv3Hb6Rndbre57LLLzDXXXFPkrU2bNpW2wFTZt5BcLlehnz0ej3r37q1PP/1U27ZtU79+/TRz5szgDBcATs8nSRdeeKFmzJgh6dRh3jp16uhf//qXf/3tt9/WBRdcEKzxys3p+STpggsu0JIlS/w/L1u2TCEhIYqLi5MkhYaGnvG3bAsnZ/O58MIL9frrrxe7PmPGDLVo0eIsThR4Ts/YpEkTPfTQQ1q2bFmRt9deey3YIxaryn4Kye12KycnR/Xq1Sv2McYYa/+BcXo+SVq8eLG6d++ugoICud1uLV68WAMHDlR0dLTcbrfWrFmjOXPm6Pbbbw/2qGXi9HyS9L//+7+66667dPPNNys0NFTvvfeehg4dqvHjx0s69XHVN99808qT0Z2czWf58uX605/+pMaNGxf5jdvff/+9PvroI3Xo0CHIk5ad0zPeeeedqlevniZNmlTk+rp163TppZeqoKDgLE/2x6psgXnqqac0YsQI1axZM9ijVAin5/PZsWOHMjIy1Lp1azVs2FC5ubmaOnWqDh8+rBtvvFHXXnttsEcsF6fnk05dc+Ktt95Sfn6+0tLSNHDgQP/aL7/8IknWfuzYydl8duzYoVdeeUVfffVVoS86TE5O1uDBg9WwYcPgDhgATs6Yk5Oj/Px8JSUlBXuUUquyBQYAANiryp4D80dOnDihnTt3BnuMCuP0fJLzMzo9n+TsjE7OBpwNFJhibNy4UY0aNQr2GBXG6fkk52d0ej7J2Rmdkm3atGlKTU3V7bffrqVLlxZa+/nnnyvtRdBKw+kZbc1HgQEAlMnkyZM1YsQINWvWTB6PR126dPGfpCyd+hqMSnsRtBJyekab81XZL3O87LLLfnf9yJEjZ2mSiuH0fJLzMzo9n+TsjE7O5vPqq6/qtdde0x133CFJuv/++9W9e3cdOXJEY8eODfJ0geH0jDbnq7IF5ttvv1WvXr2KPYS7Z88eq79nxun5JOdndHo+ydkZnZzNZ/v27WrXrp3/53bt2umzzz5Tamqqjh8/rmHDhgVvuABxekar8wXvGnrB1bp1azNt2rRi17/++utKe/XBknB6PmOcn9Hp+YxxdkYnZ/NJSEgwK1euPOP+jRs3mtjYWHP33XeTsZKzOV+VPQemffv2ysrKKnY9IiLC2gsTSc7PJzk/o9PzSc7O6ORsPikpKXrvvffOuL9FixZaunSpFi5cGISpAsvpGW3Ox3VgAABlsn79emVkZOiee+4pcv2bb77Ru+++q9GjR5/lyQLH6RltzkeBAQAA1qmyJ/H6rF69Wunp6WdcHvqKK64I8mSB4fR8kvMzOj2f5OyMTs7mQ0b7WZkvuKfgBE9ubq5JSUkxLpfLJCUlmSuuuMJcccUVJikpybhcLpOSkmJyc3ODPWaZOT2fMc7P6PR8xjg7o5Oz+eTm5pr27duT0eKMNuersgWmR48eJjk52WzevPmMtc2bN5t27dqZW2+9NQiTBYbT8xnj/IxOz2eMszM6OZsPGe3PaHO+KltgwsPDzX//+99i19euXWvCw8PP4kSB5fR8xjg/o9PzGePsjE7O5kNG+zPanK/Kfoza4/HI6/UWu37gwAF5PJ6zOFFgOT2f5PyMTs8nOTujk7P5kNH+jFbnC3aDCpY///nPJikpybz33nsmLy/Pf39eXp557733TMOGDc3QoUODOGH5OD2fMc7P6PR8xjg7o5Oz+ZDR/ow256uyBebo0aNm8ODBJiQkxLjdbhMaGmpCQ0ON2+02ISEh5v777zdHjx4N9phl5vR8xjg/o9PzGePsjE7O5kNG+zPanK/KXwfG6/UqIyOj0EfHWrdurcjIyCBPFhhOzyc5P6PT80nOzujkbD5ktJ+N+ap8gQEAAPapsifxSqe+zv7zzz/Xt99+e8ba0aNHNWvWrCBMFThOzyc5P6PT80nOzujkbD5ktD+jtfmC+w5W8GRlZfkv1ON2u02HDh3M7t27/es5OTmV9hs4S8Lp+Yxxfkan5zPG2RmdnM2HjPZntDlflT0C89hjj+miiy7S3r17lZWVpYiICKWkpGjnzp3BHi0gnJ5Pcn5Gp+eTnJ3Rydl8yGg/q/MFu0EFS7169cz69ev9PxcUFJjBgwebxMREs23btkrdOkvC6fmMcX5Gp+czxtkZnZzNh4z2Z7Q5X5U9AnPkyBFVr/5/32Xpcrn0yiuvqGvXrrr66qv13XffBXG68nN6Psn5GZ2eT3J2Ridn8yGj/Rltzldlv426WbNmWrt2rZo3b17o/ilTpkiSbrrppmCMFTBOzyc5P6PT80nOzujkbD5ktD+jzfmq7BGYm2++WW+//XaRa1OmTFHv3r1lLP6EudPzSc7P6PR8krMzOjmbDxntz2hzPq4DAwAArFNlj8AAAAB7UWAAAIB1KDAAAMA6FBgAAGAdCgwAALAOBQYAAFiHAgMAAKxDgQEAANb5//SMHTpVTu3jAAAAAElFTkSuQmCC",
      "text/plain": [
       "<Figure size 640x480 with 1 Axes>"
      ]
     },
     "metadata": {},
     "output_type": "display_data"
    }
   ],
   "source": [
    "import matplotlib.pyplot as plt\n",
    "from matplotlib.pyplot import figure\n",
    "# Plot a simple line chart\n",
    "# plt.plot(df[\"severity_injuries\"], color='g', label='Line y')\n",
    "\n",
    "\n",
    "# Plot another line on the same chart/graph\n",
    "plt.plot(df[\"collisions\"], color='darkgreen', label='Number of collisions')\n",
    "plt.xticks(rotation = 90)\n",
    "\n",
    "\n",
    "plt.legend()\n",
    "plt.show()"
   ]
  },
  {
   "cell_type": "code",
   "execution_count": 19,
   "metadata": {},
   "outputs": [
    {
     "data": {
      "image/png": "iVBORw0KGgoAAAANSUhEUgAAAigAAAHJCAYAAACv/cI/AAAAOXRFWHRTb2Z0d2FyZQBNYXRwbG90bGliIHZlcnNpb24zLjYuMSwgaHR0cHM6Ly9tYXRwbG90bGliLm9yZy/av/WaAAAACXBIWXMAAA9hAAAPYQGoP6dpAAA7FUlEQVR4nO3deXhU9d3//9cMgSxkkpBACEiA0FAMApawEwUXCooVUHujZc0tIEsCAsUv0IoUWhtsXe56u/VWCC43gooBQRZRJMgOKSBrWARESViKJBIgC/P5/cGPuR1JkCwwZ47Px3XNdXXOOXPm/WIo5+WZMzMOY4wRAACAhTh9PQAAAMCPUVAAAIDlUFAAAIDlUFAAAIDlUFAAAIDlUFAAAIDlUFAAAIDlUFAAAIDlBPh6gIpwu906duyYXC6XHA6Hr8cBAADXwBij77//XvXr15fTefVzJH5ZUI4dO6bY2FhfjwEAACrg6NGjatCgwVW38cuC4nK5JF0KGBYW5uNpAADAtcjPz1dsbKznOH41fllQLr+tExYWRkEBAMDPXMvlGVwkCwAALIeCAgAALIeCAgAALMcvr0EBYC1ut1tFRUW+HgOAj1WvXl3VqlWrkn1RUABUSlFRkQ4dOiS32+3rUQBYQEREhGJiYir9PWUUFAAVZoxRTk6OqlWrptjY2J/84iUA9mWM0blz53TixAlJUr169Sq1PwoKgAorKSnRuXPnVL9+fYWEhPh6HAA+FhwcLEk6ceKEoqOjK/V2D/+5A6DCLl68KEmqUaOGjycBYBWX/2OluLi4UvuhoACoNH4TC8BlVfXvAQUFAABYDgUFAK6z5ORk9enTx9djlGr27NmKiIjw9RheFixYoPj4eFWrVk1jx4719ThXtWrVKjkcDp05c6bC+/jTn/6kX/3qV+V6zB133OGzP5vDhw/L4XBo27Zt1/V5KCgAfnYq+o+7Lw8KPyfDhw/Xb3/7Wx09elR//vOffT3OdTdhwgR99tln5XrMhx9+aPs/Gz7FAwCocsXFxapevXq5H3f27FmdOHFCPXr0UP369a/DZNYTGhqq0NDQcj0mMjKy0s9b0dfoRuEMCoCfleTkZGVmZuof//iHHA6HHA6HDh8+LEnKzMxU+/btFRgYqHr16mnSpEkqKSm56uMuXryoIUOGKC4uTsHBwWrWrJn+8Y9/lGumy2+zLF++XAkJCQoNDdU999yjnJwczzalnb3p06ePkpOTPfcbN26sv/zlLxo0aJBCQ0PVqFEjffTRRzp58qR69+6t0NBQtWrVSlu2bLlihgULFqhp06YKCgpSjx49dPToUa/1CxcuVGJiooKCgtSkSRNNmzbN82cjXbow8tVXX1WvXr1Us2ZNPf3006Vm/e677zRo0CDVqlVLISEhuvfee7V//35Jl94ucblckqS77rpLDodDq1atKnU/l5/v3nvvVXBwsJo0aaIPPvjAa5ujR4+qb9++ioiIUGRkpHr37u15raVL34A8ffp0NWjQQIGBgfrVr36lZcuWedZffitj7ty56ty5s4KCgtSiRQtlZmaWOtNla9as0e23367g4GDFxsZqzJgxKigoKHP7H7/Fc/ktwWeffVb16tVTVFSUUlJSvD4V8+O/Dw6HQwsWLPDab0REhGbPnu2VZd68eeratauCgoL0v//7v5KkN954QwkJCQoKCtLNN9+sV155xWs/mzZtUuvWrRUUFKS2bdtq69atV81fZYwfysvLM5JMXl6er0cBftbOnz9vdu/ebc6fP39pgdttTNFZ39zc7mua+cyZM6ZTp05m2LBhJicnx+Tk5JiSkhLzzTffmJCQEDNq1CizZ88ek5GRYWrXrm2mTp161ccVFRWZp556ymzevNl89dVX5p133jEhISFm3rx5nuccPHiw6d27d5kzpaenm+rVq5tu3bqZzZs3m6ysLJOQkGD69evn2aZr167m8ccf93pc7969zeDBgz33GzVqZCIjI81rr71m9u3bZ0aOHGnCwsLMPffcY9577z2TnZ1t+vTpYxISEoz7///zuvzcbdu2NevWrTNbtmwx7du3N507d/bsd/Xq1SYsLMzMnj3bHDx40HzyySemcePG5k9/+pNnG0kmOjrazJo1yxw8eNAcOXKk1Ky9evUyCQkJZvXq1Wbbtm2mR48eJj4+3hQVFZnCwkKTnZ1tJJn58+ebnJwcU1hYWOp+JJmoqCjz+uuvm+zsbPPkk0+aatWqmd27dxtjjCkqKjIJCQnm0UcfNV9++aXZvXu36devn2nWrJlnn88//7wJCwsz7777rtm7d6/5f//v/5nq1aubffv2GWOMOXTokJFkGjRoYD744AOze/duM3ToUONyucypU6eMMcZ8/vnnRpL57rvvjDHGHDhwwNSsWdO88MILZt++fWbt2rWmdevWJjk5uczXf+rUqebWW2/13B88eLAJCwszI0aMMHv27DGLFi0yISEh5n/+53882/z474Mkk5GR4bXf8PBwk56e7pWlcePGZv78+earr74yx44dM++8846pV6+eZ9n8+fNNZGSkmT17tjHGmO+//97UqVPH9OvXz+zcudMsWrTINGnSxEgyW7duLTXPFf8u/EB5jt8UFAAVdsU/REVnjXlWvrkVnb3muUs72P/hD38wzZo18xy4jTHm5ZdfNqGhoebixYtlPq40KSkp5qGHHvLcv5aCIskcOHDA67nr1q171ZlLKygDBgzw3M/JyTGSzJQpUzzL1q9fbySZnJwcr+fesGGDZ5s9e/YYSWbjxo3GGGPuvvtu89e//tXrud9++21Tr149z31JZuzYsWVmNMaYffv2GUlm7dq1nmWnTp0ywcHB5r333jPGGPPdd98ZSebzzz+/6r4kmREjRngt69Chgxk5cqRnvh+/noWFhSY4ONgsX77cGGNM/fr1zdNPP+21j3bt2plRo0YZY/7voD5jxgzP+uLiYtOgQQPzzDPPGGOuLChDhgwxjz32mNc+v/jiC+N0Oks9YBtTekFp1KiRKSkp8Sz7j//4D/Pwww977le0oPzXf/2X1za/+MUvzJw5c7yW/fnPfzadOnUyxhjzz3/+00RFRXnN/uqrr96QgsI1KAAgac+ePerUqZPXdzgkJSXp7Nmz+uabb9SwYcMyH/vyyy9r1qxZ+vrrr3X+/HkVFRWV+1MZISEh+sUvfuG5X69ePc9XhpdHq1atPP+7bt26kqSWLVtesezEiROKiYmRJAUEBKhdu3aebW6++WZFRERoz549at++vbZv3661a9d6vW1z8eJFXbhwQefOnfN8MVfbtm2vOtuePXsUEBCgDh06eJZFRUWpWbNm2rNnT7mzdurU6Yr7lz9Zsn37dh04cMDzltFlFy5c0MGDB5Wfn69jx44pKSnJa31SUpK2b99e5vMEBASobdu2Zc67fft2ffnll563T6RLXwHvdrt16NAhJSQkXFO2W265xetbWOvVq6cdO3Zc02Ov5oevUUFBgQ4ePKghQ4Zo2LBhnuUlJSUKDw+XdOk1a9WqlYKCgjzrf/znfr1QUABUnYAQacxZ3z23D8ydO1cTJkzQc889p06dOsnlcunvf/+7Nm7cWK79/PhiRYfDoUv/YXyJ0+n0ui+V/k2dP9zP5bJV2rLy/Ljj2bNnNW3aND344INXrPvhgatmzZrXvM/r7ezZs2rTpo1XUbisTp061/V5hw8frjFjxlyx7mol98dK+/twtdfsx39fpNL/fvzwNTp79tL/V19//XWv0iipyn6RuDIoKACqjsMhVbfOQaosNWrU8HxN/2UJCQmaP3++jDGeg/jatWvlcrnUoEGDMh+3du1ade7cWaNGjfIsO3jwYJXPXKdOHa+LZi9evKidO3fqzjvvrPS+S0pKtGXLFrVv316SlJ2drTNnznj+az8xMVHZ2dmKj4+v1PMkJCSopKREGzduVOfOnSVJ//73v5Wdna3mzZuXe38bNmzQoEGDvO63bt3aM/O8efMUHR2tsLCwUh9fv359rV27Vl27dvUsW7t2refP4Yf77dKli6RLf1ZZWVlKTU0tdZ+JiYnavXt3pf+syuvHfz/279+vc+fOXfUxdevWVf369fXVV1+pf//+pW6TkJCgt99+WxcuXPCU0Q0bNlTd4FfBp3gA/Ow0btxYGzdu1OHDh3Xq1Cm53W6NGjVKR48e1ejRo7V3714tXLhQU6dO1fjx4z2/0lza45o2baotW7Zo+fLl2rdvn6ZMmaLNmzdX+cx33XWXPv74Y3388cfau3evRo4cWakvB/uh6tWra/To0dq4caOysrKUnJysjh07eg7UTz31lN566y1NmzZNu3bt0p49ezR37lw9+eST5Xqepk2bqnfv3ho2bJjWrFmj7du3a8CAAbrpppvUu3fvcs/9/vvva9asWdq3b5+mTp2qTZs2eYpD//79Vbt2bfXu3VtffPGFDh06pFWrVmnMmDH65ptvJElPPPGEnnnmGc2bN0/Z2dmaNGmStm3bpscff9zreV5++WVlZGRo7969SklJ0XfffadHH3201JkmTpyodevWKTU1Vdu2bdP+/fu1cOHCMgtNVbnrrrv00ksvaevWrdqyZYtGjBhxTR8hnjZtmtLS0vTiiy9q37592rFjh9LT0/X8889Lkvr16yeHw6Fhw4Zp9+7dWrJkiZ599tnrmuUyCgqAn50JEyaoWrVqat68uerUqaOvv/5aN910k5YsWaJNmzbp1ltv1YgRIzRkyBCvg3Bpjxs+fLgefPBBPfzww+rQoYP+/e9/e51NqSqPPvqoBg8erEGDBqlr165q0qRJlZw9kS5d/zJx4kT169dPSUlJCg0N1bx58zzre/ToocWLF+uTTz5Ru3bt1LFjR73wwgtq1KhRuZ8rPT1dbdq00W9+8xt16tRJxhgtWbKkQt/HMW3aNM2dO1etWrXSW2+9pXfffddzJiYkJESrV69Ww4YN9eCDDyohIUFDhgzRhQsXPGdUxowZo/Hjx+v3v/+9WrZsqWXLlumjjz5S06ZNvZ5nxowZmjFjhm699VatWbNGH330kWrXrl3qTK1atVJmZqb27dun22+/Xa1bt9ZTTz113b/T5bnnnlNsbKxuv/129evXTxMmTLimXxgfOnSo3njjDaWnp6tly5bq2rWrZs+erbi4OEmXvqNl0aJF2rFjh1q3bq0//vGPeuaZZ65rlssc5sdvWvmB/Px8hYeHKy8vr8xTdwCuvwsXLujQoUOKi4vzuhYBuN4cDocyMjKu608IHD58WHFxcdq6dWu5L3q+3jp16qS7775bf/nLX3w9yhWu9u9CeY7fnEEBAMBPFBYWasuWLdq1a5duueUWX49zXVFQAADwE0uXLtVdd92lXr166be//a2vx7mu+BQPAMDv3IirExo3bnxDnqc8+vTpo/z8fF+PcUNwBgUAAFgOBQVApVntvzIB+E5V/XtAQQFQYZe/bbKoqMjHkwCwistfEFeRj47/ENegAKiwgIAAhYSE6OTJk6pevbrnC80A/PwYY3Tu3DmdOHFCERERlf66fAoKgApzOByqV6+eDh06pCNHjvh6HAAWEBER4fkhysqgoAColBo1aqhp06a8zQNA1atXr7IfGqSgAKg0p9PJN8kCqFK8YQwAACyHggIAACyHggIAACyHggIAACyHggIAACyHggIAACyHggIAACyHggIAACyHggIAACyHggIAACyHggIAACyHggIAACyHggIAACyHggIAACyHggIAACynXAUlLS1N7dq1k8vlUnR0tPr06aPs7GyvbQ4ePKgHHnhAderUUVhYmPr27avjx497bdO4cWM5HA6v24wZMyqfBgAA2EK5CkpmZqZSUlK0YcMGrVixQsXFxerevbsKCgokSQUFBerevbscDodWrlyptWvXqqioSPfff7/cbrfXvqZPn66cnBzPbfTo0VWXCgAA+LWA8my8bNkyr/uzZ89WdHS0srKy1KVLF61du1aHDx/W1q1bFRYWJkl68803VatWLa1cuVLdunXzPNblcikmJqYKIgAAALup1DUoeXl5kqTIyEhJUmFhoRwOhwIDAz3bBAUFyel0as2aNV6PnTFjhqKiotS6dWv9/e9/V0lJSWVGAQAANlKuMyg/5Ha7NXbsWCUlJalFixaSpI4dO6pmzZqaOHGi/vrXv8oYo0mTJunixYvKycnxPHbMmDFKTExUZGSk1q1bp8mTJysnJ0fPP/98qc9VWFiowsJCz/38/PyKjg0AAPxAhc+gpKSkaOfOnZo7d65nWZ06dfT+++9r0aJFCg0NVXh4uM6cOaPExEQ5nf/3VOPHj9cdd9yhVq1aacSIEXruuef03//9314l5IfS0tIUHh7uucXGxlZ0bAAA4AcqVFBSU1O1ePFiff7552rQoIHXuu7du+vgwYM6ceKETp06pbffflvffvutmjRpUub+OnTooJKSEh0+fLjU9ZMnT1ZeXp7ndvTo0YqMDQAA/ES53uIxxmj06NHKyMjQqlWrFBcXV+a2tWvXliStXLlSJ06cUK9evcrcdtu2bXI6nYqOji51fWBgoNd1LQAAwN7KVVBSUlI0Z84cLVy4UC6XS7m5uZKk8PBwBQcHS5LS09OVkJCgOnXqaP369Xr88cc1btw4NWvWTJK0fv16bdy4UXfeeadcLpfWr1+vcePGacCAAapVq1YVxwMAAP7IYYwx17yxw1Hq8vT0dCUnJ0uSJk2apNmzZ+v06dNq3LixRowYoXHjxnke+69//UujRo3S3r17VVhYqLi4OA0cOFDjx4+/5rMk+fn5Cg8PV15enufjzAAAwNrKc/wuV0GxCgoKAAD+pzzHb36LBwAAWA4FBQAAWA4FBQAAWA4FBQAAWA4FBQAAWA4FBQAAWA4FBQAAWA4FBQAAWA4FBQAAWA4FBQAAWA4FBQAAWA4FBQAAWA4FBQAAWA4FBQAAWA4FBQAAWA4FBQAAWA4FBQAAWA4FBQAAWA4FBQAAWA4FBQAAWA4FBQAAWA4FBQAAWA4FBQAAWA4FBQAAWA4FBQAAWA4FBQAAWA4FBQAAWA4FBQAAWA4FBQAAWA4FBQAAWA4FBQAAWA4FBQAAWA4FBQAAWA4FBQAAWA4FBQAAWA4FBQAAWA4FBQAAWA4FBQAAWA4FBQAAWA4FBQAAWA4FBQAAWA4FBQAAWA4FBQAAWA4FBQAAWA4FBQAAWA4FBQAAWA4FBQAAWA4FBQAAWE65CkpaWpratWsnl8ul6Oho9enTR9nZ2V7bHDx4UA888IDq1KmjsLAw9e3bV8ePH/fa5vTp0+rfv7/CwsIUERGhIUOG6OzZs5VPAwAAbKFcBSUzM1MpKSnasGGDVqxYoeLiYnXv3l0FBQWSpIKCAnXv3l0Oh0MrV67U2rVrVVRUpPvvv19ut9uzn/79+2vXrl1asWKFFi9erNWrV+uxxx6r2mQAAMBvOYwxpqIPPnnypKKjo5WZmakuXbrok08+0b333qvvvvtOYWFhkqS8vDzVqlVLn3zyibp166Y9e/aoefPm2rx5s9q2bStJWrZsmXr27KlvvvlG9evX/8nnzc/PV3h4uPLy8jzPAwAArK08x+9KXYOSl5cnSYqMjJQkFRYWyuFwKDAw0LNNUFCQnE6n1qxZI0lav369IiIiPOVEkrp16yan06mNGzdWZhwAAGATFS4obrdbY8eOVVJSklq0aCFJ6tixo2rWrKmJEyfq3LlzKigo0IQJE3Tx4kXl5ORIknJzcxUdHe21r4CAAEVGRio3N7fU5yosLFR+fr7XDQAA2FeFC0pKSop27typuXPnepbVqVNH77//vhYtWqTQ0FCFh4frzJkzSkxMlNNZ8ZM1aWlpCg8P99xiY2MrvC8AAGB9ARV5UGpqqufi1gYNGnit6969uw4ePKhTp04pICBAERERiomJUZMmTSRJMTExOnHihNdjSkpKdPr0acXExJT6fJMnT9b48eM99/Pz8ykpAADYWLkKijFGo0ePVkZGhlatWqW4uLgyt61du7YkaeXKlTpx4oR69eolSerUqZPOnDmjrKwstWnTxrON2+1Whw4dSt1XYGCg13UtAADA3spVUFJSUjRnzhwtXLhQLpfLc81IeHi4goODJUnp6elKSEhQnTp1tH79ej3++OMaN26cmjVrJklKSEjQPffco2HDhum1115TcXGxUlNT9cgjj1zTJ3gAAID9letjxg6Ho9Tl6enpSk5OliRNmjRJs2fP1unTp9W4cWONGDFC48aN83rs6dOnlZqaqkWLFsnpdOqhhx7Siy++qNDQ0Guag48ZAwDgf8pz/K7U96D4CgUFAAD/c8O+BwUAAOB6oKAAAADLoaAAAADLoaAAAADLoaAAAADLoaAAAADLoaAAAADLoaAAAADLoaAAAADLoaAAAADLoaAAAADLoaAAAADLoaAAAADLoaAAAADLoaAAAADLoaAAAADLoaAAAADLoaAAAADLoaAAAADLoaAAAADLoaAAAADLoaAAAADLoaAAAADLoaAAAADLoaAAAADLoaAAAADLoaAAAADLoaAAAADLoaAAAADLoaAAAADLoaAAAADLoaAAAADLoaAAAADLoaAAAADLoaAAAADLoaAAAADLoaAAAADLoaAAAADLoaAAAADLoaAAAADLoaAAAADLoaAAAADLoaAAAADLoaAAAADLoaAAAADLoaAAAADLoaAAAADLoaAAAADLKVdBSUtLU7t27eRyuRQdHa0+ffooOzvba5vc3FwNHDhQMTExqlmzphITEzV//nyvbRo3biyHw+F1mzFjRuXTAAAAWyhXQcnMzFRKSoo2bNigFStWqLi4WN27d1dBQYFnm0GDBik7O1sfffSRduzYoQcffFB9+/bV1q1bvfY1ffp05eTkeG6jR4+umkQAAMDvBZRn42XLlnndnz17tqKjo5WVlaUuXbpIktatW6dXX31V7du3lyQ9+eSTeuGFF5SVlaXWrVt7HutyuRQTE1PZ+QEAgA1V6hqUvLw8SVJkZKRnWefOnTVv3jydPn1abrdbc+fO1YULF3THHXd4PXbGjBmKiopS69at9fe//10lJSWVGQUAANhIuc6g/JDb7dbYsWOVlJSkFi1aeJa/9957evjhhxUVFaWAgACFhIQoIyND8fHxnm3GjBmjxMRERUZGat26dZo8ebJycnL0/PPPl/pchYWFKiws9NzPz8+v6NgAAMAPVLigpKSkaOfOnVqzZo3X8ilTpujMmTP69NNPVbt2bS1YsEB9+/bVF198oZYtW0qSxo8f79m+VatWqlGjhoYPH660tDQFBgZe8VxpaWmaNm1aRUcFAAB+xmGMMeV9UGpqqhYuXKjVq1crLi7Os/zgwYOKj4/Xzp07dcstt3iWd+vWTfHx8XrttddK3d+uXbvUokUL7d27V82aNbtifWlnUGJjY5WXl6ewsLDyjg8AAHwgPz9f4eHh13T8LtcZFGOMRo8erYyMDK1atcqrnEjSuXPnJElOp/elLdWqVZPb7S5zv9u2bZPT6VR0dHSp6wMDA0s9swIAAOypXAUlJSVFc+bM0cKFC+VyuZSbmytJCg8PV3BwsG6++WbFx8dr+PDhevbZZxUVFaUFCxZoxYoVWrx4sSRp/fr12rhxo+688065XC6tX79e48aN04ABA1SrVq2qTwgAAPxOud7icTgcpS5PT09XcnKyJGn//v2aNGmS1qxZo7Nnzyo+Pl4TJkzQwIEDJUn/+te/NGrUKO3du1eFhYWKi4vTwIEDNX78+Gs+S1KeU0QAAMAaynP8rtA1KL5GQQEAwP+U5/jNb/EAAADLoaAAAADLoaAAAADLoaAAAADLoaAAAADLoaAAAADLoaAAAADLoaAAAADLoaAAAADLoaAAAADLoaAAAADLoaAAAADLoaAAAADLoaAAAADLoaAAAADLoaAAAADLoaAAAADLoaAAAADLoaAAAADLoaAAAADLoaAAAADLoaAAAADLoaAAAADLoaAAAADLoaAAAADLoaAAAADLoaAAAADLoaAAAADLoaAAAADLoaAAAADLoaAAAADLoaAAAADLoaAAAADLoaAAAADLoaAAAADLoaAAAADLoaAAAADLoaAAAADLoaAAAADLoaAAAADLoaAAAADLoaAAAADLoaAAAADLoaAAAADLoaAAAADLoaAAAADLoaAAAADLoaAAAADLoaAAAADLKVdBSUtLU7t27eRyuRQdHa0+ffooOzvba5vc3FwNHDhQMTExqlmzphITEzV//nyvbU6fPq3+/fsrLCxMERERGjJkiM6ePVv5NAAAwBbKVVAyMzOVkpKiDRs2aMWKFSouLlb37t1VUFDg2WbQoEHKzs7WRx99pB07dujBBx9U3759tXXrVs82/fv3165du7RixQotXrxYq1ev1mOPPVZ1qQAAgF9zGGNMRR988uRJRUdHKzMzU126dJEkhYaG6tVXX9XAgQM920VFRemZZ57R0KFDtWfPHjVv3lybN29W27ZtJUnLli1Tz5499c0336h+/fo/+bz5+fkKDw9XXl6ewsLCKjo+AAC4gcpz/K7UNSh5eXmSpMjISM+yzp07a968eTp9+rTcbrfmzp2rCxcu6I477pAkrV+/XhEREZ5yIkndunWT0+nUxo0bS32ewsJC5efne90AAIB9VbiguN1ujR07VklJSWrRooVn+Xvvvafi4mJFRUUpMDBQw4cPV0ZGhuLj4yVdukYlOjraa18BAQGKjIxUbm5uqc+Vlpam8PBwzy02NraiYwMAAD9Q4YKSkpKinTt3au7cuV7Lp0yZojNnzujTTz/Vli1bNH78ePXt21c7duyo8JCTJ09WXl6e53b06NEK7wsAAFhfQEUelJqa6rm4tUGDBp7lBw8e1EsvvaSdO3fqlltukSTdeuut+uKLL/Tyyy/rtddeU0xMjE6cOOG1v5KSEp0+fVoxMTGlPl9gYKACAwMrMioAAPBD5TqDYoxRamqqMjIytHLlSsXFxXmtP3fu3KWdOr13W61aNbndbklSp06ddObMGWVlZXnWr1y5Um63Wx06dKhQCAAAYC/lOoOSkpKiOXPmaOHChXK5XJ5rRsLDwxUcHKybb75Z8fHxGj58uJ599llFRUVpwYIFno8TS1JCQoLuueceDRs2TK+99pqKi4uVmpqqRx555Jo+wQMAAOyvXB8zdjgcpS5PT09XcnKyJGn//v2aNGmS1qxZo7Nnzyo+Pl4TJkzw+tjx6dOnlZqaqkWLFsnpdOqhhx7Siy++qNDQ0Guag48ZAwDgf8pz/K7U96D4CgUFAAD/c8O+BwUAAOB6oKAAAADLoaAAAADLoaAAAADLoaAAAADLoaAAAADLoaAAAADLoaAAAADLoaAAAADLoaAAAADLoaAAAADLoaAAAADLoaAAAADLoaAAAADLoaAAAADLoaAAAADLoaAAAADLoaAAAADLoaAAAADLoaAAAADLoaAAAADLoaAAAADLoaAAAADLoaAAAADLoaAAAADLoaAAAADLoaAAAADLoaAAAADLoaAAAADLoaAAAADLoaAAAADLoaAAAADLoaAAAADLoaAAAADLoaAAAADLoaAAAADLoaAAAADLoaAAAADLoaAAAADLoaAAAADLoaAAAADLoaAAAADLoaAAAADLoaAAAADLoaAAAADLoaAAAADLoaAAAADLoaAAAADLKVdBSUtLU7t27eRyuRQdHa0+ffooOzvbs/7w4cNyOByl3t5//33PdqWtnzt3btWlAgAAfq1cBSUzM1MpKSnasGGDVqxYoeLiYnXv3l0FBQWSpNjYWOXk5Hjdpk2bptDQUN17771e+0pPT/fark+fPlUWCgAA+LeA8my8bNkyr/uzZ89WdHS0srKy1KVLF1WrVk0xMTFe22RkZKhv374KDQ31Wh4REXHFtgAAAFIlr0HJy8uTJEVGRpa6PisrS9u2bdOQIUOuWJeSkqLatWurffv2mjVrlowxZT5PYWGh8vPzvW4AAMC+ynUG5YfcbrfGjh2rpKQktWjRotRtZs6cqYSEBHXu3Nlr+fTp03XXXXcpJCREn3zyiUaNGqWzZ89qzJgxpe4nLS1N06ZNq+ioAADAzzjM1U5dXMXIkSO1dOlSrVmzRg0aNLhi/fnz51WvXj1NmTJFv//976+6r6eeekrp6ek6evRoqesLCwtVWFjouZ+fn6/Y2Fjl5eUpLCysIuMDAIAbLD8/X+Hh4dd0/K7QWzypqalavHixPv/881LLiSR98MEHOnfunAYNGvST++vQoYO++eYbrxLyQ4GBgQoLC/O6AQAA+yrXWzzGGI0ePVoZGRlatWqV4uLiytx25syZ6tWrl+rUqfOT+922bZtq1aqlwMDA8owDAABsqlwFJSUlRXPmzNHChQvlcrmUm5srSQoPD1dwcLBnuwMHDmj16tVasmTJFftYtGiRjh8/ro4dOyooKEgrVqzQX//6V02YMKGSUQAAgF2U6xoUh8NR6vL09HQlJyd77v/hD3/QO++8o8OHD8vp9H4XadmyZZo8ebIOHDggY4zi4+M1cuRIDRs27Ipty1Ke97AAAIA1lOf4XeGLZH2JggIAgP+57hfJAgAAXE8UFAAAYDkUFAAAYDkUFAAAYDkUFAAAYDkUFAAAYDkUFAAAYDkUFAAAYDkUFAAAYDkUFAAAYDkUFAAAYDkUFAAAYDkUFAAAYDkUFAAAYDkUFAAAYDkUFAAAYDkUFAAAYDkUFAAAYDkUFAAAYDkUFAAAYDkUFAAAYDkUFAAAYDkUFAAAYDkUFAAAYDkUFAAAYDkUFAAAYDkUFAAAYDkUFAAAYDkUFAAAYDkUFAAAYDkUFAAAYDkUFAAAYDkUFAAAYDkUFAAAYDkUFAAAYDkUFAAAYDkUFAAAYDkUFAAAYDkUFAAAYDkUFAAAYDkUFAAAYDkUFAAAYDkUFAAAYDkUFAAAYDkUFAAAYDkUFAAAYDkUFAAAYDkUFAAAYDnlKihpaWlq166dXC6XoqOj1adPH2VnZ3vWHz58WA6Ho9Tb+++/79nu66+/1n333aeQkBBFR0friSeeUElJSdWlAgAAfq1cBSUzM1MpKSnasGGDVqxYoeLiYnXv3l0FBQWSpNjYWOXk5Hjdpk2bptDQUN17772SpIsXL+q+++5TUVGR1q1bpzfffFOzZ8/WU089VfXpAACAX3IYY0xFH3zy5ElFR0crMzNTXbp0KXWb1q1bKzExUTNnzpQkLV26VL/5zW907Ngx1a1bV5L02muvaeLEiTp58qRq1Kjxk8+bn5+v8PBw5eXlKSwsrKLjAwCAG6g8x+9KXYOSl5cnSYqMjCx1fVZWlrZt26YhQ4Z4lq1fv14tW7b0lBNJ6tGjh/Lz87Vr165S91NYWKj8/HyvGwAAsK8KFxS3262xY8cqKSlJLVq0KHWbmTNnKiEhQZ07d/Ysy83N9Sonkjz3c3NzS91PWlqawsPDPbfY2NiKjg0AAPxAhQtKSkqKdu7cqblz55a6/vz585ozZ47X2ZOKmjx5svLy8jy3o0ePVnqfAADAugIq8qDU1FQtXrxYq1evVoMGDUrd5oMPPtC5c+c0aNAgr+UxMTHatGmT17Ljx4971pUmMDBQgYGBFRkVAAD4oXKdQTHGKDU1VRkZGVq5cqXi4uLK3HbmzJnq1auX6tSp47W8U6dO2rFjh06cOOFZtmLFCoWFhal58+blHB8AANhRuc6gpKSkaM6cOVq4cKFcLpfnmpHw8HAFBwd7tjtw4IBWr16tJUuWXLGP7t27q3nz5ho4cKD+9re/KTc3V08++aRSUlI4SwIAACSV82PGDoej1OXp6elKTk723P/DH/6gd955R4cPH5bTeeVJmiNHjmjkyJFatWqVatasqcGDB2vGjBkKCLi2vsTHjAEA8D/lOX5X6ntQfIWCAgCA/7lh34MCAABwPVBQAACA5VBQAACA5VBQAACA5VBQAACA5VBQAACA5VBQAACA5VBQAACA5VBQAACA5VBQAACA5VBQAACA5VBQAACA5VzbzwdbzOXfN8zPz/fxJAAA4FpdPm5fy+8U+2VB+f777yVJsbGxPp4EAACU1/fff6/w8PCrbuMw11JjLMbtduvYsWNyuVxyOBzX9Jj8/HzFxsbq6NGjP/kTz/7I7vkk+2e0ez7J/hntnk+yf0a755N8m9EYo++//17169eX03n1q0z88gyK0+lUgwYNKvTYsLAw2/6lk+yfT7J/Rrvnk+yf0e75JPtntHs+yXcZf+rMyWVcJAsAACyHggIAACznZ1NQAgMDNXXqVAUGBvp6lOvC7vkk+2e0ez7J/hntnk+yf0a755P8J6NfXiQLAADs7WdzBgUAAPgPCgoAALAcCgoAALAcCgoAALAcCgoAALCcn2VB+e677/TWW2/5eowKmz9/vs6dO+frMXzq+PHjmj59uq/HqLDnnntOR44c8fUYPsVr6P8KCgq0evVqX49RYVlZWb4eweesfDz8WX7MePv27UpMTNTFixd9PUqFOJ1OuVwuPfzwwxoyZIg6dOjg65FuODu8hk6nU3feeaeGDh2qBx54QDVq1PD1WDcUr6H/s8Nr2KRJEz366KNKTk5W/fr1fT3SDWfl19Avf4vnp1z+OeeyXP41ZH82YcIEZWRk6I033lDz5s01dOhQDRw4UFFRUb4erUp8+eWXV12fnZ19gya5ft544w0tWLBAAwcOVFhYmAYMGKChQ4eqRYsWvh6tSvAawh/cdddd+sc//qGpU6eqR48eGjp0qO6//35Vq1bN16NVCX8+HtryDIrT6bzqrxwbY+RwOCzZGK+F0+lUbm6uoqOjlZWVpZkzZ+rdd9/V+fPn1atXLw0bNky//vWvfT1mpVx+DUv763l5uV1ewxMnTmj27NlKT0/Xvn371KZNGw0bNkyPPPKIXC6Xr0etMF5D/38NIyMjr7r+4sWLOnv2rN+/hpGRkVq4cKFmzZql5cuXq3bt2ho8eLCGDBmiX/7yl74es1L8+Xhoy4ISHh6uP/7xj2W+9bF//34NHz7cki/ItfjhP4yXXbhwQe+//75mzZql1atXq2HDhjp06JAPp6yc2rVr629/+5vuvvvuUtfv2rVL999/v61eQ0n64osvNHPmTH3wwQeSpLNnz/pivCrBa+j/r2HNmjU1cuRItWzZstT1R44c0bRp02z1Gn777beaNWuWZs+ercOHDyspKcmvr7Px5+OhLd/iSUxMlCR17dq11PURERGl/ledvyitDQcFBWngwIEaOHCgDhw4oPT0dB9MVnXatGmjY8eOqVGjRqWuP3PmjO1eQ0m6/fbbdfvtt+vFF1/UvHnzbvBUVYvX0P9fw1/96leKjY3V4MGDS12/fft2TZs27QZPVXVKew1vuukmTZkyRVOmTNFnn32mWbNm+WCyquPPx0NbFpR+/frp/PnzZa6PiYnR1KlTb+BEVeun/jLFx8fr6aefvkHTXB8jRoxQQUFBmesbNmzo1yXsp17DsLAwDRs27AZNc33wGvr/a3jffffpzJkzZa6PjIzUoEGDbtxAVeynXsO77767zDOA/sKfj4e2fIvH7o4cOaKGDRte9X1FAMDVZWZmKikpSQEBtvxvdb9HQQEAAJZj29p46tQpzZo1S+vXr1dubq6kS6eyOnfurOTkZNWpU8fHE1aO3fNJ0u7du/XSSy9dkbFTp05KTU1V8+bNfTxh5dg9n2T/jHbPJ0lFRUVasGBBqf/W9O7d2++/+8Xu+ST/PV7Y8gzK5s2b1aNHD4WEhKhbt26qW7eupEvfXPnZZ5/p3LlzWr58udq2bevjSSvG7vkkaenSperTp48SExPVo0cPr4wrVqxQVlaWFi5cqB49evh40oqxez7J/hntnk+SDhw4oB49eujYsWPq0KGDV8aNGzeqQYMGWrp0qeLj4308acXYPZ/k58cLY0MdOnQwjz32mHG73Vesc7vd5rHHHjMdO3b0wWRVw+75jDGmVatWZsqUKWWunzp1qmnZsuUNnKhq2T2fMfbPaPd8xhjTrVs307t3b5OXl3fFury8PNO7d2/TvXt3H0xWNeyezxj/Pl7YsqAEBQWZPXv2lLl+z549Jigo6AZOVLXsns+YSxn37t1b5vq9e/f6dUa75zPG/hntns8YY4KDg82OHTvKXP/ll1+a4ODgGzhR1bJ7PmP8+3hhyx8LjImJ0aZNm8pcv2nTJs9pLn9k93yS1LhxY3388cdlrv/444/L/H4Nf2D3fJL9M9o9n3TpOzIOHz5c5vrDhw8rIiLihs1T1eyeT/Lv44UtL5KdMGGCHnvsMWVlZenuu+++4j23119/Xc8++6yPp6w4u+eTpOnTp6tfv35atWpVqe+bLlu2THPmzPHxlBVn93yS/TPaPZ8kDR06VIMGDdKUKVNK/bfmL3/5i0aPHu3jKSvO7vkkPz9e+PoUzvUyd+5c06FDBxMQEGAcDodxOBwmICDAdOjQwcybN8/X41Wa3fMZY8zatWvNww8/bBo2bGhq1KhhatSoYRo2bGgefvhhs27dOl+PV2l2z2eM/TPaPZ8xxsyYMcPUq1fPOBwO43Q6jdPpNA6Hw9SrV88888wzvh6v0uyezxj/PV7Y8lM8P1RcXKxTp05JuvTbINWrV/fxRFXL7vkAWMOhQ4e8PqIaFxfn44mqlt3zSf53vLDlNSg/VL16ddWrV0+rVq1SUVGRr8epcnbP90MzZsy46tdu+zu755Psn9HO+eLi4tSpUye53W7Vr1/f1+NUObvnk/zveGH7MyiXhYWFadu2bWrSpImvR7ku7J5Psn9Gu+eT7J/R7vkk+2e0ez7JfzLa/gzKZXbvYXbPJ9k/o93zSfbPaPd8kv0z2j2f5D8ZfzYFBQAA+A9bfsy4NEuXLtVNN93k6zGuG7vnky797omdM9o9n3Qpo13f35fsn0+S/vnPf1r2ezOqgt3zSf5zvPjZXIMC/3Tx4kVVq1bNc3/Tpk1yu91q3bq1AgMDfThZ1bB7vsu+/vpr5eTkyOl0qkmTJoqKivL1SFXK7vkuKywslCRb/d38Ibvn8ze2fIvH5XJpyJAhWrduna9HuS7snk+Sjhw5orZt2yowMFD33nuv8vPz9etf/1odO3ZU586d1bx5c+3bt8/XY1aY3fNd9sorr6hRo0aKi4tT586d1bFjR0VHR+u2225TVlaWr8erNLvnk6QVK1aoZ8+eqlWrlkJCQhQSEqJatWqpZ8+e+vTTT309XqXZPd9P2bNnj2UvlrVlQSkoKNDGjRt12223KSEhQc8995xOnjzp67GqjN3zSdLvf/97hYaGasGCBQoLC1PPnj1VUlKio0eP6ttvv1XTpk01ceJEX49ZYXbPJ0nPPvusnn76aT3xxBP65z//qWbNmulPf/qTPv74YzVp0kRdunTRli1bfD1mhdk9nyS9+eab6tmzp8LDw/XCCy9o8eLFWrx4sV544QVFRESoZ8+eevvtt309ZoXZPd+1KCoq0pEjR3w9Rul88OVw153D4TDHjx8327ZtM6mpqSYyMtLUqFHDPPjgg2bJkiWl/qqjP7F7PmOMqVOnjtm6dasxxpgzZ84Yh8NhvvjiC8/6rKwsU7duXR9NV3l2z2eMMY0bNzZLlizx3M/OzjZRUVGmuLjYGGPMmDFjzK9//WtfjVdpds9njDFNmzY1L730UpnrX375ZRMfH38DJ6pads9njDHjxo276m3AgAHG6XT6esxS2bqgXHbhwgUzZ84cc/fddxun02kaNGhw1Z9Jtzq75zPGGJfLZb766itjjDEXL140AQEBZtu2bZ71+/fvNy6Xy1fjVZrd8xljTEhIiDl06JDnvtvtNgEBAebYsWPGGGO2bdtmQkNDfTRd5dk9nzHGBAYG2voXm+2ezxhjnE6nSUxMNHfccUept7Zt21q2oNjyLR6Hw+F1PzAwUL/73e/06aef6uDBg0pOTtbs2bN9M1wVsHs+Sbrllls0a9YsSZdOw0ZFRWnu3Lme9e+++65++ctf+mq8SrN7Pkn65S9/qRUrVnjuf/7556pRo4ZiYmIkSUFBQVf8XfYnds8nXfp7OnPmzDLXz5o1S82bN7+BE1Utu+eTpPj4eI0bN06ff/55qbfXX3/d1yOWyZaf4nE6ncrNzVV0dHSZ2xhj/PYfD7vnk6Tly5erT58+crvdcjqdWr58uYYNG6aIiAg5nU5t3rxZc+bMUd++fX09aoXYPZ8kvffeexowYIAeeOABBQUF6cMPP1RqaqrS0tIkXfo455tvvum3F3vbPZ8krVq1Sr/5zW/UpEmTUn+x+auvvtLHH3+sLl26+HjSirF7Pknq37+/oqOj9cILL5S6fvv27WrdurXcbvcNnuyn2bKgTJs2TU888YRCQkJ8Pcp1Yfd8lx0+fFhZWVlq06aNGjdurOPHj+vll1/WuXPndN999+nOO+/09YiVYvd80qXvW3jnnXdUWFioHj16aNiwYZ51//73vyXJrz+Sa/d80qW/p6+++qo2bNjg9WN6nTp10ogRI9S4cWPfDlhJds+Xm5urwsJCNWrUyNejlJstCwoAAPBvtrwG5aeUlJTo66+/9vUY143d80n2z2j3fJL9M9o9H3C9/SwLyq5duxQXF+frMa4bu+eT7J/R7vkk+2e0S75XXnlF3bp1U9++ffXZZ595rTt16pRlv+TrWtk9n+S/GX+WBQUA8NNefPFFPfHEE7r55psVGBionj17ei4Cli79VINlv+TrGtg9n+TfGW35Y4GJiYlXXX/+/PkbNMn1Yfd8kv0z2j2fZP+Mds8nXfok0uuvv65+/fpJkkaOHKk+ffro/Pnzmj59uo+nqzy755P8O6MtC8ru3bv1yCOPlHl6NScnx69/58Tu+ST7Z7R7Psn+Ge2eT5IOHTqkzp07e+537txZK1euVLdu3VRcXKyxY8f6brgqYPd8kp9n9N13xF0/bdq0Ma+88kqZ67du3WrZb867FnbPZ4z9M9o9nzH2z2j3fMYYExsba1avXn3F8l27dpm6deuaQYMG+XVGu+czxr8z2vIalKSkJGVnZ5e53uVy+fUX79g9n2T/jHbPJ9k/o93zSdJtt92mDz/88IrlzZs312effaalS5f6YKqqY/d8kn9n5HtQAACl+vLLL5WVlaX//M//LHX9zp07NX/+fE2dOvUGT1Y17J5P8u+MFBQAAGA5trxI9rJNmzZp/fr1V3x9cfv27X08WdWwez7J/hntnk+yf0a755Psn9Hu+SQ/zejbS2Cuj+PHj5vbbrvNOBwO06hRI9O+fXvTvn1706hRI+NwOMxtt91mjh8/7usxK8zu+Yyxf0a75zPG/hntns+YSxmTkpJsm9Hu+Yzx74y2LCgPPfSQ6dSpk9m7d+8V6/bu3Ws6d+5sfvvb3/pgsqph93zG2D+j3fMZY/+Mds9njP0z2j2fMf6d0ZYFJTQ01PzrX/8qc/2WLVtMaGjoDZyoatk9nzH2z2j3fMbYP6Pd8xlj/4x2z2eMf2e05ceMAwMDlZ+fX+b677//XoGBgTdwoqpl93yS/TPaPZ9k/4x2zyfZP6Pd80l+ntHXDel6GDVqlGnUqJH58MMPTV5enmd5Xl6e+fDDD03jxo1NamqqDyesHLvnM8b+Ge2ezxj7Z7R7PmPsn9Hu+Yzx74y2LCgXLlwwI0aMMDVq1DBOp9MEBQWZoKAg43Q6TY0aNczIkSPNhQsXfD1mhdk9nzH2z2j3fMbYP6Pd8xlj/4x2z2eMf2e09feg5OfnKysry+tjVW3atFFYWJiPJ6sads8n2T+j3fNJ9s9o93yS/TPaPZ/knxltXVAAAIB/suVFstKlnzpfs2aNdu/efcW6Cxcu6K233vLBVFXH7vkk+2e0ez7J/hntnk+yf0a755P8OKNv32G6PrKzsz1fQuN0Ok2XLl3Mt99+61mfm5tr2V9vvBZ2z2eM/TPaPZ8x9s9o93zG2D+j3fMZ498ZbXkGZeLEiWrRooVOnDih7OxsuVwu3Xbbbfr66699PVqVsHs+yf4Z7Z5Psn9Gu+eT7J/R7vkkP8/o64Z0PURHR5svv/zSc9/tdpsRI0aYhg0bmoMHD1q6MV4Lu+czxv4Z7Z7PGPtntHs+Y+yf0e75jPHvjLY8g3L+/HkFBPzf7yA6HA69+uqruv/++9W1a1ft27fPh9NVnt3zSfbPaPd8kv0z2j2fZP+Mds8n+XdGW/6a8c0336wtW7YoISHBa/lLL70kSerVq5cvxqoyds8n2T+j3fNJ9s9o93yS/TPaPZ/k3xlteQblgQce0Lvvvlvqupdeekm/+93vZPz409V2zyfZP6Pd80n2z2j3fJL9M9o9n+TfGfkeFAAAYDm2PIMCAAD8GwUFAABYDgUFAABYDgUFAABYDgUFAABYDgUFAABYDgUFAABYDgUFAABYzv8HcdWQPlQjSVsAAAAASUVORK5CYII=",
      "text/plain": [
       "<Figure size 640x480 with 1 Axes>"
      ]
     },
     "metadata": {},
     "output_type": "display_data"
    }
   ],
   "source": [
    "import matplotlib.pyplot as plt\n",
    "from matplotlib.pyplot import figure\n",
    "# Plot a simple line chart\n",
    "# plt.plot(df[\"severity_injuries\"], color='g', label='Line y')\n",
    "\n",
    "# Plot another line on the same chart/graph\n",
    "plt.plot(df[\"number_of_persons_injured\"], color='darkorange', label='total number of people injured')\n",
    "plt.xticks(rotation = 90)\n",
    "\n",
    "\n",
    "plt.legend()\n",
    "plt.show()"
   ]
  },
  {
   "cell_type": "code",
   "execution_count": 20,
   "metadata": {},
   "outputs": [
    {
     "data": {
      "image/png": "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",
      "text/plain": [
       "<Figure size 640x480 with 1 Axes>"
      ]
     },
     "metadata": {},
     "output_type": "display_data"
    }
   ],
   "source": [
    "import matplotlib.pyplot as plt\n",
    "from matplotlib.pyplot import figure\n",
    "# Plot a simple line chart\n",
    "# plt.plot(df[\"severity_injuries\"], color='g', label='Line y')\n",
    "\n",
    "# Plot another line on the same chart/graph\n",
    "plt.plot(df[\"number_of_persons_killed\"], color='r', label='total number of people killed')\n",
    "plt.xticks(rotation = 90)\n",
    "\n",
    "\n",
    "plt.legend()\n",
    "plt.show()"
   ]
  },
  {
   "cell_type": "code",
   "execution_count": 21,
   "metadata": {},
   "outputs": [
    {
     "data": {
      "image/png": "iVBORw0KGgoAAAANSUhEUgAAAjUAAAHJCAYAAAB9rchnAAAAOXRFWHRTb2Z0d2FyZQBNYXRwbG90bGliIHZlcnNpb24zLjYuMSwgaHR0cHM6Ly9tYXRwbG90bGliLm9yZy/av/WaAAAACXBIWXMAAA9hAAAPYQGoP6dpAAA68ElEQVR4nO3de3QU9d3H8c9uIAmYCwmXXCAkUKmAyi2RGG7qw0qUPlYqHBHRAA+XYg0KqRToIwmINgGjUg2gD4rVKg2lRaUiUUmJ1ygaRFrlJgJBSAJUSYBAEpJ5/uBky5YEsklg2Z/v1zl7TjMzO/P9dDndT2dnZ22WZVkCAADwcnZPDwAAANAcKDUAAMAIlBoAAGAESg0AADACpQYAABiBUgMAAIxAqQEAAEag1AAAACO08PQAl0pNTY0OHjyowMBA2Ww2T48DAAAawLIsHTt2TJGRkbLbz38u5kdTag4ePKioqChPjwEAABph//796tSp03m3+dGUmsDAQEln/ksJCgry8DQAAKAhysrKFBUV5XwfP58fTamp/cgpKCiIUgMAgJdpyKUjXCgMAACMQKkBAABGoNQAAAAj/GiuqQEAE9TU1KiystLTYwDNpmXLlvLx8WmWfVFqAMBLVFZWas+ePaqpqfH0KECzatOmjcLDw5t8HzlKDQB4AcuyVFRUJB8fH0VFRV3wJmSAN7AsS+Xl5Tp06JAkKSIiokn7o9QAgBc4ffq0ysvLFRkZqdatW3t6HKDZtGrVSpJ06NAhdejQoUkfRVH1AcALVFdXS5J8fX09PAnQ/GqLelVVVZP2Q6kBAC/Cb9fBRM3175pSAwAAjECpAQBcVmJiYrR48eIm72fevHnq06dPk/djCpvNptdff12StHfvXtlsNm3ZsuWCz3NnW0/jQmEAwEUzfvx4HT161Plm2hCfffaZrrjiiiYf+6GHHtK0adOavJ8fu6ioKBUVFaldu3aeHuWCKDUAgMtK+/btm/R8y7JUXV2tgIAABQQENNNUl0bt7C1aXD5vzz4+PgoPD/f0GA3Cx08AgEvmxhtv1AMPPKDf/OY3Cg0NVXh4uObNm+eyzdkfP9X10cfRo0dls9mUl5cnScrLy5PNZtP69esVGxsrPz8/ffjhh3V+/PT888+rR48e8vf3V/fu3bV06VLnusrKSiUnJysiIkL+/v6Kjo5Wenp6vVnGjx+vESNGaP78+Wrfvr2CgoI0depUlzs+19TUKD09XV26dFGrVq3Uu3dv/eUvf3Gur2/2unz33XcaM2aMQkNDdcUVVyguLk6ffvqpc/2yZcv0k5/8RL6+vrrqqqv0xz/+sd7Z/9MPP/ygsWPHqn379mrVqpW6deumF198UVLdr8F7772n/v37y8/PTxEREZo9e7ZOnz7tXN+Q1/liuHyqIACg4SxLOl3umWO3aC014dsqL730klJSUvTpp58qPz9f48eP18CBA3XzzTc3aazZs2crMzNTXbt2VUhIiLP01Hr11VeVmpqqrKws9e3bV1988YUmT56sK664QuPGjdPTTz+ttWvX6s9//rM6d+6s/fv3a//+/ec9Zm5urvz9/ZWXl6e9e/dqwoQJatu2rR577DFJUnp6ul555RU9++yz6tatm95//33dc889at++vW644YZ6Z/9Px48f1w033KCOHTtq7dq1Cg8P1+bNm513l37ttdf04IMPavHixXI4HHrzzTc1YcIEderUSTfddNMF/7ubO3euvv76a61fv17t2rXTN998o5MnT9a57YEDBzR8+HCNHz9eL7/8srZv367JkyfL39/fpbhcrNf5fCg1AOCNTpdLT3voo5UHjkstG3/NS69evZSWliZJ6tatm7KyspSbm9vkN7tHHnnkvPtIS0vTE088oTvuuEOS1KVLF3399dd67rnnNG7cOBUWFqpbt24aNGiQbDaboqOjL3hMX19frVixQq1bt9bVV1+tRx55RDNnztSCBQtUVVWl3/3ud9qwYYMSEhIkSV27dtWHH36o5557zqXUXGj2lStX6vDhw/rss88UGhoqSbryyiud6zMzMzV+/Hj96le/kiSlpKTok08+UWZmZoNKTWFhofr27au4uDhJZ86W1Wfp0qWKiopSVlaWbDabunfvroMHD2rWrFlKTU113u36Yr3O58PHTwCAS6pXr14uf0dERDhvk98UtW/IdTlx4oR2796tiRMnOq+1CQgI0KOPPqrdu3dLOvNx0pYtW3TVVVfpgQce0DvvvHPBY/bu3dvlDs8JCQk6fvy49u/fr2+++Ubl5eW6+eabXY758ssvO4/ZkNklacuWLerbt6+z0Pynbdu2aeDAgS7LBg4cqG3btl0wgyTdd999ys7OVp8+ffSb3/xGH3/8cb3bbtu2TQkJCS73lhk4cKCOHz+u7777zrnsYr3O58OZGgDwRi1anzlj4qljN0HLli1d/rbZbPX+SGft/+u3LMu5rL67zp7vG1PHj5/572r58uWKj493WVd7W/5+/fppz549Wr9+vTZs2KA777xTDofD5RoYd9Qec926derYsaPLOj8/vwbPLv37pwQulltvvVX79u3TW2+9pXfffVdDhw7V/fffr8zMzEbv053XublQagDAG9lsTfoIyFvUfhOqqKhIffv2laRG3S8lLCxMkZGR+vbbbzV27Nh6twsKCtLo0aM1evRojRo1Srfccou+//77es+QfPnllzp58qSzdHzyyScKCAhQVFSUQkND5efnp8LCQpePmhqjV69eev755+udpUePHvroo480btw457KPPvpIPXv2bPAx2rdvr3HjxmncuHEaPHiwZs6cWWep6dGjh/7617/Ksizn2ZqPPvpIgYGB6tSpUyPSNR9KDQDgstWqVStdf/31ysjIUJcuXXTo0CE9/PDDjdrX/Pnz9cADDyg4OFi33HKLKioq9Pnnn+uHH35QSkqKnnzySUVERKhv376y2+1avXq1wsPD1aZNm3r3WVlZqYkTJ+rhhx/W3r17lZaWpuTkZNntdgUGBuqhhx7SjBkzVFNTo0GDBqm0tFQfffSRgoKCXArIhYwZM0a/+93vNGLECKWnpysiIkJffPGFIiMjlZCQoJkzZ+rOO+9U37595XA49Le//U1r1qzRhg0bGrT/1NRUxcbG6uqrr1ZFRYXefPNN9ejRo85tf/WrX2nx4sWaNm2akpOTtWPHDqWlpSklJcXjvx5PqQEAXNZWrFihiRMnKjY2VldddZUWLVqkYcOGub2fSZMmqXXr1nr88cc1c+ZMXXHFFbr22ms1ffp0SVJgYKAWLVqkXbt2ycfHR9ddd53eeuut875RDx06VN26ddOQIUNUUVGhMWPGuHwDaMGCBWrfvr3S09P17bffqk2bNurXr59++9vfujW7r6+v3nnnHf3617/W8OHDdfr0afXs2VNLliyRJI0YMUK///3vlZmZqQcffFBdunTRiy++qBtvvLHB+58zZ4727t2rVq1aafDgwcrOzq5z244dO+qtt97SzJkz1bt3b4WGhjqLnafZrLM/qDRYWVmZgoODVVpaqqCgIE+PAwBuOXXqlPbs2aMuXbrI39/f0+NcVBEREVqwYIEmTZrk6VHOqzF3S0bdzvfv2533b87UAAAuC+Xl5froo49UUlKiq6++2tPjwAvxlW4AwGXh//7v/3TXXXdp+vTpzvu6AO7g4ycA8AI/po+f8OPTXB8/caYGAAAYgVIDAF7kR3JyHT8yzfXvmlIDAF6g9q63Z/8CNGCK8vIzP876n3chdhfffgIAL9CiRQu1bt1ahw8fVsuWLT1+kzOgOViWpfLych06dEht2rRxlvfGotQAgBew2WyKiIjQnj17tG/fPk+PAzSrNm3aKDw8vMn7odQAgJfw9fVVt27d+AgKRmnZsmWTz9DUotQAgBex2+18pRuoBx/KAgAAI1BqAACAESg1AADACJQaAABgBEoNAAAwAqUGAAAYgVIDAACMQKkBAABGoNQAAAAjUGoAAIARKDUAAMAIlBoAAGAESg0AADACpQYAABiBUgMAAIzQqFKzZMkSxcTEyN/fX/Hx8dq0aVO92y5fvlyDBw9WSEiIQkJC5HA4ztm+pKRE48ePV2RkpFq3bq1bbrlFu3btctnmxhtvlM1mc3lMnTq1MeMDAAADuV1qVq1apZSUFKWlpWnz5s3q3bu3EhMTdejQoTq3z8vL05gxY7Rx40bl5+crKipKw4YN04EDByRJlmVpxIgR+vbbb/XGG2/oiy++UHR0tBwOh06cOOGyr8mTJ6uoqMj5WLRoUSMiAwAAE9ksy7LceUJ8fLyuu+46ZWVlSZJqamoUFRWladOmafbs2Rd8fnV1tUJCQpSVlaWkpCTt3LlTV111lf75z3/q6quvdu4zPDxcv/vd7zRp0iRJZ87U9OnTR4sXL3Yz4hllZWUKDg5WaWmpgoKCGrUPAABwabnz/u3WmZrKykoVFBTI4XD8ewd2uxwOh/Lz8xu0j/LyclVVVSk0NFSSVFFRIUny9/d32aefn58+/PBDl+e++uqrateuna655hrNmTNH5eXl7owPAAAM1sKdjY8cOaLq6mqFhYW5LA8LC9P27dsbtI9Zs2YpMjLSWYy6d++uzp07a86cOXruued0xRVX6KmnntJ3332noqIi5/PuvvtuRUdHKzIyUlu3btWsWbO0Y8cOrVmzps7jVFRUOAuTdKbpAQAAc7lVapoqIyND2dnZysvLc56ZadmypdasWaOJEycqNDRUPj4+cjgcuvXWW3X2J2NTpkxx/udrr71WERERGjp0qHbv3q2f/OQn5xwrPT1d8+fPv/ihAADAZcGtj5/atWsnHx8flZSUuCwvKSlReHj4eZ+bmZmpjIwMvfPOO+rVq5fLutjYWG3ZskVHjx5VUVGRcnJy9K9//Utdu3atd3/x8fGSpG+++abO9XPmzFFpaanzsX///oZEBAAAXsqtUuPr66vY2Fjl5uY6l9XU1Cg3N1cJCQn1Pm/RokVasGCBcnJyFBcXV+92wcHBat++vXbt2qXPP/9ct99+e73bbtmyRZIUERFR53o/Pz8FBQW5PAAAgLnc/vgpJSVF48aNU1xcnPr376/FixfrxIkTmjBhgiQpKSlJHTt2VHp6uiRp4cKFSk1N1cqVKxUTE6Pi4mJJUkBAgAICAiRJq1evVvv27dW5c2f94x//0IMPPqgRI0Zo2LBhkqTdu3dr5cqVGj58uNq2bautW7dqxowZGjJkyDlnfQAAwI+T26Vm9OjROnz4sFJTU1VcXKw+ffooJyfHefFwYWGh7PZ/nwBatmyZKisrNWrUKJf9pKWlad68eZKkoqIipaSkqKSkRBEREUpKStLcuXOd2/r6+mrDhg3OAhUVFaWRI0fq4YcfbkxmAABgILfvU+OtuE8NAADe56LdpwYAAOByRakBAABGoNQAAAAjUGoAAIARKDUAAMAIlBoAAGAESg0AADACpQYAABiBUgMAAIxAqQEAAEag1AAAACNQagAAgBEoNQAAwAiUGgAAYARKDQAAMAKlBgAAGIFSAwAAjECpAQAARqDUAAAAI1BqAACAESg1AADACJQaAABgBEoNAAAwAqUGAAAYgVIDAACMQKkBAABGoNQAAAAjUGoAAIARKDUAAMAIlBoAAGAESg0AADACpQYAABiBUgMAAIxAqQEAAEag1AAAACNQagAAgBEoNQAAwAiUGgAAYARKDQAAMAKlBgAAGIFSAwAAjECpAQAARqDUAAAAI1BqAACAESg1AADACJQaAABgBEoNAAAwAqUGAAAYoVGlZsmSJYqJiZG/v7/i4+O1adOmerddvny5Bg8erJCQEIWEhMjhcJyzfUlJicaPH6/IyEi1bt1at9xyi3bt2uWyzalTp3T//ferbdu2CggI0MiRI1VSUtKY8QEAgIHcLjWrVq1SSkqK0tLStHnzZvXu3VuJiYk6dOhQndvn5eVpzJgx2rhxo/Lz8xUVFaVhw4bpwIEDkiTLsjRixAh9++23euONN/TFF18oOjpaDodDJ06ccO5nxowZ+tvf/qbVq1frvffe08GDB3XHHXc0MjYAADCO5ab+/ftb999/v/Pv6upqKzIy0kpPT2/Q80+fPm0FBgZaL730kmVZlrVjxw5LkvXPf/7TZZ/t27e3li9fblmWZR09etRq2bKltXr1auc227ZtsyRZ+fn5DTpuaWmpJckqLS1t0PYAAMDz3Hn/dutMTWVlpQoKCuRwOJzL7Ha7HA6H8vPzG7SP8vJyVVVVKTQ0VJJUUVEhSfL393fZp5+fnz788ENJUkFBgaqqqlyO2717d3Xu3LnBxwUAAGZzq9QcOXJE1dXVCgsLc1keFham4uLiBu1j1qxZioyMdBaU2nIyZ84c/fDDD6qsrNTChQv13XffqaioSJJUXFwsX19ftWnTpsHHraioUFlZmcsDAACY65J++ykjI0PZ2dl67bXXnGdmWrZsqTVr1mjnzp0KDQ1V69attXHjRt16662y2xs/Xnp6uoKDg52PqKio5ooBAAAuQ261hnbt2snHx+ecbx2VlJQoPDz8vM/NzMxURkaG3nnnHfXq1ctlXWxsrLZs2aKjR4+qqKhIOTk5+te//qWuXbtKksLDw1VZWamjR482+Lhz5sxRaWmp87F//353ogIAAC/jVqnx9fVVbGyscnNznctqamqUm5urhISEep+3aNEiLViwQDk5OYqLi6t3u+DgYLVv3167du3S559/rttvv13SmdLTsmVLl+Pu2LFDhYWF9R7Xz89PQUFBLg8AAGCuFu4+ISUlRePGjVNcXJz69++vxYsX68SJE5owYYIkKSkpSR07dlR6erokaeHChUpNTdXKlSsVExPjvAYmICBAAQEBkqTVq1erffv26ty5s/7xj3/owQcf1IgRIzRs2DBJZ8rOxIkTlZKSotDQUAUFBWnatGlKSEjQ9ddf3yz/RQAAAO/mdqkZPXq0Dh8+rNTUVBUXF6tPnz7KyclxXjxcWFjoci3MsmXLVFlZqVGjRrnsJy0tTfPmzZMkFRUVKSUlRSUlJYqIiFBSUpLmzp3rsv1TTz0lu92ukSNHqqKiQomJiVq6dKm74wMAAEPZLMuyPD3EpVBWVqbg4GCVlpbyURQAAF7CnfdvfvsJAAAYgVIDAACMQKkBAABGoNQAAAAjUGoAAIARKDUAAMAIlBoAAGAESg0AADACpQYAABiBUgMAAIxAqQEAAEag1AAAACNQagAAgBEoNQAAwAiUGgAAYARKDQAAMAKlBgAAGIFSAwAAjECpAQAARqDUAAAAI1BqAACAESg1AADACJQaAABgBEoNAAAwAqUGAAAYgVIDAACMQKkBAABGoNQAAAAjUGoAAIARKDUAAMAIlBoAAGAESg0AADACpQYAABiBUgMAAIxAqQEAAEag1AAAACNQagAAgBEoNQAAwAiUGgAAYARKDQAAMAKlBgAAGIFSAwAAjECpAQAARqDUAAAAI1BqAACAESg1AADACJQaAABgBEoNAAAwQqNKzZIlSxQTEyN/f3/Fx8dr06ZN9W67fPlyDR48WCEhIQoJCZHD4Thn++PHjys5OVmdOnVSq1at1LNnTz377LMu29x4442y2Wwuj6lTpzZmfAAAYCC3S82qVauUkpKitLQ0bd68Wb1791ZiYqIOHTpU5/Z5eXkaM2aMNm7cqPz8fEVFRWnYsGE6cOCAc5uUlBTl5OTolVde0bZt2zR9+nQlJydr7dq1LvuaPHmyioqKnI9Fixa5Oz4AADCUzbIsy50nxMfH67rrrlNWVpYkqaamRlFRUZo2bZpmz559wedXV1crJCREWVlZSkpKkiRdc801Gj16tObOnevcLjY2VrfeeqseffRRSWfO1PTp00eLFy92Z1ynsrIyBQcHq7S0VEFBQY3aBwAAuLTcef9260xNZWWlCgoK5HA4/r0Du10Oh0P5+fkN2kd5ebmqqqoUGhrqXDZgwACtXbtWBw4ckGVZ2rhxo3bu3Klhw4a5PPfVV19Vu3btdM0112jOnDkqLy93Z3wAAGCwFu5sfOTIEVVXVyssLMxleVhYmLZv396gfcyaNUuRkZEuxeiZZ57RlClT1KlTJ7Vo0UJ2u13Lly/XkCFDnNvcfffdio6OVmRkpLZu3apZs2Zpx44dWrNmTZ3HqaioUEVFhfPvsrIyd6ICAAAv41apaaqMjAxlZ2crLy9P/v7+zuXPPPOMPvnkE61du1bR0dF6//33df/997uUnylTpji3v/baaxUREaGhQ4dq9+7d+slPfnLOsdLT0zV//vyLHwoAAFwW3Pr4qV27dvLx8VFJSYnL8pKSEoWHh5/3uZmZmcrIyNA777yjXr16OZefPHlSv/3tb/Xkk0/qtttuU69evZScnKzRo0crMzOz3v3Fx8dLkr755ps618+ZM0elpaXOx/79+xsaEwAAeCG3So2vr69iY2OVm5vrXFZTU6Pc3FwlJCTU+7xFixZpwYIFysnJUVxcnMu6qqoqVVVVyW53HcXHx0c1NTX17nPLli2SpIiIiDrX+/n5KSgoyOUBAADM5fbHTykpKRo3bpzi4uLUv39/LV68WCdOnNCECRMkSUlJSerYsaPS09MlSQsXLlRqaqpWrlypmJgYFRcXS5ICAgIUEBCgoKAg3XDDDZo5c6ZatWql6Ohovffee3r55Zf15JNPSpJ2796tlStXavjw4Wrbtq22bt2qGTNmaMiQIS5nfQAAwI+X26Vm9OjROnz4sFJTU1VcXKw+ffooJyfHefFwYWGhy1mXZcuWqbKyUqNGjXLZT1pamubNmydJys7O1pw5czR27Fh9//33io6O1mOPPea8uZ6vr682bNjgLFBRUVEaOXKkHn744cbmBgAAhnH7PjXeivvUAADgfS7afWoAAAAuV5QaAABgBEoNAAAwAqUGAAAYgVIDAACMQKkBAABGoNQAAAAjUGoAAIARKDUAAMAIlBoAAGAESg0AADACpQYAABiBUgMAAIxAqQEAAEag1AAAACNQagAAgBEoNQAAwAiUGgAAYARKDQAAMAKlBgAAGIFSAwAAjECpAQAARqDUAAAAI1BqAACAESg1AADACJQaAABgBEoNAAAwAqUGAAAYgVIDAACMQKkBAABGoNQAAAAjUGoAAIARKDUAAMAIlBoAAGAESg0AADACpQYAABiBUgMAAIxAqQEAAEag1AAAACNQagAAgBEoNQAAwAiUGgAAYARKDQAAMAKlBgAAGIFSAwAAjECpAQAARqDUAAAAI1BqAACAESg1AADACI0qNUuWLFFMTIz8/f0VHx+vTZs21bvt8uXLNXjwYIWEhCgkJEQOh+Oc7Y8fP67k5GR16tRJrVq1Us+ePfXss8+6bHPq1Cndf//9atu2rQICAjRy5EiVlJQ0ZnwAAGAgt0vNqlWrlJKSorS0NG3evFm9e/dWYmKiDh06VOf2eXl5GjNmjDZu3Kj8/HxFRUVp2LBhOnDggHOblJQU5eTk6JVXXtG2bds0ffp0JScna+3atc5tZsyYob/97W9avXq13nvvPR08eFB33HFHIyIDAAAT2SzLstx5Qnx8vK677jplZWVJkmpqahQVFaVp06Zp9uzZF3x+dXW1QkJClJWVpaSkJEnSNddco9GjR2vu3LnO7WJjY3Xrrbfq0UcfVWlpqdq3b6+VK1dq1KhRkqTt27erR48eys/P1/XXX3/B45aVlSk4OFilpaUKCgpyJzIAAPAQd96/3TpTU1lZqYKCAjkcjn/vwG6Xw+FQfn5+g/ZRXl6uqqoqhYaGOpcNGDBAa9eu1YEDB2RZljZu3KidO3dq2LBhkqSCggJVVVW5HLd79+7q3LlzvcetqKhQWVmZywMAAJjLrVJz5MgRVVdXKywszGV5WFiYiouLG7SPWbNmKTIy0qWgPPPMM+rZs6c6deokX19f3XLLLVqyZImGDBkiSSouLpavr6/atGnT4OOmp6crODjY+YiKinIjKQAA8DaX9NtPGRkZys7O1muvvSZ/f3/n8meeeUaffPKJ1q5dq4KCAj3xxBO6//77tWHDhkYfa86cOSotLXU+9u/f3xwRAADAZaqFOxu3a9dOPj4+53zrqKSkROHh4ed9bmZmpjIyMrRhwwb16tXLufzkyZP67W9/q9dee00/+9nPJEm9evXSli1blJmZKYfDofDwcFVWVuro0aMuZ2vOd1w/Pz/5+fm5Ew8AAHgxt87U+Pr6KjY2Vrm5uc5lNTU1ys3NVUJCQr3PW7RokRYsWKCcnBzFxcW5rKuqqlJVVZXsdtdRfHx8VFNTI+nMRcMtW7Z0Oe6OHTtUWFh43uMCAIAfD7fO1Ehnvn49btw4xcXFqX///lq8eLFOnDihCRMmSJKSkpLUsWNHpaenS5IWLlyo1NRUrVy5UjExMc5rYAICAhQQEKCgoCDdcMMNmjlzplq1aqXo6Gi99957evnll/Xkk09KkoKDgzVx4kSlpKQoNDRUQUFBmjZtmhISEhr0zScAAGA+t0vN6NGjdfjwYaWmpqq4uFh9+vRRTk6O8+LhwsJCl7Muy5YtU2VlpfOr2LXS0tI0b948SVJ2drbmzJmjsWPH6vvvv1d0dLQee+wxTZ061bn9U089JbvdrpEjR6qiokKJiYlaunRpYzIDAAADuX2fGm/FfWoAAPA+F+0+NQAAAJcrSg0AADACpQYAABiBUgMAAIxAqQEAAEag1AAAACNQagAAgBEoNQAAwAiUGgAAYARKDQAAMAKlBgAAGIFSAwAAjECpAQAARqDUAAAAI1BqAACAESg1AADACJQaAABgBEoNAAAwAqUGAAAYgVIDAACMQKkBAABGoNQAAAAjUGoAAIARKDUAAMAIlBoAAGAESg0AADACpQYAABiBUgMAAIxAqQEAAEag1AAAACNQagAAgBEoNQAAwAiUGgAAYARKDQAAMAKlBgAAGIFSAwAAjECpAQAARqDUAAAAI1BqAACAESg1AADACJQaAABgBEoNAAAwAqUGAAAYgVIDAACMQKkBAABGoNQAAAAjUGoAAIARKDUAAMAIjSo1S5YsUUxMjPz9/RUfH69NmzbVu+3y5cs1ePBghYSEKCQkRA6H45ztbTZbnY/HH3/cuU1MTMw56zMyMhozPgAAMJDbpWbVqlVKSUlRWlqaNm/erN69eysxMVGHDh2qc/u8vDyNGTNGGzduVH5+vqKiojRs2DAdOHDAuU1RUZHLY8WKFbLZbBo5cqTLvh555BGX7aZNm+bu+AAAwFA2y7Isd54QHx+v6667TllZWZKkmpoaRUVFadq0aZo9e/YFn19dXa2QkBBlZWUpKSmpzm1GjBihY8eOKTc317ksJiZG06dP1/Tp090Z16msrEzBwcEqLS1VUFBQo/YBAAAuLXfev906U1NZWamCggI5HI5/78Bul8PhUH5+foP2UV5erqqqKoWGhta5vqSkROvWrdPEiRPPWZeRkaG2bduqb9++evzxx3X69Ol6j1NRUaGysjKXBwAAMFcLdzY+cuSIqqurFRYW5rI8LCxM27dvb9A+Zs2apcjISJdidLaXXnpJgYGBuuOOO1yWP/DAA+rXr59CQ0P18ccfa86cOSoqKtKTTz5Z537S09M1f/78Bs0EAAC8n1ulpqkyMjKUnZ2tvLw8+fv717nNihUrNHbs2HPWp6SkOP9zr1695Ovrq1/+8pdKT0+Xn5/fOfuZM2eOy3PKysoUFRXVTEkAAMDlxq1S065dO/n4+KikpMRleUlJicLDw8/73MzMTGVkZGjDhg3q1atXndt88MEH2rFjh1atWnXBWeLj43X69Gnt3btXV1111Tnr/fz86iw7AADATG5dU+Pr66vY2FiXC3hramqUm5urhISEep+3aNEiLViwQDk5OYqLi6t3uxdeeEGxsbHq3bv3BWfZsmWL7Ha7OnTo4E4EAABgKLc/fkpJSdG4ceMUFxen/v37a/HixTpx4oQmTJggSUpKSlLHjh2Vnp4uSVq4cKFSU1O1cuVKxcTEqLi4WJIUEBCggIAA537Lysq0evVqPfHEE+ccMz8/X59++qluuukmBQYGKj8/XzNmzNA999yjkJCQRgUHAABmcbvUjB49WocPH1ZqaqqKi4vVp08f5eTkOC8eLiwslN3+7xNAy5YtU2VlpUaNGuWyn7S0NM2bN8/5d3Z2tizL0pgxY845pp+fn7KzszVv3jxVVFSoS5cumjFjhss1MwAA4MfN7fvUeCvuUwMAgPe5aPepAQAAuFxRagAAgBEoNQAAwAiUGgAAYARKDQAAMAKlBgAAGIFSAwAAjECpAQAARqDUAAAAI1BqAACAESg1AADACJQaAABgBEoNAAAwAqUGAAAYgVIDAACMQKkBAABGoNQAAAAjUGoAAIARKDUAAMAIlBoAAGAESg0AADACpQYAABiBUgMAAIxAqQEAAEag1AAAACNQagAAgBEoNQAAwAiUGgAAYARKDQAAMAKlBgAAGIFSAwAAjECpAQAARqDUAAAAI1BqAACAESg1AADACJQaAABgBEoNAAAwAqUGAAAYgVIDAACMQKkBAABGoNQAAAAjUGoAAIARKDUAAMAIlBoAAGAESg0AADACpQYAABiBUgMAAIxAqQEAAEZoVKlZsmSJYmJi5O/vr/j4eG3atKnebZcvX67BgwcrJCREISEhcjgc52xvs9nqfDz++OPObb7//nuNHTtWQUFBatOmjSZOnKjjx483ZnwAAGAgt0vNqlWrlJKSorS0NG3evFm9e/dWYmKiDh06VOf2eXl5GjNmjDZu3Kj8/HxFRUVp2LBhOnDggHOboqIil8eKFStks9k0cuRI5zZjx47VV199pXfffVdvvvmm3n//fU2ZMqURkQEAgIlslmVZ7jwhPj5e1113nbKysiRJNTU1ioqK0rRp0zR79uwLPr+6ulohISHKyspSUlJSnduMGDFCx44dU25uriRp27Zt6tmzpz777DPFxcVJknJycjR8+HB99913ioyMvOBxy8rKFBwcrNLSUgUFBTU0LgAA8CB33r/dOlNTWVmpgoICORyOf+/AbpfD4VB+fn6D9lFeXq6qqiqFhobWub6kpETr1q3TxIkTncvy8/PVpk0bZ6GRJIfDIbvdrk8//bTO/VRUVKisrMzlAQAAzOVWqTly5Iiqq6sVFhbmsjwsLEzFxcUN2sesWbMUGRnpUozO9tJLLykwMFB33HGHc1lxcbE6dOjgsl2LFi0UGhpa73HT09MVHBzsfERFRTVoPgAA4J0u6befMjIylJ2drddee03+/v51brNixQqNHTu23vUNNWfOHJWWljof+/fvb9L+AADA5a2FOxu3a9dOPj4+KikpcVleUlKi8PDw8z43MzNTGRkZ2rBhg3r16lXnNh988IF27NihVatWuSwPDw8/50Lk06dP6/vvv6/3uH5+fvLz87tQJAAAYAi3ztT4+voqNjbWeQGvdOZC4dzcXCUkJNT7vEWLFmnBggXKyclxuS7mP73wwguKjY1V7969XZYnJCTo6NGjKigocC77+9//rpqaGsXHx7sTAQAAGMqtMzWSlJKSonHjxikuLk79+/fX4sWLdeLECU2YMEGSlJSUpI4dOyo9PV2StHDhQqWmpmrlypWKiYlxXgMTEBCggIAA537Lysq0evVqPfHEE+ccs0ePHrrllls0efJkPfvss6qqqlJycrLuuuuuBn3zCQAAmM/tUjN69GgdPnxYqampKi4uVp8+fZSTk+O8eLiwsFB2+79PAC1btkyVlZUaNWqUy37S0tI0b94859/Z2dmyLEtjxoyp87ivvvqqkpOTNXToUNntdo0cOVJPP/20u+MDAABDuX2fGm/FfWoAAPA+F+0+NQAAAJcrSg0AADACpQYAABiBUgMAAIxAqQEAAEag1AAAACNQagAAgBEoNQAAwAiUGgAAYARKDQAAMAKlBgAAGIFSAwAAjOD2r3R7q9rf7SwrK/PwJAAAoKFq37cb8vvbP5pSc+zYMUlSVFSUhycBAADuOnbsmIKDg8+7jc1qSPUxQE1NjQ4ePKjAwEDZbLYGP6+srExRUVHav3//BX/y3NuYnK2W6RlNzyeZn9H0fJL5GU3PJ3k2o2VZOnbsmCIjI2W3n/+qmR/NmRq73a5OnTo1+vlBQUHG/mM1OVst0zOank8yP6Pp+STzM5qeT/JcxgudoanFhcIAAMAIlBoAAGAESs0F+Pn5KS0tTX5+fp4epdmZnK2W6RlNzyeZn9H0fJL5GU3PJ3lPxh/NhcIAAMBsnKkBAABGoNQAAAAjUGoAAIARKDUAAMAIlBoAAGAESo0bfvjhB7388sueHqNR/vrXv6q8vNzTY3hUSUmJHnnkEU+P0WhPPPGE9u3b5+kxPIrX0PudOHFC77//vqfHaLSCggJPj+Bxl/N7IV/pdsOXX36pfv36qbq62tOjuM1utyswMFCjR4/WxIkTFR8f7+mRLjlvfv2kM6+h3W7XTTfdpEmTJukXv/iFfH19PT3WJcVr6P1MeA27du2q//mf/9H48eMVGRnp6ZEuucv5NfzR/PZTQ9T+vHl9an/p21s99NBDeu211/T888+rZ8+emjRpku699161bdvW06M1i61bt553/Y4dOy7RJBfP888/r9dff1333nuvgoKCdM8992jSpEm65pprPD1as+A1hDf4r//6L/3+979XWlqaEhMTNWnSJN12223y8fHx9GjNwpvfCzlTcxa73X7eX/C2LEs2m+2ybKcXYrfbVVxcrA4dOqigoEAvvPCC/vSnP+nkyZP6+c9/rsmTJ+vmm2/29JhNUvv61fVPuna5t75+kutreOjQIf3hD3/Qiy++qJ07dyo2NlaTJ0/WXXfdpcDAQE+P2mi8ht7/GoaGhp53fXV1tY4fP+71r2FoaKjeeOMNrVixQm+//bbatWuncePGaeLEifrpT3/q6TGbxJvfCyk1ZwkODtb//u//1vvRzK5du/TLX/7ysnwhL+Ts/zGtderUKa1evVorVqzQ+++/r86dO2vPnj0enLJp2rVrp0WLFmno0KF1rv/qq6902223eeXrJ9X9GkrSBx98oBdeeEF/+ctfJEnHjx/3xHjNgtfQ+1/DK664Qvfdd5+uvfbaOtfv27dP8+fPN+o1PHDggFasWKE//OEP2rt3rwYOHOjV1w1583shHz+dpV+/fpKkG264oc71bdq0qfP/QXqDulq3v7+/7r33Xt1777365ptv9OKLL3pgsuYTGxurgwcPKjo6us71R48e9drXT6r7NZSkwYMHa/DgwXr66ae1atWqSzxV8+I19P7XsE+fPoqKitK4cePqXP/ll19q/vz5l3iq5lPXa9ixY0fNnTtXc+fOVW5urlasWOGByZqPN78XUmrOcvfdd+vkyZP1rg8PD1daWtolnKj5XOgf4JVXXqnHHnvsEk1zcUydOlUnTpyod33nzp29urhd6DUMCgrS5MmTL9E0Fwevofe/hj/72c909OjReteHhoYqKSnp0g3UzC70Gg4dOrTeM43ewpvfC/n46Udi37596ty583k/JwUAnN97772ngQMHqkULzglcjig1AADACFTN/3DkyBGtWLFC+fn5Ki4ulnTmVNuAAQM0fvx4tW/f3sMTNp7J2Wp9/fXXysrKOidjQkKCkpOT1bNnTw9P2DSm55PMz2h6PkmqrKzU66+/Xuf/1tx+++1ef28e0/NJ3vt+wZmas3z22WdKTExU69at5XA4FBYWJunMXUxzc3NVXl6ut99+W3FxcR6e1H0mZ6u1fv16jRgxQv369VNiYqJLxnfffVcFBQV64403lJiY6OFJG8f0fJL5GU3PJ0nffPONEhMTdfDgQcXHx7tk/PTTT9WpUyetX79eV155pYcnbRzT80le/n5hwSk+Pt6aMmWKVVNTc866mpoaa8qUKdb111/vgcmazuRstXr16mXNnTu33vVpaWnWtddeewknal6m57Ms8zOans+yLMvhcFi33367VVpaes660tJS6/bbb7eGDRvmgcmah+n5LMu73y8oNWfx9/e3tm3bVu/6bdu2Wf7+/pdwouZjcrZa/v7+1vbt2+tdv337dq/OaHo+yzI/o+n5LMuyWrVqZf3jH/+od/3WrVutVq1aXcKJmpfp+SzLu98v+EHLs4SHh2vTpk31rt+0aZPzNJy3MTlbrZiYGK1bt67e9evWrav3/ifewPR8kvkZTc8nnbmHyd69e+tdv3fvXrVp0+aSzdPcTM8neff7BRcKn+Whhx7SlClTVFBQoKFDh57zOeLy5cuVmZnp4Skbx+RstR555BHdfffdysvLq/Nz4JycHK1cudLDUzae6fkk8zOank+SJk2apKSkJM2dO7fO/6159NFHNW3aNA9P2Xim55O8/P3C06eKLjfZ2dlWfHy81aJFC8tms1k2m81q0aKFFR8fb61atcrT4zWJydlqffTRR9bo0aOtzp07W76+vpavr6/VuXNna/To0dbHH3/s6fGazPR8lmV+RtPzWZZlZWRkWBEREZbNZrPsdrtlt9stm81mRUREWAsXLvT0eE1mej7L8t73C779VI+qqiodOXJE0pnfo2nZsqWHJ2o+JmcDcPnYs2ePy9eBu3Tp4uGJmpfp+STve7/gmpp6tGzZUhEREcrLy1NlZaWnx2lWJmf7TxkZGee9Zbu3Mz2fZH5Gk/N16dJFCQkJqqmpUWRkpKfHaXam55O87/2CMzUXEBQUpC1btqhr166eHqXZmZytlukZTc8nmZ/R9HyS+RlNzyd5T0bO1FyAyZ3P5Gy1TM9oej7J/Iym55PMz2h6Psl7MlJqAACAEfhK9wWsX79eHTt29PQYF4XJ2Wp9/fXXRmc0PZ90JqOp1ytI5ueTpOeee+6yva9JczA9n+Q97xdcUwPjVFdXy8fHx/n3pk2bVFNTo759+8rPz8+DkzUP0/PVKiwsVFFRkex2u7p27aq2bdt6eqRmZXq+WhUVFZJk1L/Ns5mez9vw8dNZAgMDNXHiRH388ceeHqXZmZyt1r59+xQXFyc/Pz/deuutKisr080336zrr79eAwYMUM+ePbVz505Pj9lopuertXTpUkVHR6tLly4aMGCArr/+enXo0EGDBg1SQUGBp8drMtPzSdK7776r4cOHKyQkRK1bt1br1q0VEhKi4cOHa8OGDZ4er8lMz3ch27Ztu2wvGKbUnOXEiRP69NNPNWjQIPXo0UNPPPGEDh8+7OmxmoXJ2Wr9+te/VkBAgF5//XUFBQVp+PDhOn36tPbv368DBw6oW7dumjVrlqfHbDTT80lSZmamHnvsMc2cOVPPPfecrrrqKs2bN0/r1q1T165dNWTIEH3++eeeHrPRTM8nSS+99JKGDx+u4OBgPfXUU3rzzTf15ptv6qmnnlKbNm00fPhw/fGPf/T0mI1mer6GqKys1L59+zw9Rt08cMO/y5bNZrNKSkqsLVu2WMnJyVZoaKjl6+tr3XHHHdZbb71V5y+WeguTs9Vq37699cUXX1iWZVlHjx61bDab9cEHHzjXFxQUWGFhYR6arulMz2dZlhUTE2O99dZbzr937NhhtW3b1qqqqrIsy7IeeOAB6+abb/bUeE1mej7Lsqxu3bpZWVlZ9a5fsmSJdeWVV17CiZqX6fksy7JmzJhx3sc999xj2e12T49ZJ0rNWWrf+GudOnXKWrlypTV06FDLbrdbnTp1subOnevBCRvP5Gy1AgMDrW+//dayLMuqrq62WrRoYW3ZssW5fteuXVZgYKCnxmsy0/NZlmW1bt3a2rNnj/Pvmpoaq0WLFtbBgwcty7KsLVu2WAEBAR6arulMz2dZluXn52f0L5Gbns+yLMtut1v9+vWzbrzxxjofcXFxl22p4eOns9hsNpe//fz8NGbMGG3YsEG7d+/W+PHj9Yc//MEzwzWRydlqXX311VqxYoWkM6eI27Ztq+zsbOf6P/3pT/rpT3/qqfGazPR8kvTTn/5U7777rvPvjRs3ytfXV+Hh4ZIkf3//c/4texPT80ln/p2+8MIL9a5fsWKFevbseQknal6m55OkK6+8UjNmzNDGjRvrfCxfvtzTI9aLbz+dxW63q7i4WB06dKh3G8uyvPJ/dEzOVuvtt9/WiBEjVFNTI7vdrrfffluTJ09WmzZtZLfb9dlnn2nlypW68847PT1qo5ieT5L+/Oc/65577tEvfvEL+fv7a82aNUpOTlZ6erqkM1+dfemll7z2gnfT80lSXl6e/vu//1tdu3at85fIv/32W61bt05Dhgzx8KSNY3o+SRo7dqw6dOigp556qs71X375pfr27auamppLPNmFUWrOMn/+fM2cOVOtW7f29CjNzuRsZ9u7d68KCgoUGxurmJgYlZSUaMmSJSovL9fPfvYz3XTTTZ4esUlMzyeduR/GK6+8ooqKCiUmJmry5MnOdf/6178kyau//mx6PunMv9Nly5bpk08+cfnBx4SEBE2dOlUxMTGeHbCJTM9XXFysiooKRUdHe3oUt1FqAACAEbimxg2nT59WYWGhp8e4KEzOVsv0jKbnk8zPaHo+4GKj1Ljhq6++UpcuXTw9xkVhcrZapmc0PZ9kfkZT8i1dulQOh0N33nmncnNzXdYdOXLksr1xW0OZnk/y3oyUGgBAs3n66ac1c+ZMde/eXX5+fho+fLjzQmjpzM98XLY3bmsA0/NJ3p2RH7Q8S79+/c67/uTJk5dokuZncrZapmc0PZ9kfkbT80lnvsG1fPly3X333ZKk++67TyNGjNDJkyf1yCOPeHi6pjM9n+TdGSk1Z/n6669111131Xv6t6ioyGt/W8fkbLVMz2h6Psn8jKbnk6Q9e/ZowIABzr8HDBigv//973I4HKqqqtL06dM9N1wzMD2f5OUZPXffv8tPbGystXTp0nrXf/HFF5ftXRQvxORstUzPaHo+yzI/o+n5LMuyoqKirPfff/+c5V999ZUVFhZmJSUleXVG0/NZlndn5JqaswwcOFA7duyod31gYKDX3lDJ5Gy1TM9oej7J/Iym55OkQYMGac2aNecs79mzp3Jzc7V+/XoPTNV8TM8neXdG7lMDAGg2W7duVUFBgSZMmFDn+n/+85/661//qrS0tEs8WfMwPZ/k3RkpNQAAwAhcKFyHTZs2KT8//5zbX/fv39/DkzWdydlqmZ7R9HyS+RlNzyeZn9H0fJKXZvTsJT2Xl5KSEmvQoEGWzWazoqOjrf79+1v9+/e3oqOjLZvNZg0aNMgqKSnx9JiNYnK2WqZnND2fZZmf0fR8lnUm48CBA43NaHo+y/LujJSas4wcOdJKSEiwtm/ffs667du3WwMGDLBGjRrlgcmazuRstUzPaHo+yzI/o+n5LMv8jKbnsyzvzkipOUtAQIC1efPmetd//vnnVkBAwCWcqPmYnK2W6RlNz2dZ5mc0PZ9lmZ/R9HyW5d0Z+Ur3Wfz8/FRWVlbv+mPHjsnPz+8STtR8TM5Wy/SMpueTzM9oej7J/Iym55O8PKOnW9Xl5Fe/+pUVHR1trVmzxiotLXUuLy0ttdasWWPFxMRYycnJHpyw8UzOVsv0jKbnsyzzM5qez7LMz2h6Psvy7oyUmrOcOnXKmjp1quXr62vZ7XbL39/f8vf3t+x2u+Xr62vdd9991qlTpzw9ZqOYnK2W6RlNz2dZ5mc0PZ9lmZ/R9HyW5d0ZuU9NHcrKylRQUODyNbbY2FgFBQV5eLKmMzlbLdMzmp5PMj+j6fkk8zOank/yzoyUGgAAYAQuFP4PJ0+e1Icffqivv/76nHWnTp3Syy+/7IGpmofJ2WqZntH0fJL5GU3PJ5mf0fR8khdn9OynX5eXHTt2OG8uZLfbrSFDhlgHDhxwri8uLr5sf5n0QkzOVsv0jKbnsyzzM5qez7LMz2h6Psvy7oycqTnLrFmzdM011+jQoUPasWOHAgMDNWjQIBUWFnp6tCYzOVst0zOank8yP6Pp+STzM5qeT/LyjJ5uVZeTDh06WFu3bnX+XVNTY02dOtXq3LmztXv37su6nV6IydlqmZ7R9HyWZX5G0/NZlvkZTc9nWd6dkTM1Zzl58qRatPj3b3zabDYtW7ZMt912m2644Qbt3LnTg9M1jcnZapme0fR8kvkZTc8nmZ/R9HySd2fkV7rP0r17d33++efq0aOHy/KsrCxJ0s9//nNPjNUsTM5Wy/SMpueTzM9oej7J/Iym55O8OyNnas7yi1/8Qn/605/qXJeVlaUxY8bI8tJvwJucrZbpGU3PJ5mf0fR8kvkZTc8neXdG7lMDAACMwJkaAABgBEoNAAAwAqUGAAAYgVIDAACMQKkBAABGoNQAAAAjUGoAAIARKDUAAMAI/w8LuX/0zO1DvQAAAABJRU5ErkJggg==",
      "text/plain": [
       "<Figure size 640x480 with 1 Axes>"
      ]
     },
     "metadata": {},
     "output_type": "display_data"
    }
   ],
   "source": [
    "import matplotlib.pyplot as plt\n",
    "from matplotlib.pyplot import figure\n",
    "import numpy as np\n",
    "\n",
    "plt.plot(df[\"severity_injuries\"], color='darkorange', label='Injuries per collsion')\n",
    "plt.xticks(rotation = 90)\n",
    "\n",
    "plt.legend()\n",
    "plt.show()"
   ]
  },
  {
   "cell_type": "code",
   "execution_count": 22,
   "metadata": {},
   "outputs": [
    {
     "data": {
      "image/png": "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",
      "text/plain": [
       "<Figure size 640x480 with 1 Axes>"
      ]
     },
     "metadata": {},
     "output_type": "display_data"
    }
   ],
   "source": [
    "import matplotlib.pyplot as plt\n",
    "from matplotlib.pyplot import figure\n",
    "# Plot a simple line chart\n",
    "# plt.plot(df[\"severity_injuries\"], color='g', label='Line y')\n",
    "\n",
    "# Plot another line on the same chart/graph\n",
    "\n",
    "plt.plot(df[\"severity_killed\"], color='red', label='Deaths per collision')\n",
    "plt.xticks(rotation = 90)\n",
    "\n",
    "\n",
    "plt.legend()\n",
    "plt.show()"
   ]
  },
  {
   "cell_type": "markdown",
   "metadata": {},
   "source": [
    "# Borough level:  Plotting total collisons, total injured, total killed, injured/collison and killed/collison"
   ]
  },
  {
   "cell_type": "markdown",
   "metadata": {},
   "source": [
    "### Dropping columns"
   ]
  },
  {
   "cell_type": "code",
   "execution_count": 23,
   "metadata": {},
   "outputs": [],
   "source": [
    "df2 = raw_data_crashes.drop(['zip_code', 'longitude','latitude','latitude','on_street_name','crash_time'], axis=1)"
   ]
  },
  {
   "cell_type": "markdown",
   "metadata": {},
   "source": [
    "### Converting crash time to datetime variable"
   ]
  },
  {
   "cell_type": "code",
   "execution_count": 24,
   "metadata": {},
   "outputs": [
    {
     "data": {
      "text/plain": [
       "crash_date                       object\n",
       "borough                          object\n",
       "number_of_persons_injured         int64\n",
       "number_of_persons_killed          int64\n",
       "number_of_pedestrians_injured     int64\n",
       "number_of_pedestrians_killed      int64\n",
       "number_of_cyclist_injured         int64\n",
       "number_of_cyclist_killed          int64\n",
       "number_of_motorist_injured        int64\n",
       "number_of_motorist_killed         int64\n",
       "dtype: object"
      ]
     },
     "execution_count": 24,
     "metadata": {},
     "output_type": "execute_result"
    }
   ],
   "source": [
    "df2.dtypes"
   ]
  },
  {
   "cell_type": "code",
   "execution_count": 25,
   "metadata": {},
   "outputs": [],
   "source": [
    "df2['crash_date'] = pd.to_datetime(df2['crash_date'])"
   ]
  },
  {
   "cell_type": "code",
   "execution_count": 26,
   "metadata": {},
   "outputs": [
    {
     "data": {
      "text/plain": [
       "crash_date                       datetime64[ns]\n",
       "borough                                  object\n",
       "number_of_persons_injured                 int64\n",
       "number_of_persons_killed                  int64\n",
       "number_of_pedestrians_injured             int64\n",
       "number_of_pedestrians_killed              int64\n",
       "number_of_cyclist_injured                 int64\n",
       "number_of_cyclist_killed                  int64\n",
       "number_of_motorist_injured                int64\n",
       "number_of_motorist_killed                 int64\n",
       "dtype: object"
      ]
     },
     "execution_count": 26,
     "metadata": {},
     "output_type": "execute_result"
    }
   ],
   "source": [
    "df2.dtypes"
   ]
  },
  {
   "cell_type": "markdown",
   "metadata": {},
   "source": [
    "### Adding 1 column for counting number of collisions in a particular month"
   ]
  },
  {
   "cell_type": "code",
   "execution_count": 27,
   "metadata": {},
   "outputs": [],
   "source": [
    "df2[\"collisions\"]=1"
   ]
  },
  {
   "cell_type": "code",
   "execution_count": 28,
   "metadata": {},
   "outputs": [
    {
     "data": {
      "text/html": [
       "<div>\n",
       "<style scoped>\n",
       "    .dataframe tbody tr th:only-of-type {\n",
       "        vertical-align: middle;\n",
       "    }\n",
       "\n",
       "    .dataframe tbody tr th {\n",
       "        vertical-align: top;\n",
       "    }\n",
       "\n",
       "    .dataframe thead th {\n",
       "        text-align: right;\n",
       "    }\n",
       "</style>\n",
       "<table border=\"1\" class=\"dataframe\">\n",
       "  <thead>\n",
       "    <tr style=\"text-align: right;\">\n",
       "      <th></th>\n",
       "      <th>crash_date</th>\n",
       "      <th>borough</th>\n",
       "      <th>number_of_persons_injured</th>\n",
       "      <th>number_of_persons_killed</th>\n",
       "      <th>number_of_pedestrians_injured</th>\n",
       "      <th>number_of_pedestrians_killed</th>\n",
       "      <th>number_of_cyclist_injured</th>\n",
       "      <th>number_of_cyclist_killed</th>\n",
       "      <th>number_of_motorist_injured</th>\n",
       "      <th>number_of_motorist_killed</th>\n",
       "      <th>collisions</th>\n",
       "    </tr>\n",
       "  </thead>\n",
       "  <tbody>\n",
       "    <tr>\n",
       "      <th>0</th>\n",
       "      <td>2019-01-01</td>\n",
       "      <td>NaN</td>\n",
       "      <td>0</td>\n",
       "      <td>0</td>\n",
       "      <td>0</td>\n",
       "      <td>0</td>\n",
       "      <td>0</td>\n",
       "      <td>0</td>\n",
       "      <td>0</td>\n",
       "      <td>0</td>\n",
       "      <td>1</td>\n",
       "    </tr>\n",
       "    <tr>\n",
       "      <th>1</th>\n",
       "      <td>2019-01-01</td>\n",
       "      <td>NaN</td>\n",
       "      <td>1</td>\n",
       "      <td>0</td>\n",
       "      <td>0</td>\n",
       "      <td>0</td>\n",
       "      <td>0</td>\n",
       "      <td>0</td>\n",
       "      <td>1</td>\n",
       "      <td>0</td>\n",
       "      <td>1</td>\n",
       "    </tr>\n",
       "    <tr>\n",
       "      <th>2</th>\n",
       "      <td>2019-01-01</td>\n",
       "      <td>NaN</td>\n",
       "      <td>1</td>\n",
       "      <td>0</td>\n",
       "      <td>0</td>\n",
       "      <td>0</td>\n",
       "      <td>0</td>\n",
       "      <td>0</td>\n",
       "      <td>1</td>\n",
       "      <td>0</td>\n",
       "      <td>1</td>\n",
       "    </tr>\n",
       "    <tr>\n",
       "      <th>3</th>\n",
       "      <td>2019-01-01</td>\n",
       "      <td>QUEENS</td>\n",
       "      <td>0</td>\n",
       "      <td>0</td>\n",
       "      <td>0</td>\n",
       "      <td>0</td>\n",
       "      <td>0</td>\n",
       "      <td>0</td>\n",
       "      <td>0</td>\n",
       "      <td>0</td>\n",
       "      <td>1</td>\n",
       "    </tr>\n",
       "    <tr>\n",
       "      <th>4</th>\n",
       "      <td>2019-01-01</td>\n",
       "      <td>QUEENS</td>\n",
       "      <td>1</td>\n",
       "      <td>0</td>\n",
       "      <td>0</td>\n",
       "      <td>0</td>\n",
       "      <td>0</td>\n",
       "      <td>0</td>\n",
       "      <td>1</td>\n",
       "      <td>0</td>\n",
       "      <td>1</td>\n",
       "    </tr>\n",
       "  </tbody>\n",
       "</table>\n",
       "</div>"
      ],
      "text/plain": [
       "  crash_date borough  number_of_persons_injured  number_of_persons_killed  \\\n",
       "0 2019-01-01     NaN                          0                         0   \n",
       "1 2019-01-01     NaN                          1                         0   \n",
       "2 2019-01-01     NaN                          1                         0   \n",
       "3 2019-01-01  QUEENS                          0                         0   \n",
       "4 2019-01-01  QUEENS                          1                         0   \n",
       "\n",
       "   number_of_pedestrians_injured  number_of_pedestrians_killed  \\\n",
       "0                              0                             0   \n",
       "1                              0                             0   \n",
       "2                              0                             0   \n",
       "3                              0                             0   \n",
       "4                              0                             0   \n",
       "\n",
       "   number_of_cyclist_injured  number_of_cyclist_killed  \\\n",
       "0                          0                         0   \n",
       "1                          0                         0   \n",
       "2                          0                         0   \n",
       "3                          0                         0   \n",
       "4                          0                         0   \n",
       "\n",
       "   number_of_motorist_injured  number_of_motorist_killed  collisions  \n",
       "0                           0                          0           1  \n",
       "1                           1                          0           1  \n",
       "2                           1                          0           1  \n",
       "3                           0                          0           1  \n",
       "4                           1                          0           1  "
      ]
     },
     "execution_count": 28,
     "metadata": {},
     "output_type": "execute_result"
    }
   ],
   "source": [
    "df2.head()"
   ]
  },
  {
   "cell_type": "markdown",
   "metadata": {},
   "source": [
    "### Segregating the data based on borough name (NaN rows are deleted)"
   ]
  },
  {
   "cell_type": "code",
   "execution_count": 29,
   "metadata": {},
   "outputs": [
    {
     "name": "stderr",
     "output_type": "stream",
     "text": [
      "C:\\Users\\alixl\\AppData\\Local\\Temp\\ipykernel_9172\\4271140543.py:5: FutureWarning: The default value of numeric_only in DataFrameGroupBy.sum is deprecated. In a future version, numeric_only will default to False. Either specify numeric_only or select only columns which should be valid for the function.\n",
      "  Qdf = Qdf.resample('M', on='crash_date').sum()\n"
     ]
    },
    {
     "data": {
      "text/html": [
       "<div>\n",
       "<style scoped>\n",
       "    .dataframe tbody tr th:only-of-type {\n",
       "        vertical-align: middle;\n",
       "    }\n",
       "\n",
       "    .dataframe tbody tr th {\n",
       "        vertical-align: top;\n",
       "    }\n",
       "\n",
       "    .dataframe thead th {\n",
       "        text-align: right;\n",
       "    }\n",
       "</style>\n",
       "<table border=\"1\" class=\"dataframe\">\n",
       "  <thead>\n",
       "    <tr style=\"text-align: right;\">\n",
       "      <th></th>\n",
       "      <th>number_of_persons_injured</th>\n",
       "      <th>number_of_persons_killed</th>\n",
       "      <th>number_of_pedestrians_injured</th>\n",
       "      <th>number_of_pedestrians_killed</th>\n",
       "      <th>number_of_cyclist_injured</th>\n",
       "      <th>number_of_cyclist_killed</th>\n",
       "      <th>number_of_motorist_injured</th>\n",
       "      <th>number_of_motorist_killed</th>\n",
       "      <th>collisions</th>\n",
       "      <th>severity_injuries</th>\n",
       "      <th>severity_killed</th>\n",
       "    </tr>\n",
       "    <tr>\n",
       "      <th>crash_date</th>\n",
       "      <th></th>\n",
       "      <th></th>\n",
       "      <th></th>\n",
       "      <th></th>\n",
       "      <th></th>\n",
       "      <th></th>\n",
       "      <th></th>\n",
       "      <th></th>\n",
       "      <th></th>\n",
       "      <th></th>\n",
       "      <th></th>\n",
       "    </tr>\n",
       "  </thead>\n",
       "  <tbody>\n",
       "    <tr>\n",
       "      <th>2019-01-31</th>\n",
       "      <td>55</td>\n",
       "      <td>0</td>\n",
       "      <td>6</td>\n",
       "      <td>0</td>\n",
       "      <td>3</td>\n",
       "      <td>0</td>\n",
       "      <td>46</td>\n",
       "      <td>0</td>\n",
       "      <td>213</td>\n",
       "      <td>0.258216</td>\n",
       "      <td>0.0</td>\n",
       "    </tr>\n",
       "  </tbody>\n",
       "</table>\n",
       "</div>"
      ],
      "text/plain": [
       "            number_of_persons_injured  number_of_persons_killed  \\\n",
       "crash_date                                                        \n",
       "2019-01-31                         55                         0   \n",
       "\n",
       "            number_of_pedestrians_injured  number_of_pedestrians_killed  \\\n",
       "crash_date                                                                \n",
       "2019-01-31                              6                             0   \n",
       "\n",
       "            number_of_cyclist_injured  number_of_cyclist_killed  \\\n",
       "crash_date                                                        \n",
       "2019-01-31                          3                         0   \n",
       "\n",
       "            number_of_motorist_injured  number_of_motorist_killed  collisions  \\\n",
       "crash_date                                                                      \n",
       "2019-01-31                          46                          0         213   \n",
       "\n",
       "            severity_injuries  severity_killed  \n",
       "crash_date                                      \n",
       "2019-01-31           0.258216              0.0  "
      ]
     },
     "execution_count": 29,
     "metadata": {},
     "output_type": "execute_result"
    }
   ],
   "source": [
    "# Queens dataframe\n",
    "\n",
    "Qdf = df2.loc[df2[\"borough\"]==\"QUEENS\"]\n",
    "\n",
    "Qdf = Qdf.resample('M', on='crash_date').sum()\n",
    "Qdf[\"severity_injuries\"] = Qdf[\"number_of_persons_injured\"]/Qdf[\"collisions\"]\n",
    "Qdf[\"severity_killed\"] = Qdf[\"number_of_persons_killed\"]/Qdf[\"collisions\"]\n",
    "\n",
    "Qdf.head()"
   ]
  },
  {
   "cell_type": "code",
   "execution_count": 30,
   "metadata": {},
   "outputs": [
    {
     "name": "stderr",
     "output_type": "stream",
     "text": [
      "C:\\Users\\alixl\\AppData\\Local\\Temp\\ipykernel_9172\\1801711068.py:5: FutureWarning: The default value of numeric_only in DataFrameGroupBy.sum is deprecated. In a future version, numeric_only will default to False. Either specify numeric_only or select only columns which should be valid for the function.\n",
      "  Mdf = Mdf.resample('M', on='crash_date').sum()\n",
      "C:\\Users\\alixl\\AppData\\Local\\Temp\\ipykernel_9172\\1801711068.py:11: FutureWarning: The default value of numeric_only in DataFrameGroupBy.sum is deprecated. In a future version, numeric_only will default to False. Either specify numeric_only or select only columns which should be valid for the function.\n",
      "  Xdf = Xdf.resample('M', on='crash_date').sum()\n",
      "C:\\Users\\alixl\\AppData\\Local\\Temp\\ipykernel_9172\\1801711068.py:17: FutureWarning: The default value of numeric_only in DataFrameGroupBy.sum is deprecated. In a future version, numeric_only will default to False. Either specify numeric_only or select only columns which should be valid for the function.\n",
      "  Kdf = Kdf.resample('M', on='crash_date').sum()\n",
      "C:\\Users\\alixl\\AppData\\Local\\Temp\\ipykernel_9172\\1801711068.py:23: FutureWarning: The default value of numeric_only in DataFrameGroupBy.sum is deprecated. In a future version, numeric_only will default to False. Either specify numeric_only or select only columns which should be valid for the function.\n",
      "  Sdf = Sdf.resample('M', on='crash_date').sum()\n"
     ]
    }
   ],
   "source": [
    "# Creating dataframe for remianing 4 boroughs:\n",
    "\n",
    "# Manhattan\n",
    "Mdf = df2.loc[df2[\"borough\"]==\"MANHATTAN\"]\n",
    "Mdf = Mdf.resample('M', on='crash_date').sum()\n",
    "Mdf[\"severity_injuries\"] = Mdf[\"number_of_persons_injured\"]/Mdf[\"collisions\"]\n",
    "Mdf[\"severity_killed\"] = Mdf[\"number_of_persons_killed\"]/Mdf[\"collisions\"]\n",
    "\n",
    "# Bronx\n",
    "Xdf = df2.loc[df2[\"borough\"]==\"BRONX\"]\n",
    "Xdf = Xdf.resample('M', on='crash_date').sum()\n",
    "Xdf[\"severity_injuries\"] = Xdf[\"number_of_persons_injured\"]/Xdf[\"collisions\"]\n",
    "Xdf[\"severity_killed\"] = Xdf[\"number_of_persons_killed\"]/Xdf[\"collisions\"]\n",
    "\n",
    "# Brooklyn\n",
    "Kdf = df2.loc[df2[\"borough\"]==\"BROOKLYN\"]\n",
    "Kdf = Kdf.resample('M', on='crash_date').sum()\n",
    "Kdf[\"severity_injuries\"] = Kdf[\"number_of_persons_injured\"]/Kdf[\"collisions\"]\n",
    "Kdf[\"severity_killed\"] = Kdf[\"number_of_persons_killed\"]/Kdf[\"collisions\"]\n",
    "\n",
    "# Staten Island\n",
    "Sdf = df2.loc[df2[\"borough\"]==\"STATEN ISLAND\"]\n",
    "Sdf = Sdf.resample('M', on='crash_date').sum()\n",
    "Sdf[\"severity_injuries\"] = Sdf[\"number_of_persons_injured\"]/Sdf[\"collisions\"]\n",
    "Sdf[\"severity_killed\"] = Sdf[\"number_of_persons_killed\"]/Sdf[\"collisions\"]"
   ]
  },
  {
   "cell_type": "code",
   "execution_count": 31,
   "metadata": {},
   "outputs": [
    {
     "data": {
      "image/png": "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",
      "text/plain": [
       "<Figure size 640x480 with 1 Axes>"
      ]
     },
     "metadata": {},
     "output_type": "display_data"
    }
   ],
   "source": [
    "import matplotlib.pyplot as plt\n",
    "from matplotlib.pyplot import figure\n",
    "# Plot a simple line chart\n",
    "# plt.plot(df[\"severity_injuries\"], color='g', label='Line y')\n",
    "\n",
    "\n",
    "# Plot another line on the same chart/graph\n",
    "\n",
    "plt.title(\"Number of collisions across boroughs\")\n",
    "\n",
    "plt.plot(Mdf[\"collisions\"], color='dodgerblue', label='Manhattan')\n",
    "plt.plot(Qdf[\"collisions\"], color='magenta', label='Queens')\n",
    "plt.plot(Kdf[\"collisions\"], color='forestgreen', label='Brooklyn')\n",
    "plt.plot(Sdf[\"collisions\"], color='firebrick', label='Staten Island')\n",
    "plt.plot(Xdf[\"collisions\"], color='chocolate', label='Bronx')\n",
    "plt.xticks(rotation = 90)\n",
    "\n",
    "\n",
    "plt.legend(loc='upper right')\n",
    "plt.show()"
   ]
  },
  {
   "cell_type": "code",
   "execution_count": 32,
   "metadata": {},
   "outputs": [
    {
     "data": {
      "image/png": "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",
      "text/plain": [
       "<Figure size 640x480 with 1 Axes>"
      ]
     },
     "metadata": {},
     "output_type": "display_data"
    }
   ],
   "source": [
    "import matplotlib.pyplot as plt\n",
    "from matplotlib.pyplot import figure\n",
    "# Plot a simple line chart\n",
    "# plt.plot(df[\"severity_injuries\"], color='g', label='Line y')\n",
    "\n",
    "\n",
    "# Plot another line on the same chart/graph\n",
    "\n",
    "plt.title(\"Total number of people injured across boroughs\")\n",
    "\n",
    "plt.plot(Mdf[\"number_of_persons_injured\"], color='dodgerblue', label='Manhattan')\n",
    "plt.plot(Qdf[\"number_of_persons_injured\"], color='magenta', label='Queens')\n",
    "plt.plot(Kdf[\"number_of_persons_injured\"], color='forestgreen', label='Brooklyn')\n",
    "plt.plot(Sdf[\"number_of_persons_injured\"], color='firebrick', label='Staten Island')\n",
    "plt.plot(Xdf[\"number_of_persons_injured\"], color='chocolate', label='Bronx')\n",
    "plt.xticks(rotation = 90)\n",
    "\n",
    "\n",
    "plt.legend(loc='upper right')\n",
    "plt.show()"
   ]
  },
  {
   "cell_type": "code",
   "execution_count": 33,
   "metadata": {},
   "outputs": [
    {
     "data": {
      "image/png": "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",
      "text/plain": [
       "<Figure size 640x480 with 1 Axes>"
      ]
     },
     "metadata": {},
     "output_type": "display_data"
    }
   ],
   "source": [
    "import matplotlib.pyplot as plt\n",
    "from matplotlib.pyplot import figure\n",
    "# Plot a simple line chart\n",
    "# plt.plot(df[\"severity_injuries\"], color='g', label='Line y')\n",
    "\n",
    "\n",
    "# Plot another line on the same chart/graph\n",
    "\n",
    "plt.title(\"Total number of people killed across boroughs\")\n",
    "\n",
    "plt.plot(Mdf[\"number_of_persons_killed\"], color='dodgerblue', label='Manhattan')\n",
    "plt.plot(Qdf[\"number_of_persons_killed\"], color='magenta', label='Queens')\n",
    "plt.plot(Kdf[\"number_of_persons_killed\"], color='forestgreen', label='Brooklyn')\n",
    "plt.plot(Sdf[\"number_of_persons_killed\"], color='firebrick', label='Staten Island')\n",
    "plt.plot(Xdf[\"number_of_persons_killed\"], color='chocolate', label='Bronx')\n",
    "plt.xticks(rotation = 90)\n",
    "\n",
    "\n",
    "plt.legend()\n",
    "plt.show()"
   ]
  },
  {
   "cell_type": "code",
   "execution_count": 34,
   "metadata": {},
   "outputs": [
    {
     "data": {
      "image/png": "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",
      "text/plain": [
       "<Figure size 640x480 with 1 Axes>"
      ]
     },
     "metadata": {},
     "output_type": "display_data"
    }
   ],
   "source": [
    "import matplotlib.pyplot as plt\n",
    "from matplotlib.pyplot import figure\n",
    "# Plot a simple line chart\n",
    "# plt.plot(df[\"severity_injuries\"], color='g', label='Line y')\n",
    "\n",
    "\n",
    "# Plot another line on the same chart/graph\n",
    "\n",
    "plt.title(\"Injuries per collision across boroughs\")\n",
    "\n",
    "plt.plot(Mdf[\"severity_injuries\"], color='dodgerblue', label='Manhattan')\n",
    "plt.plot(Qdf[\"severity_injuries\"], color='magenta', label='Queens')\n",
    "plt.plot(Kdf[\"severity_injuries\"], color='forestgreen', label='Brooklyn')\n",
    "plt.plot(Sdf[\"severity_injuries\"], color='firebrick', label='Staten Island')\n",
    "plt.plot(Xdf[\"severity_injuries\"], color='chocolate', label='Bronx')\n",
    "plt.xticks(rotation = 90)\n",
    "\n",
    "\n",
    "plt.legend()\n",
    "plt.show()"
   ]
  },
  {
   "cell_type": "code",
   "execution_count": 35,
   "metadata": {
    "scrolled": false
   },
   "outputs": [
    {
     "data": {
      "image/png": "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",
      "text/plain": [
       "<Figure size 640x480 with 1 Axes>"
      ]
     },
     "metadata": {},
     "output_type": "display_data"
    }
   ],
   "source": [
    "import matplotlib.pyplot as plt\n",
    "from matplotlib.pyplot import figure\n",
    "# Plot a simple line chart\n",
    "# plt.plot(df[\"severity_injuries\"], color='g', label='Line y')\n",
    "\n",
    "\n",
    "# Plot another line on the same chart/graph\n",
    "\n",
    "plt.title(\"Injuries per collision across boroughs\")\n",
    "\n",
    "plt.plot(Mdf[\"severity_killed\"], color='dodgerblue', label='Manhattan')\n",
    "plt.plot(Qdf[\"severity_killed\"], color='magenta', label='Queens')\n",
    "plt.plot(Kdf[\"severity_killed\"], color='forestgreen', label='Brooklyn')\n",
    "plt.plot(Sdf[\"severity_killed\"], color='firebrick', label='Staten Island')\n",
    "plt.plot(Xdf[\"severity_killed\"], color='chocolate', label='Bronx')\n",
    "plt.xticks(rotation = 90)\n",
    "\n",
    "\n",
    "plt.legend()\n",
    "plt.show()"
   ]
  },
  {
   "cell_type": "markdown",
   "metadata": {},
   "source": [
    "# Type of vehicles involved:  Plotting total collisons, total injured, total killed, injured/collison and killed/collison"
   ]
  },
  {
   "cell_type": "markdown",
   "metadata": {},
   "source": [
    "### Dropping columns"
   ]
  },
  {
   "cell_type": "code",
   "execution_count": 36,
   "metadata": {},
   "outputs": [],
   "source": [
    "df3 = raw_data_crashes.drop(['zip_code', 'longitude','latitude','latitude','on_street_name','crash_time'], axis=1)"
   ]
  },
  {
   "cell_type": "markdown",
   "metadata": {},
   "source": [
    "### Converting crash time to datetime variable"
   ]
  },
  {
   "cell_type": "code",
   "execution_count": 37,
   "metadata": {},
   "outputs": [
    {
     "data": {
      "text/plain": [
       "crash_date                       object\n",
       "borough                          object\n",
       "number_of_persons_injured         int64\n",
       "number_of_persons_killed          int64\n",
       "number_of_pedestrians_injured     int64\n",
       "number_of_pedestrians_killed      int64\n",
       "number_of_cyclist_injured         int64\n",
       "number_of_cyclist_killed          int64\n",
       "number_of_motorist_injured        int64\n",
       "number_of_motorist_killed         int64\n",
       "dtype: object"
      ]
     },
     "execution_count": 37,
     "metadata": {},
     "output_type": "execute_result"
    }
   ],
   "source": [
    "df3.dtypes"
   ]
  },
  {
   "cell_type": "code",
   "execution_count": 38,
   "metadata": {},
   "outputs": [],
   "source": [
    "df3['crash_date'] = pd.to_datetime(df3['crash_date'])"
   ]
  },
  {
   "cell_type": "code",
   "execution_count": 39,
   "metadata": {},
   "outputs": [
    {
     "data": {
      "text/plain": [
       "crash_date                       datetime64[ns]\n",
       "borough                                  object\n",
       "number_of_persons_injured                 int64\n",
       "number_of_persons_killed                  int64\n",
       "number_of_pedestrians_injured             int64\n",
       "number_of_pedestrians_killed              int64\n",
       "number_of_cyclist_injured                 int64\n",
       "number_of_cyclist_killed                  int64\n",
       "number_of_motorist_injured                int64\n",
       "number_of_motorist_killed                 int64\n",
       "dtype: object"
      ]
     },
     "execution_count": 39,
     "metadata": {},
     "output_type": "execute_result"
    }
   ],
   "source": [
    "df3.dtypes"
   ]
  },
  {
   "cell_type": "markdown",
   "metadata": {},
   "source": [
    "### Adding 1 column for counting number of collisions in a particular month"
   ]
  },
  {
   "cell_type": "code",
   "execution_count": 40,
   "metadata": {},
   "outputs": [],
   "source": [
    "df3[\"collisions\"]=1"
   ]
  },
  {
   "cell_type": "code",
   "execution_count": 41,
   "metadata": {},
   "outputs": [
    {
     "data": {
      "text/html": [
       "<div>\n",
       "<style scoped>\n",
       "    .dataframe tbody tr th:only-of-type {\n",
       "        vertical-align: middle;\n",
       "    }\n",
       "\n",
       "    .dataframe tbody tr th {\n",
       "        vertical-align: top;\n",
       "    }\n",
       "\n",
       "    .dataframe thead th {\n",
       "        text-align: right;\n",
       "    }\n",
       "</style>\n",
       "<table border=\"1\" class=\"dataframe\">\n",
       "  <thead>\n",
       "    <tr style=\"text-align: right;\">\n",
       "      <th></th>\n",
       "      <th>crash_date</th>\n",
       "      <th>borough</th>\n",
       "      <th>number_of_persons_injured</th>\n",
       "      <th>number_of_persons_killed</th>\n",
       "      <th>number_of_pedestrians_injured</th>\n",
       "      <th>number_of_pedestrians_killed</th>\n",
       "      <th>number_of_cyclist_injured</th>\n",
       "      <th>number_of_cyclist_killed</th>\n",
       "      <th>number_of_motorist_injured</th>\n",
       "      <th>number_of_motorist_killed</th>\n",
       "      <th>collisions</th>\n",
       "    </tr>\n",
       "  </thead>\n",
       "  <tbody>\n",
       "    <tr>\n",
       "      <th>0</th>\n",
       "      <td>2019-01-01</td>\n",
       "      <td>NaN</td>\n",
       "      <td>0</td>\n",
       "      <td>0</td>\n",
       "      <td>0</td>\n",
       "      <td>0</td>\n",
       "      <td>0</td>\n",
       "      <td>0</td>\n",
       "      <td>0</td>\n",
       "      <td>0</td>\n",
       "      <td>1</td>\n",
       "    </tr>\n",
       "    <tr>\n",
       "      <th>1</th>\n",
       "      <td>2019-01-01</td>\n",
       "      <td>NaN</td>\n",
       "      <td>1</td>\n",
       "      <td>0</td>\n",
       "      <td>0</td>\n",
       "      <td>0</td>\n",
       "      <td>0</td>\n",
       "      <td>0</td>\n",
       "      <td>1</td>\n",
       "      <td>0</td>\n",
       "      <td>1</td>\n",
       "    </tr>\n",
       "    <tr>\n",
       "      <th>2</th>\n",
       "      <td>2019-01-01</td>\n",
       "      <td>NaN</td>\n",
       "      <td>1</td>\n",
       "      <td>0</td>\n",
       "      <td>0</td>\n",
       "      <td>0</td>\n",
       "      <td>0</td>\n",
       "      <td>0</td>\n",
       "      <td>1</td>\n",
       "      <td>0</td>\n",
       "      <td>1</td>\n",
       "    </tr>\n",
       "    <tr>\n",
       "      <th>3</th>\n",
       "      <td>2019-01-01</td>\n",
       "      <td>QUEENS</td>\n",
       "      <td>0</td>\n",
       "      <td>0</td>\n",
       "      <td>0</td>\n",
       "      <td>0</td>\n",
       "      <td>0</td>\n",
       "      <td>0</td>\n",
       "      <td>0</td>\n",
       "      <td>0</td>\n",
       "      <td>1</td>\n",
       "    </tr>\n",
       "    <tr>\n",
       "      <th>4</th>\n",
       "      <td>2019-01-01</td>\n",
       "      <td>QUEENS</td>\n",
       "      <td>1</td>\n",
       "      <td>0</td>\n",
       "      <td>0</td>\n",
       "      <td>0</td>\n",
       "      <td>0</td>\n",
       "      <td>0</td>\n",
       "      <td>1</td>\n",
       "      <td>0</td>\n",
       "      <td>1</td>\n",
       "    </tr>\n",
       "  </tbody>\n",
       "</table>\n",
       "</div>"
      ],
      "text/plain": [
       "  crash_date borough  number_of_persons_injured  number_of_persons_killed  \\\n",
       "0 2019-01-01     NaN                          0                         0   \n",
       "1 2019-01-01     NaN                          1                         0   \n",
       "2 2019-01-01     NaN                          1                         0   \n",
       "3 2019-01-01  QUEENS                          0                         0   \n",
       "4 2019-01-01  QUEENS                          1                         0   \n",
       "\n",
       "   number_of_pedestrians_injured  number_of_pedestrians_killed  \\\n",
       "0                              0                             0   \n",
       "1                              0                             0   \n",
       "2                              0                             0   \n",
       "3                              0                             0   \n",
       "4                              0                             0   \n",
       "\n",
       "   number_of_cyclist_injured  number_of_cyclist_killed  \\\n",
       "0                          0                         0   \n",
       "1                          0                         0   \n",
       "2                          0                         0   \n",
       "3                          0                         0   \n",
       "4                          0                         0   \n",
       "\n",
       "   number_of_motorist_injured  number_of_motorist_killed  collisions  \n",
       "0                           0                          0           1  \n",
       "1                           1                          0           1  \n",
       "2                           1                          0           1  \n",
       "3                           0                          0           1  \n",
       "4                           1                          0           1  "
      ]
     },
     "execution_count": 41,
     "metadata": {},
     "output_type": "execute_result"
    }
   ],
   "source": [
    "df3.head()"
   ]
  },
  {
   "cell_type": "markdown",
   "metadata": {},
   "source": [
    "### Grouping columns based on month"
   ]
  },
  {
   "cell_type": "code",
   "execution_count": 42,
   "metadata": {},
   "outputs": [
    {
     "name": "stderr",
     "output_type": "stream",
     "text": [
      "C:\\Users\\alixl\\AppData\\Local\\Temp\\ipykernel_9172\\1209142052.py:1: FutureWarning: The default value of numeric_only in DataFrameGroupBy.sum is deprecated. In a future version, numeric_only will default to False. Either specify numeric_only or select only columns which should be valid for the function.\n",
      "  df3 = df3.resample('M', on='crash_date').sum()\n"
     ]
    }
   ],
   "source": [
    "df3 = df3.resample('M', on='crash_date').sum()"
   ]
  },
  {
   "cell_type": "code",
   "execution_count": 43,
   "metadata": {},
   "outputs": [],
   "source": [
    "# Adding severity columns\n",
    "\n",
    "df3[\"severity_injuries\"] = df3[\"number_of_persons_injured\"]/df3[\"collisions\"]\n",
    "df3[\"severity_killed\"] = df3[\"number_of_persons_killed\"]/df3[\"collisions\"]"
   ]
  },
  {
   "cell_type": "code",
   "execution_count": 44,
   "metadata": {},
   "outputs": [
    {
     "data": {
      "text/html": [
       "<div>\n",
       "<style scoped>\n",
       "    .dataframe tbody tr th:only-of-type {\n",
       "        vertical-align: middle;\n",
       "    }\n",
       "\n",
       "    .dataframe tbody tr th {\n",
       "        vertical-align: top;\n",
       "    }\n",
       "\n",
       "    .dataframe thead th {\n",
       "        text-align: right;\n",
       "    }\n",
       "</style>\n",
       "<table border=\"1\" class=\"dataframe\">\n",
       "  <thead>\n",
       "    <tr style=\"text-align: right;\">\n",
       "      <th></th>\n",
       "      <th>number_of_persons_injured</th>\n",
       "      <th>number_of_persons_killed</th>\n",
       "      <th>number_of_pedestrians_injured</th>\n",
       "      <th>number_of_pedestrians_killed</th>\n",
       "      <th>number_of_cyclist_injured</th>\n",
       "      <th>number_of_cyclist_killed</th>\n",
       "      <th>number_of_motorist_injured</th>\n",
       "      <th>number_of_motorist_killed</th>\n",
       "      <th>collisions</th>\n",
       "      <th>severity_injuries</th>\n",
       "      <th>severity_killed</th>\n",
       "    </tr>\n",
       "    <tr>\n",
       "      <th>crash_date</th>\n",
       "      <th></th>\n",
       "      <th></th>\n",
       "      <th></th>\n",
       "      <th></th>\n",
       "      <th></th>\n",
       "      <th></th>\n",
       "      <th></th>\n",
       "      <th></th>\n",
       "      <th></th>\n",
       "      <th></th>\n",
       "      <th></th>\n",
       "    </tr>\n",
       "  </thead>\n",
       "  <tbody>\n",
       "    <tr>\n",
       "      <th>2019-01-31</th>\n",
       "      <td>284</td>\n",
       "      <td>2</td>\n",
       "      <td>57</td>\n",
       "      <td>1</td>\n",
       "      <td>13</td>\n",
       "      <td>1</td>\n",
       "      <td>214</td>\n",
       "      <td>0</td>\n",
       "      <td>1000</td>\n",
       "      <td>0.284</td>\n",
       "      <td>0.002</td>\n",
       "    </tr>\n",
       "  </tbody>\n",
       "</table>\n",
       "</div>"
      ],
      "text/plain": [
       "            number_of_persons_injured  number_of_persons_killed  \\\n",
       "crash_date                                                        \n",
       "2019-01-31                        284                         2   \n",
       "\n",
       "            number_of_pedestrians_injured  number_of_pedestrians_killed  \\\n",
       "crash_date                                                                \n",
       "2019-01-31                             57                             1   \n",
       "\n",
       "            number_of_cyclist_injured  number_of_cyclist_killed  \\\n",
       "crash_date                                                        \n",
       "2019-01-31                         13                         1   \n",
       "\n",
       "            number_of_motorist_injured  number_of_motorist_killed  collisions  \\\n",
       "crash_date                                                                      \n",
       "2019-01-31                         214                          0        1000   \n",
       "\n",
       "            severity_injuries  severity_killed  \n",
       "crash_date                                      \n",
       "2019-01-31              0.284            0.002  "
      ]
     },
     "execution_count": 44,
     "metadata": {},
     "output_type": "execute_result"
    }
   ],
   "source": [
    "df3.head()"
   ]
  },
  {
   "cell_type": "code",
   "execution_count": 45,
   "metadata": {},
   "outputs": [
    {
     "data": {
      "image/png": "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",
      "text/plain": [
       "<Figure size 640x480 with 1 Axes>"
      ]
     },
     "metadata": {},
     "output_type": "display_data"
    }
   ],
   "source": [
    "import matplotlib.pyplot as plt\n",
    "from matplotlib.pyplot import figure\n",
    "# Plot a simple line chart\n",
    "# plt.plot(df[\"severity_injuries\"], color='g', label='Line y')\n",
    "\n",
    "\n",
    "# Plot another line on the same chart/graph\n",
    "\n",
    "plt.title(\"Number of Injuries due to accidents\")\n",
    "\n",
    "plt.plot(df3[\"number_of_pedestrians_injured\"], color='dodgerblue', label='Pedestrians')\n",
    "plt.plot(df3[\"number_of_cyclist_injured\"], color='magenta', label='Cyclists')\n",
    "plt.plot(df3[\"number_of_motorist_injured\"], color='chocolate', label='Motorists')\n",
    "plt.xticks(rotation = 90)\n",
    "\n",
    "\n",
    "plt.legend(loc='upper right')\n",
    "plt.show()"
   ]
  },
  {
   "cell_type": "code",
   "execution_count": 46,
   "metadata": {},
   "outputs": [
    {
     "data": {
      "image/png": "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",
      "text/plain": [
       "<Figure size 640x480 with 1 Axes>"
      ]
     },
     "metadata": {},
     "output_type": "display_data"
    }
   ],
   "source": [
    "import matplotlib.pyplot as plt\n",
    "from matplotlib.pyplot import figure\n",
    "# Plot a simple line chart\n",
    "# plt.plot(df[\"severity_injuries\"], color='g', label='Line y')\n",
    "\n",
    "\n",
    "# Plot another line on the same chart/graph\n",
    "\n",
    "plt.title(\"Number of deaths due to accidents\")\n",
    "\n",
    "plt.plot(df3[\"number_of_pedestrians_killed\"], color='dodgerblue', label='Pedestrians')\n",
    "plt.plot(df3[\"number_of_cyclist_killed\"], color='magenta', label='Cyclists')\n",
    "plt.plot(df3[\"number_of_motorist_killed\"], color='chocolate', label='Motorists')\n",
    "plt.xticks(rotation = 90)\n",
    "\n",
    "\n",
    "plt.legend(loc='upper right')\n",
    "plt.show()"
   ]
  },
  {
   "cell_type": "code",
   "execution_count": 47,
   "metadata": {},
   "outputs": [
    {
     "data": {
      "image/png": "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",
      "text/plain": [
       "<Figure size 640x480 with 1 Axes>"
      ]
     },
     "metadata": {},
     "output_type": "display_data"
    }
   ],
   "source": [
    "import matplotlib.pyplot as plt\n",
    "from matplotlib.pyplot import figure\n",
    "# Plot a simple line chart\n",
    "# plt.plot(df[\"severity_injuries\"], color='g', label='Line y')\n",
    "\n",
    "\n",
    "# Plot another line on the same chart/graph\n",
    "\n",
    "plt.title(\"Injuries per collision\")\n",
    "\n",
    "plt.plot(df3[\"number_of_pedestrians_injured\"]/df3[\"collisions\"], color='dodgerblue', label='Pedestrians')\n",
    "plt.plot(df3[\"number_of_cyclist_injured\"]/df3[\"collisions\"], color='magenta', label='Cyclists')\n",
    "plt.plot(df3[\"number_of_motorist_injured\"]/df3[\"collisions\"], color='chocolate', label='Motorists')\n",
    "plt.xticks(rotation = 90)\n",
    "\n",
    "\n",
    "plt.legend(loc='upper right')\n",
    "plt.show()"
   ]
  },
  {
   "cell_type": "code",
   "execution_count": 48,
   "metadata": {},
   "outputs": [
    {
     "data": {
      "image/png": "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",
      "text/plain": [
       "<Figure size 640x480 with 1 Axes>"
      ]
     },
     "metadata": {},
     "output_type": "display_data"
    }
   ],
   "source": [
    "import matplotlib.pyplot as plt\n",
    "from matplotlib.pyplot import figure\n",
    "# Plot a simple line chart\n",
    "# plt.plot(df[\"severity_injuries\"], color='g', label='Line y')\n",
    "\n",
    "\n",
    "# Plot another line on the same chart/graph\n",
    "\n",
    "plt.title(\"Deaths per collision\")\n",
    "\n",
    "plt.plot(df3[\"number_of_pedestrians_killed\"]/df3[\"collisions\"], color='dodgerblue', label='Pedestrians')\n",
    "plt.plot(df3[\"number_of_cyclist_killed\"]/df3[\"collisions\"], color='magenta', label='Cyclists')\n",
    "plt.plot(df3[\"number_of_motorist_killed\"]/df3[\"collisions\"], color='chocolate', label='Motorists')\n",
    "plt.xticks(rotation = 90)\n",
    "\n",
    "\n",
    "plt.legend(loc='upper right')\n",
    "plt.show()"
   ]
  },
  {
   "cell_type": "code",
   "execution_count": 76,
   "metadata": {},
   "outputs": [
    {
     "data": {
      "text/html": [
       "<div>\n",
       "<style scoped>\n",
       "    .dataframe tbody tr th:only-of-type {\n",
       "        vertical-align: middle;\n",
       "    }\n",
       "\n",
       "    .dataframe tbody tr th {\n",
       "        vertical-align: top;\n",
       "    }\n",
       "\n",
       "    .dataframe thead th {\n",
       "        text-align: right;\n",
       "    }\n",
       "</style>\n",
       "<table border=\"1\" class=\"dataframe\">\n",
       "  <thead>\n",
       "    <tr style=\"text-align: right;\">\n",
       "      <th></th>\n",
       "      <th>crash_date</th>\n",
       "      <th>borough</th>\n",
       "      <th>number_of_persons_injured</th>\n",
       "      <th>number_of_persons_killed</th>\n",
       "      <th>number_of_pedestrians_injured</th>\n",
       "      <th>number_of_pedestrians_killed</th>\n",
       "      <th>number_of_cyclist_injured</th>\n",
       "      <th>number_of_cyclist_killed</th>\n",
       "      <th>number_of_motorist_injured</th>\n",
       "      <th>number_of_motorist_killed</th>\n",
       "    </tr>\n",
       "  </thead>\n",
       "  <tbody>\n",
       "    <tr>\n",
       "      <th>0</th>\n",
       "      <td>2019-01-01T00:00:00.000</td>\n",
       "      <td>NaN</td>\n",
       "      <td>0</td>\n",
       "      <td>0</td>\n",
       "      <td>0</td>\n",
       "      <td>0</td>\n",
       "      <td>0</td>\n",
       "      <td>0</td>\n",
       "      <td>0</td>\n",
       "      <td>0</td>\n",
       "    </tr>\n",
       "    <tr>\n",
       "      <th>1</th>\n",
       "      <td>2019-01-01T00:00:00.000</td>\n",
       "      <td>NaN</td>\n",
       "      <td>1</td>\n",
       "      <td>0</td>\n",
       "      <td>0</td>\n",
       "      <td>0</td>\n",
       "      <td>0</td>\n",
       "      <td>0</td>\n",
       "      <td>1</td>\n",
       "      <td>0</td>\n",
       "    </tr>\n",
       "    <tr>\n",
       "      <th>2</th>\n",
       "      <td>2019-01-01T00:00:00.000</td>\n",
       "      <td>NaN</td>\n",
       "      <td>1</td>\n",
       "      <td>0</td>\n",
       "      <td>0</td>\n",
       "      <td>0</td>\n",
       "      <td>0</td>\n",
       "      <td>0</td>\n",
       "      <td>1</td>\n",
       "      <td>0</td>\n",
       "    </tr>\n",
       "    <tr>\n",
       "      <th>3</th>\n",
       "      <td>2019-01-01T00:00:00.000</td>\n",
       "      <td>QUEENS</td>\n",
       "      <td>0</td>\n",
       "      <td>0</td>\n",
       "      <td>0</td>\n",
       "      <td>0</td>\n",
       "      <td>0</td>\n",
       "      <td>0</td>\n",
       "      <td>0</td>\n",
       "      <td>0</td>\n",
       "    </tr>\n",
       "    <tr>\n",
       "      <th>4</th>\n",
       "      <td>2019-01-01T00:00:00.000</td>\n",
       "      <td>QUEENS</td>\n",
       "      <td>1</td>\n",
       "      <td>0</td>\n",
       "      <td>0</td>\n",
       "      <td>0</td>\n",
       "      <td>0</td>\n",
       "      <td>0</td>\n",
       "      <td>1</td>\n",
       "      <td>0</td>\n",
       "    </tr>\n",
       "  </tbody>\n",
       "</table>\n",
       "</div>"
      ],
      "text/plain": [
       "                crash_date borough  number_of_persons_injured  \\\n",
       "0  2019-01-01T00:00:00.000     NaN                          0   \n",
       "1  2019-01-01T00:00:00.000     NaN                          1   \n",
       "2  2019-01-01T00:00:00.000     NaN                          1   \n",
       "3  2019-01-01T00:00:00.000  QUEENS                          0   \n",
       "4  2019-01-01T00:00:00.000  QUEENS                          1   \n",
       "\n",
       "   number_of_persons_killed  number_of_pedestrians_injured  \\\n",
       "0                         0                              0   \n",
       "1                         0                              0   \n",
       "2                         0                              0   \n",
       "3                         0                              0   \n",
       "4                         0                              0   \n",
       "\n",
       "   number_of_pedestrians_killed  number_of_cyclist_injured  \\\n",
       "0                             0                          0   \n",
       "1                             0                          0   \n",
       "2                             0                          0   \n",
       "3                             0                          0   \n",
       "4                             0                          0   \n",
       "\n",
       "   number_of_cyclist_killed  number_of_motorist_injured  \\\n",
       "0                         0                           0   \n",
       "1                         0                           1   \n",
       "2                         0                           1   \n",
       "3                         0                           0   \n",
       "4                         0                           1   \n",
       "\n",
       "   number_of_motorist_killed  \n",
       "0                          0  \n",
       "1                          0  \n",
       "2                          0  \n",
       "3                          0  \n",
       "4                          0  "
      ]
     },
     "execution_count": 76,
     "metadata": {},
     "output_type": "execute_result"
    }
   ],
   "source": [
    "df.head()"
   ]
  }
 ],
 "metadata": {
  "hide_input": false,
  "kernelspec": {
   "display_name": "Python 3 (ipykernel)",
   "language": "python",
   "name": "python3"
  },
  "language_info": {
   "codemirror_mode": {
    "name": "ipython",
    "version": 3
   },
   "file_extension": ".py",
   "mimetype": "text/x-python",
   "name": "python",
   "nbconvert_exporter": "python",
   "pygments_lexer": "ipython3",
<<<<<<< HEAD:analysis.ipynb
   "version": "3.10.5"
=======
   "version": "3.9.7"
  },
  "varInspector": {
   "cols": {
    "lenName": 16,
    "lenType": 16,
    "lenVar": 40
   },
   "kernels_config": {
    "python": {
     "delete_cmd_postfix": "",
     "delete_cmd_prefix": "del ",
     "library": "var_list.py",
     "varRefreshCmd": "print(var_dic_list())"
    },
    "r": {
     "delete_cmd_postfix": ") ",
     "delete_cmd_prefix": "rm(",
     "library": "var_list.r",
     "varRefreshCmd": "cat(var_dic_list()) "
    }
   },
   "types_to_exclude": [
    "module",
    "function",
    "builtin_function_or_method",
    "instance",
    "_Feature"
   ],
   "window_display": false
>>>>>>> b2668d6b852a8ec6fcebf9d909eeccdb5cac4514:doc/analysis.ipynb
  },
  "vscode": {
   "interpreter": {
    "hash": "f61617900249e3ffc12ad4080b22e723f9d019ffa78fe13a75b7abfd0290bc55"
   }
  }
 },
 "nbformat": 4,
 "nbformat_minor": 2
}
