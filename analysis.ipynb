{
 "cells": [
  {
   "cell_type": "code",
   "execution_count": 1,
   "metadata": {},
   "outputs": [],
   "source": [
    "from lib import data_pipeline\n",
    "import pandas as pd"
   ]
  },
  {
   "cell_type": "code",
   "execution_count": 2,
   "metadata": {},
   "outputs": [
    {
     "name": "stdout",
     "output_type": "stream",
     "text": [
      "The file already exists. Do you want to overwrite the file? (yes/no)yes\n",
      "Downloading motor_vehicle_collisions_crashes.csv. This may take a while...\n",
      "motor_vehicle_collisions_crashes.csv downloaded successfully!\n",
      "The file already exists. Do you want to overwrite the file? (yes/no)no\n",
      "File not overwritten!\n",
      "real-time_traffic_speed_data.csv download cancelled.\n"
     ]
    }
   ],
   "source": [
    "data_pipeline.download_datasets(limit = 1000000000)"
   ]
  },
  {
   "cell_type": "code",
   "execution_count": 3,
   "metadata": {},
   "outputs": [
    {
     "data": {
      "text/html": [
       "<div>\n",
       "<style scoped>\n",
       "    .dataframe tbody tr th:only-of-type {\n",
       "        vertical-align: middle;\n",
       "    }\n",
       "\n",
       "    .dataframe tbody tr th {\n",
       "        vertical-align: top;\n",
       "    }\n",
       "\n",
       "    .dataframe thead th {\n",
       "        text-align: right;\n",
       "    }\n",
       "</style>\n",
       "<table border=\"1\" class=\"dataframe\">\n",
       "  <thead>\n",
       "    <tr style=\"text-align: right;\">\n",
       "      <th></th>\n",
       "      <th>crash_date</th>\n",
       "      <th>crash_time</th>\n",
       "      <th>borough</th>\n",
       "      <th>zip_code</th>\n",
       "      <th>longitude</th>\n",
       "      <th>latitude</th>\n",
       "      <th>on_street_name</th>\n",
       "      <th>number_of_persons_injured</th>\n",
       "      <th>number_of_persons_killed</th>\n",
       "      <th>number_of_pedestrians_injured</th>\n",
       "      <th>number_of_pedestrians_killed</th>\n",
       "      <th>number_of_cyclist_injured</th>\n",
       "      <th>number_of_cyclist_killed</th>\n",
       "      <th>number_of_motorist_injured</th>\n",
       "      <th>number_of_motorist_killed</th>\n",
       "    </tr>\n",
       "  </thead>\n",
       "  <tbody>\n",
       "    <tr>\n",
       "      <th>0</th>\n",
       "      <td>2019-01-01T00:00:00.000</td>\n",
       "      <td>18:41</td>\n",
       "      <td>NaN</td>\n",
       "      <td>NaN</td>\n",
       "      <td>NaN</td>\n",
       "      <td>NaN</td>\n",
       "      <td>VERRAZANO BRIDGE UPPER</td>\n",
       "      <td>0.0</td>\n",
       "      <td>0</td>\n",
       "      <td>0</td>\n",
       "      <td>0</td>\n",
       "      <td>0</td>\n",
       "      <td>0</td>\n",
       "      <td>0</td>\n",
       "      <td>0</td>\n",
       "    </tr>\n",
       "    <tr>\n",
       "      <th>1</th>\n",
       "      <td>2019-01-01T00:00:00.000</td>\n",
       "      <td>1:30</td>\n",
       "      <td>NaN</td>\n",
       "      <td>NaN</td>\n",
       "      <td>NaN</td>\n",
       "      <td>NaN</td>\n",
       "      <td>NARROWS ROAD NORTH</td>\n",
       "      <td>1.0</td>\n",
       "      <td>0</td>\n",
       "      <td>0</td>\n",
       "      <td>0</td>\n",
       "      <td>0</td>\n",
       "      <td>0</td>\n",
       "      <td>1</td>\n",
       "      <td>0</td>\n",
       "    </tr>\n",
       "    <tr>\n",
       "      <th>2</th>\n",
       "      <td>2019-01-01T00:00:00.000</td>\n",
       "      <td>23:55</td>\n",
       "      <td>NaN</td>\n",
       "      <td>NaN</td>\n",
       "      <td>NaN</td>\n",
       "      <td>NaN</td>\n",
       "      <td>MARTIN LUTHER KING JR</td>\n",
       "      <td>1.0</td>\n",
       "      <td>0</td>\n",
       "      <td>0</td>\n",
       "      <td>0</td>\n",
       "      <td>0</td>\n",
       "      <td>0</td>\n",
       "      <td>1</td>\n",
       "      <td>0</td>\n",
       "    </tr>\n",
       "    <tr>\n",
       "      <th>3</th>\n",
       "      <td>2019-01-01T00:00:00.000</td>\n",
       "      <td>0:20</td>\n",
       "      <td>QUEENS</td>\n",
       "      <td>11377.0</td>\n",
       "      <td>-73.915855</td>\n",
       "      <td>40.743137</td>\n",
       "      <td>ROOSEVELT AVENUE</td>\n",
       "      <td>0.0</td>\n",
       "      <td>0</td>\n",
       "      <td>0</td>\n",
       "      <td>0</td>\n",
       "      <td>0</td>\n",
       "      <td>0</td>\n",
       "      <td>0</td>\n",
       "      <td>0</td>\n",
       "    </tr>\n",
       "    <tr>\n",
       "      <th>4</th>\n",
       "      <td>2019-01-01T00:00:00.000</td>\n",
       "      <td>3:30</td>\n",
       "      <td>QUEENS</td>\n",
       "      <td>11103.0</td>\n",
       "      <td>-73.913450</td>\n",
       "      <td>40.759020</td>\n",
       "      <td>NaN</td>\n",
       "      <td>1.0</td>\n",
       "      <td>0</td>\n",
       "      <td>0</td>\n",
       "      <td>0</td>\n",
       "      <td>0</td>\n",
       "      <td>0</td>\n",
       "      <td>1</td>\n",
       "      <td>0</td>\n",
       "    </tr>\n",
       "  </tbody>\n",
       "</table>\n",
       "</div>"
      ],
      "text/plain": [
       "                crash_date crash_time borough  zip_code  longitude   latitude  \\\n",
       "0  2019-01-01T00:00:00.000      18:41     NaN       NaN        NaN        NaN   \n",
       "1  2019-01-01T00:00:00.000       1:30     NaN       NaN        NaN        NaN   \n",
       "2  2019-01-01T00:00:00.000      23:55     NaN       NaN        NaN        NaN   \n",
       "3  2019-01-01T00:00:00.000       0:20  QUEENS   11377.0 -73.915855  40.743137   \n",
       "4  2019-01-01T00:00:00.000       3:30  QUEENS   11103.0 -73.913450  40.759020   \n",
       "\n",
       "                     on_street_name  number_of_persons_injured  \\\n",
       "0  VERRAZANO BRIDGE UPPER                                  0.0   \n",
       "1  NARROWS ROAD NORTH                                      1.0   \n",
       "2  MARTIN LUTHER KING JR                                   1.0   \n",
       "3  ROOSEVELT AVENUE                                        0.0   \n",
       "4                               NaN                        1.0   \n",
       "\n",
       "   number_of_persons_killed  number_of_pedestrians_injured  \\\n",
       "0                         0                              0   \n",
       "1                         0                              0   \n",
       "2                         0                              0   \n",
       "3                         0                              0   \n",
       "4                         0                              0   \n",
       "\n",
       "   number_of_pedestrians_killed  number_of_cyclist_injured  \\\n",
       "0                             0                          0   \n",
       "1                             0                          0   \n",
       "2                             0                          0   \n",
       "3                             0                          0   \n",
       "4                             0                          0   \n",
       "\n",
       "   number_of_cyclist_killed  number_of_motorist_injured  \\\n",
       "0                         0                           0   \n",
       "1                         0                           1   \n",
       "2                         0                           1   \n",
       "3                         0                           0   \n",
       "4                         0                           1   \n",
       "\n",
       "   number_of_motorist_killed  \n",
       "0                          0  \n",
       "1                          0  \n",
       "2                          0  \n",
       "3                          0  \n",
       "4                          0  "
      ]
     },
     "execution_count": 3,
     "metadata": {},
     "output_type": "execute_result"
    }
   ],
   "source": [
    "raw_data_crashes = pd.read_csv(\"./data/motor_vehicle_collisions_crashes.csv\")\n",
    "raw_data_crashes.head()"
   ]
  },
  {
   "cell_type": "code",
   "execution_count": 4,
   "metadata": {},
   "outputs": [
    {
     "data": {
      "text/html": [
       "<div>\n",
       "<style scoped>\n",
       "    .dataframe tbody tr th:only-of-type {\n",
       "        vertical-align: middle;\n",
       "    }\n",
       "\n",
       "    .dataframe tbody tr th {\n",
       "        vertical-align: top;\n",
       "    }\n",
       "\n",
       "    .dataframe thead th {\n",
       "        text-align: right;\n",
       "    }\n",
       "</style>\n",
       "<table border=\"1\" class=\"dataframe\">\n",
       "  <thead>\n",
       "    <tr style=\"text-align: right;\">\n",
       "      <th></th>\n",
       "      <th>speed</th>\n",
       "      <th>travel_time</th>\n",
       "      <th>data_as_of</th>\n",
       "      <th>link_points</th>\n",
       "      <th>borough</th>\n",
       "    </tr>\n",
       "  </thead>\n",
       "  <tbody>\n",
       "    <tr>\n",
       "      <th>0</th>\n",
       "      <td>54.68</td>\n",
       "      <td>200</td>\n",
       "      <td>2022-10-05T13:44:07.000</td>\n",
       "      <td>40.78802,-73.79003 40.7868604,-73.78838 40.786...</td>\n",
       "      <td>Queens</td>\n",
       "    </tr>\n",
       "    <tr>\n",
       "      <th>1</th>\n",
       "      <td>54.68</td>\n",
       "      <td>176</td>\n",
       "      <td>2022-10-05T13:44:07.000</td>\n",
       "      <td>40.7537504,-73.744391 40.75605,-73.740851 40.7...</td>\n",
       "      <td>Queens</td>\n",
       "    </tr>\n",
       "    <tr>\n",
       "      <th>2</th>\n",
       "      <td>59.03</td>\n",
       "      <td>279</td>\n",
       "      <td>2022-10-05T13:44:07.000</td>\n",
       "      <td>40.78795,-73.790191 40.78647,-73.78812 40.7862...</td>\n",
       "      <td>Queens</td>\n",
       "    </tr>\n",
       "    <tr>\n",
       "      <th>3</th>\n",
       "      <td>43.49</td>\n",
       "      <td>100</td>\n",
       "      <td>2022-10-05T13:44:04.000</td>\n",
       "      <td>40.79932,-73.82809 40.8006,-73.82895 40.804700...</td>\n",
       "      <td>Queens</td>\n",
       "    </tr>\n",
       "    <tr>\n",
       "      <th>4</th>\n",
       "      <td>19.88</td>\n",
       "      <td>219</td>\n",
       "      <td>2022-10-05T13:44:04.000</td>\n",
       "      <td>40.814761,-73.83668 40.81354,-73.83659 40.8130...</td>\n",
       "      <td>Bronx</td>\n",
       "    </tr>\n",
       "  </tbody>\n",
       "</table>\n",
       "</div>"
      ],
      "text/plain": [
       "   speed  travel_time               data_as_of  \\\n",
       "0  54.68          200  2022-10-05T13:44:07.000   \n",
       "1  54.68          176  2022-10-05T13:44:07.000   \n",
       "2  59.03          279  2022-10-05T13:44:07.000   \n",
       "3  43.49          100  2022-10-05T13:44:04.000   \n",
       "4  19.88          219  2022-10-05T13:44:04.000   \n",
       "\n",
       "                                         link_points borough  \n",
       "0  40.78802,-73.79003 40.7868604,-73.78838 40.786...  Queens  \n",
       "1  40.7537504,-73.744391 40.75605,-73.740851 40.7...  Queens  \n",
       "2  40.78795,-73.790191 40.78647,-73.78812 40.7862...  Queens  \n",
       "3  40.79932,-73.82809 40.8006,-73.82895 40.804700...  Queens  \n",
       "4  40.814761,-73.83668 40.81354,-73.83659 40.8130...   Bronx  "
      ]
     },
     "execution_count": 4,
     "metadata": {},
     "output_type": "execute_result"
    }
   ],
   "source": [
    "raw_data_speed = pd.read_csv(\"./data/real-time_traffic_speed_data.csv\")\n",
    "raw_data_speed.head()"
   ]
  },
  {
   "cell_type": "code",
   "execution_count": 5,
   "metadata": {},
   "outputs": [
    {
     "data": {
      "text/plain": [
       "crash_date                        object\n",
       "crash_time                        object\n",
       "borough                           object\n",
       "zip_code                         float64\n",
       "longitude                        float64\n",
       "latitude                         float64\n",
       "on_street_name                    object\n",
       "number_of_persons_injured        float64\n",
       "number_of_persons_killed           int64\n",
       "number_of_pedestrians_injured      int64\n",
       "number_of_pedestrians_killed       int64\n",
       "number_of_cyclist_injured          int64\n",
       "number_of_cyclist_killed           int64\n",
       "number_of_motorist_injured         int64\n",
       "number_of_motorist_killed          int64\n",
       "dtype: object"
      ]
     },
     "execution_count": 5,
     "metadata": {},
     "output_type": "execute_result"
    }
   ],
   "source": [
    "raw_data_crashes.dtypes"
   ]
  },
  {
   "cell_type": "code",
   "execution_count": 6,
   "metadata": {},
   "outputs": [
    {
     "data": {
      "text/plain": [
       "speed          float64\n",
       "travel_time      int64\n",
       "data_as_of      object\n",
       "link_points     object\n",
       "borough         object\n",
       "dtype: object"
      ]
     },
     "execution_count": 6,
     "metadata": {},
     "output_type": "execute_result"
    }
   ],
   "source": [
    "raw_data_speed.dtypes"
   ]
  },
  {
   "cell_type": "code",
   "execution_count": 7,
   "metadata": {},
   "outputs": [
    {
     "data": {
      "text/plain": [
       "((513616, 15), (10, 5))"
      ]
     },
     "execution_count": 7,
     "metadata": {},
     "output_type": "execute_result"
    }
   ],
   "source": [
    "raw_data_crashes.shape, raw_data_speed.shape"
   ]
  },
  {
   "cell_type": "code",
   "execution_count": 8,
   "metadata": {},
   "outputs": [
    {
     "data": {
      "text/html": [
       "<div>\n",
       "<style scoped>\n",
       "    .dataframe tbody tr th:only-of-type {\n",
       "        vertical-align: middle;\n",
       "    }\n",
       "\n",
       "    .dataframe tbody tr th {\n",
       "        vertical-align: top;\n",
       "    }\n",
       "\n",
       "    .dataframe thead th {\n",
       "        text-align: right;\n",
       "    }\n",
       "</style>\n",
       "<table border=\"1\" class=\"dataframe\">\n",
       "  <thead>\n",
       "    <tr style=\"text-align: right;\">\n",
       "      <th></th>\n",
       "      <th>crash_date</th>\n",
       "      <th>crash_time</th>\n",
       "      <th>borough</th>\n",
       "      <th>zip_code</th>\n",
       "      <th>longitude</th>\n",
       "      <th>latitude</th>\n",
       "      <th>on_street_name</th>\n",
       "      <th>number_of_persons_injured</th>\n",
       "      <th>number_of_persons_killed</th>\n",
       "      <th>number_of_pedestrians_injured</th>\n",
       "      <th>number_of_pedestrians_killed</th>\n",
       "      <th>number_of_cyclist_injured</th>\n",
       "      <th>number_of_cyclist_killed</th>\n",
       "      <th>number_of_motorist_injured</th>\n",
       "      <th>number_of_motorist_killed</th>\n",
       "    </tr>\n",
       "  </thead>\n",
       "  <tbody>\n",
       "    <tr>\n",
       "      <th>0</th>\n",
       "      <td>2019-01-01T00:00:00.000</td>\n",
       "      <td>18:41</td>\n",
       "      <td>NaN</td>\n",
       "      <td>NaN</td>\n",
       "      <td>NaN</td>\n",
       "      <td>NaN</td>\n",
       "      <td>VERRAZANO BRIDGE UPPER</td>\n",
       "      <td>0.0</td>\n",
       "      <td>0</td>\n",
       "      <td>0</td>\n",
       "      <td>0</td>\n",
       "      <td>0</td>\n",
       "      <td>0</td>\n",
       "      <td>0</td>\n",
       "      <td>0</td>\n",
       "    </tr>\n",
       "    <tr>\n",
       "      <th>1</th>\n",
       "      <td>2019-01-01T00:00:00.000</td>\n",
       "      <td>1:30</td>\n",
       "      <td>NaN</td>\n",
       "      <td>NaN</td>\n",
       "      <td>NaN</td>\n",
       "      <td>NaN</td>\n",
       "      <td>NARROWS ROAD NORTH</td>\n",
       "      <td>1.0</td>\n",
       "      <td>0</td>\n",
       "      <td>0</td>\n",
       "      <td>0</td>\n",
       "      <td>0</td>\n",
       "      <td>0</td>\n",
       "      <td>1</td>\n",
       "      <td>0</td>\n",
       "    </tr>\n",
       "    <tr>\n",
       "      <th>2</th>\n",
       "      <td>2019-01-01T00:00:00.000</td>\n",
       "      <td>23:55</td>\n",
       "      <td>NaN</td>\n",
       "      <td>NaN</td>\n",
       "      <td>NaN</td>\n",
       "      <td>NaN</td>\n",
       "      <td>MARTIN LUTHER KING JR</td>\n",
       "      <td>1.0</td>\n",
       "      <td>0</td>\n",
       "      <td>0</td>\n",
       "      <td>0</td>\n",
       "      <td>0</td>\n",
       "      <td>0</td>\n",
       "      <td>1</td>\n",
       "      <td>0</td>\n",
       "    </tr>\n",
       "    <tr>\n",
       "      <th>3</th>\n",
       "      <td>2019-01-01T00:00:00.000</td>\n",
       "      <td>0:20</td>\n",
       "      <td>QUEENS</td>\n",
       "      <td>11377.0</td>\n",
       "      <td>-73.915855</td>\n",
       "      <td>40.743137</td>\n",
       "      <td>ROOSEVELT AVENUE</td>\n",
       "      <td>0.0</td>\n",
       "      <td>0</td>\n",
       "      <td>0</td>\n",
       "      <td>0</td>\n",
       "      <td>0</td>\n",
       "      <td>0</td>\n",
       "      <td>0</td>\n",
       "      <td>0</td>\n",
       "    </tr>\n",
       "    <tr>\n",
       "      <th>4</th>\n",
       "      <td>2019-01-01T00:00:00.000</td>\n",
       "      <td>3:30</td>\n",
       "      <td>QUEENS</td>\n",
       "      <td>11103.0</td>\n",
       "      <td>-73.913450</td>\n",
       "      <td>40.759020</td>\n",
       "      <td>NaN</td>\n",
       "      <td>1.0</td>\n",
       "      <td>0</td>\n",
       "      <td>0</td>\n",
       "      <td>0</td>\n",
       "      <td>0</td>\n",
       "      <td>0</td>\n",
       "      <td>1</td>\n",
       "      <td>0</td>\n",
       "    </tr>\n",
       "    <tr>\n",
       "      <th>...</th>\n",
       "      <td>...</td>\n",
       "      <td>...</td>\n",
       "      <td>...</td>\n",
       "      <td>...</td>\n",
       "      <td>...</td>\n",
       "      <td>...</td>\n",
       "      <td>...</td>\n",
       "      <td>...</td>\n",
       "      <td>...</td>\n",
       "      <td>...</td>\n",
       "      <td>...</td>\n",
       "      <td>...</td>\n",
       "      <td>...</td>\n",
       "      <td>...</td>\n",
       "      <td>...</td>\n",
       "    </tr>\n",
       "    <tr>\n",
       "      <th>513611</th>\n",
       "      <td>2022-10-04T00:00:00.000</td>\n",
       "      <td>20:20</td>\n",
       "      <td>NaN</td>\n",
       "      <td>NaN</td>\n",
       "      <td>NaN</td>\n",
       "      <td>NaN</td>\n",
       "      <td>FORT INDEPENDENCE STREET</td>\n",
       "      <td>1.0</td>\n",
       "      <td>0</td>\n",
       "      <td>0</td>\n",
       "      <td>0</td>\n",
       "      <td>0</td>\n",
       "      <td>0</td>\n",
       "      <td>1</td>\n",
       "      <td>0</td>\n",
       "    </tr>\n",
       "    <tr>\n",
       "      <th>513612</th>\n",
       "      <td>2022-10-04T00:00:00.000</td>\n",
       "      <td>22:54</td>\n",
       "      <td>MANHATTAN</td>\n",
       "      <td>10030.0</td>\n",
       "      <td>-73.940930</td>\n",
       "      <td>40.819090</td>\n",
       "      <td>WEST 141 STREET</td>\n",
       "      <td>2.0</td>\n",
       "      <td>0</td>\n",
       "      <td>0</td>\n",
       "      <td>0</td>\n",
       "      <td>1</td>\n",
       "      <td>0</td>\n",
       "      <td>1</td>\n",
       "      <td>0</td>\n",
       "    </tr>\n",
       "    <tr>\n",
       "      <th>513613</th>\n",
       "      <td>2022-10-04T00:00:00.000</td>\n",
       "      <td>0:40</td>\n",
       "      <td>NaN</td>\n",
       "      <td>NaN</td>\n",
       "      <td>-73.930824</td>\n",
       "      <td>40.737150</td>\n",
       "      <td>GREENPOINT AVENUE</td>\n",
       "      <td>1.0</td>\n",
       "      <td>0</td>\n",
       "      <td>0</td>\n",
       "      <td>0</td>\n",
       "      <td>1</td>\n",
       "      <td>0</td>\n",
       "      <td>0</td>\n",
       "      <td>0</td>\n",
       "    </tr>\n",
       "    <tr>\n",
       "      <th>513614</th>\n",
       "      <td>2022-10-04T00:00:00.000</td>\n",
       "      <td>19:23</td>\n",
       "      <td>MANHATTAN</td>\n",
       "      <td>10023.0</td>\n",
       "      <td>NaN</td>\n",
       "      <td>NaN</td>\n",
       "      <td>WEST 59 STREET</td>\n",
       "      <td>1.0</td>\n",
       "      <td>0</td>\n",
       "      <td>0</td>\n",
       "      <td>0</td>\n",
       "      <td>1</td>\n",
       "      <td>0</td>\n",
       "      <td>0</td>\n",
       "      <td>0</td>\n",
       "    </tr>\n",
       "    <tr>\n",
       "      <th>513615</th>\n",
       "      <td>2022-10-04T00:00:00.000</td>\n",
       "      <td>16:45</td>\n",
       "      <td>BROOKLYN</td>\n",
       "      <td>11220.0</td>\n",
       "      <td>-74.012130</td>\n",
       "      <td>40.646920</td>\n",
       "      <td>NaN</td>\n",
       "      <td>1.0</td>\n",
       "      <td>0</td>\n",
       "      <td>0</td>\n",
       "      <td>0</td>\n",
       "      <td>0</td>\n",
       "      <td>0</td>\n",
       "      <td>1</td>\n",
       "      <td>0</td>\n",
       "    </tr>\n",
       "  </tbody>\n",
       "</table>\n",
       "<p>513616 rows × 15 columns</p>\n",
       "</div>"
      ],
      "text/plain": [
       "                     crash_date crash_time    borough  zip_code  longitude  \\\n",
       "0       2019-01-01T00:00:00.000      18:41        NaN       NaN        NaN   \n",
       "1       2019-01-01T00:00:00.000       1:30        NaN       NaN        NaN   \n",
       "2       2019-01-01T00:00:00.000      23:55        NaN       NaN        NaN   \n",
       "3       2019-01-01T00:00:00.000       0:20     QUEENS   11377.0 -73.915855   \n",
       "4       2019-01-01T00:00:00.000       3:30     QUEENS   11103.0 -73.913450   \n",
       "...                         ...        ...        ...       ...        ...   \n",
       "513611  2022-10-04T00:00:00.000      20:20        NaN       NaN        NaN   \n",
       "513612  2022-10-04T00:00:00.000      22:54  MANHATTAN   10030.0 -73.940930   \n",
       "513613  2022-10-04T00:00:00.000       0:40        NaN       NaN -73.930824   \n",
       "513614  2022-10-04T00:00:00.000      19:23  MANHATTAN   10023.0        NaN   \n",
       "513615  2022-10-04T00:00:00.000      16:45   BROOKLYN   11220.0 -74.012130   \n",
       "\n",
       "         latitude                    on_street_name  \\\n",
       "0             NaN  VERRAZANO BRIDGE UPPER             \n",
       "1             NaN  NARROWS ROAD NORTH                 \n",
       "2             NaN  MARTIN LUTHER KING JR              \n",
       "3       40.743137  ROOSEVELT AVENUE                   \n",
       "4       40.759020                               NaN   \n",
       "...           ...                               ...   \n",
       "513611        NaN          FORT INDEPENDENCE STREET   \n",
       "513612  40.819090                   WEST 141 STREET   \n",
       "513613  40.737150                 GREENPOINT AVENUE   \n",
       "513614        NaN                    WEST 59 STREET   \n",
       "513615  40.646920                               NaN   \n",
       "\n",
       "        number_of_persons_injured  number_of_persons_killed  \\\n",
       "0                             0.0                         0   \n",
       "1                             1.0                         0   \n",
       "2                             1.0                         0   \n",
       "3                             0.0                         0   \n",
       "4                             1.0                         0   \n",
       "...                           ...                       ...   \n",
       "513611                        1.0                         0   \n",
       "513612                        2.0                         0   \n",
       "513613                        1.0                         0   \n",
       "513614                        1.0                         0   \n",
       "513615                        1.0                         0   \n",
       "\n",
       "        number_of_pedestrians_injured  number_of_pedestrians_killed  \\\n",
       "0                                   0                             0   \n",
       "1                                   0                             0   \n",
       "2                                   0                             0   \n",
       "3                                   0                             0   \n",
       "4                                   0                             0   \n",
       "...                               ...                           ...   \n",
       "513611                              0                             0   \n",
       "513612                              0                             0   \n",
       "513613                              0                             0   \n",
       "513614                              0                             0   \n",
       "513615                              0                             0   \n",
       "\n",
       "        number_of_cyclist_injured  number_of_cyclist_killed  \\\n",
       "0                               0                         0   \n",
       "1                               0                         0   \n",
       "2                               0                         0   \n",
       "3                               0                         0   \n",
       "4                               0                         0   \n",
       "...                           ...                       ...   \n",
       "513611                          0                         0   \n",
       "513612                          1                         0   \n",
       "513613                          1                         0   \n",
       "513614                          1                         0   \n",
       "513615                          0                         0   \n",
       "\n",
       "        number_of_motorist_injured  number_of_motorist_killed  \n",
       "0                                0                          0  \n",
       "1                                1                          0  \n",
       "2                                1                          0  \n",
       "3                                0                          0  \n",
       "4                                1                          0  \n",
       "...                            ...                        ...  \n",
       "513611                           1                          0  \n",
       "513612                           1                          0  \n",
       "513613                           0                          0  \n",
       "513614                           0                          0  \n",
       "513615                           1                          0  \n",
       "\n",
       "[513616 rows x 15 columns]"
      ]
     },
     "execution_count": 8,
     "metadata": {},
     "output_type": "execute_result"
    }
   ],
   "source": [
    "raw_data_crashes"
   ]
  },
  {
   "cell_type": "markdown",
   "metadata": {},
   "source": [
    "### Checking missing values"
   ]
  },
  {
   "cell_type": "code",
   "execution_count": 9,
   "metadata": {},
   "outputs": [
    {
     "data": {
      "text/plain": [
       "crash_date                            0\n",
       "crash_time                            0\n",
       "borough                          178471\n",
       "zip_code                         178548\n",
       "longitude                         42060\n",
       "latitude                          42060\n",
       "on_street_name                   131943\n",
       "number_of_persons_injured             1\n",
       "number_of_persons_killed              0\n",
       "number_of_pedestrians_injured         0\n",
       "number_of_pedestrians_killed          0\n",
       "number_of_cyclist_injured             0\n",
       "number_of_cyclist_killed              0\n",
       "number_of_motorist_injured            0\n",
       "number_of_motorist_killed             0\n",
       "dtype: int64"
      ]
     },
     "execution_count": 9,
     "metadata": {},
     "output_type": "execute_result"
    }
   ],
   "source": [
    "raw_data_crashes.isna().sum()"
   ]
  },
  {
   "cell_type": "markdown",
   "metadata": {},
   "source": [
    "# Plotting total collisons, total injured, total killed, injured/collison and killed/collison"
   ]
  },
  {
   "cell_type": "markdown",
   "metadata": {},
   "source": [
    "### Dropping columns"
   ]
  },
  {
   "cell_type": "code",
   "execution_count": 10,
   "metadata": {},
   "outputs": [],
   "source": [
    "df = raw_data_crashes.drop(['zip_code', 'longitude','latitude','latitude','on_street_name','crash_time'], axis=1)"
   ]
  },
  {
   "cell_type": "markdown",
   "metadata": {},
   "source": [
    "### Converting crash time to datetime variable"
   ]
  },
  {
   "cell_type": "code",
   "execution_count": 11,
   "metadata": {},
   "outputs": [
    {
     "data": {
      "text/plain": [
       "crash_date                        object\n",
       "borough                           object\n",
       "number_of_persons_injured        float64\n",
       "number_of_persons_killed           int64\n",
       "number_of_pedestrians_injured      int64\n",
       "number_of_pedestrians_killed       int64\n",
       "number_of_cyclist_injured          int64\n",
       "number_of_cyclist_killed           int64\n",
       "number_of_motorist_injured         int64\n",
       "number_of_motorist_killed          int64\n",
       "dtype: object"
      ]
     },
     "execution_count": 11,
     "metadata": {},
     "output_type": "execute_result"
    }
   ],
   "source": [
    "df.dtypes"
   ]
  },
  {
   "cell_type": "code",
   "execution_count": 12,
   "metadata": {},
   "outputs": [],
   "source": [
    "df['crash_date'] = pd.to_datetime(df['crash_date'])"
   ]
  },
  {
   "cell_type": "code",
   "execution_count": 13,
   "metadata": {},
   "outputs": [
    {
     "data": {
      "text/plain": [
       "crash_date                       datetime64[ns]\n",
       "borough                                  object\n",
       "number_of_persons_injured               float64\n",
       "number_of_persons_killed                  int64\n",
       "number_of_pedestrians_injured             int64\n",
       "number_of_pedestrians_killed              int64\n",
       "number_of_cyclist_injured                 int64\n",
       "number_of_cyclist_killed                  int64\n",
       "number_of_motorist_injured                int64\n",
       "number_of_motorist_killed                 int64\n",
       "dtype: object"
      ]
     },
     "execution_count": 13,
     "metadata": {},
     "output_type": "execute_result"
    }
   ],
   "source": [
    "df.dtypes"
   ]
  },
  {
   "cell_type": "markdown",
   "metadata": {},
   "source": [
    "### Adding 1 column for counting number of collisions in a particular month"
   ]
  },
  {
   "cell_type": "code",
   "execution_count": 14,
   "metadata": {},
   "outputs": [],
   "source": [
    "df[\"collisions\"]=1"
   ]
  },
  {
   "cell_type": "code",
   "execution_count": 15,
   "metadata": {},
   "outputs": [
    {
     "data": {
      "text/html": [
       "<div>\n",
       "<style scoped>\n",
       "    .dataframe tbody tr th:only-of-type {\n",
       "        vertical-align: middle;\n",
       "    }\n",
       "\n",
       "    .dataframe tbody tr th {\n",
       "        vertical-align: top;\n",
       "    }\n",
       "\n",
       "    .dataframe thead th {\n",
       "        text-align: right;\n",
       "    }\n",
       "</style>\n",
       "<table border=\"1\" class=\"dataframe\">\n",
       "  <thead>\n",
       "    <tr style=\"text-align: right;\">\n",
       "      <th></th>\n",
       "      <th>crash_date</th>\n",
       "      <th>borough</th>\n",
       "      <th>number_of_persons_injured</th>\n",
       "      <th>number_of_persons_killed</th>\n",
       "      <th>number_of_pedestrians_injured</th>\n",
       "      <th>number_of_pedestrians_killed</th>\n",
       "      <th>number_of_cyclist_injured</th>\n",
       "      <th>number_of_cyclist_killed</th>\n",
       "      <th>number_of_motorist_injured</th>\n",
       "      <th>number_of_motorist_killed</th>\n",
       "      <th>collisions</th>\n",
       "    </tr>\n",
       "  </thead>\n",
       "  <tbody>\n",
       "    <tr>\n",
       "      <th>0</th>\n",
       "      <td>2019-01-01</td>\n",
       "      <td>NaN</td>\n",
       "      <td>0.0</td>\n",
       "      <td>0</td>\n",
       "      <td>0</td>\n",
       "      <td>0</td>\n",
       "      <td>0</td>\n",
       "      <td>0</td>\n",
       "      <td>0</td>\n",
       "      <td>0</td>\n",
       "      <td>1</td>\n",
       "    </tr>\n",
       "    <tr>\n",
       "      <th>1</th>\n",
       "      <td>2019-01-01</td>\n",
       "      <td>NaN</td>\n",
       "      <td>1.0</td>\n",
       "      <td>0</td>\n",
       "      <td>0</td>\n",
       "      <td>0</td>\n",
       "      <td>0</td>\n",
       "      <td>0</td>\n",
       "      <td>1</td>\n",
       "      <td>0</td>\n",
       "      <td>1</td>\n",
       "    </tr>\n",
       "    <tr>\n",
       "      <th>2</th>\n",
       "      <td>2019-01-01</td>\n",
       "      <td>NaN</td>\n",
       "      <td>1.0</td>\n",
       "      <td>0</td>\n",
       "      <td>0</td>\n",
       "      <td>0</td>\n",
       "      <td>0</td>\n",
       "      <td>0</td>\n",
       "      <td>1</td>\n",
       "      <td>0</td>\n",
       "      <td>1</td>\n",
       "    </tr>\n",
       "    <tr>\n",
       "      <th>3</th>\n",
       "      <td>2019-01-01</td>\n",
       "      <td>QUEENS</td>\n",
       "      <td>0.0</td>\n",
       "      <td>0</td>\n",
       "      <td>0</td>\n",
       "      <td>0</td>\n",
       "      <td>0</td>\n",
       "      <td>0</td>\n",
       "      <td>0</td>\n",
       "      <td>0</td>\n",
       "      <td>1</td>\n",
       "    </tr>\n",
       "    <tr>\n",
       "      <th>4</th>\n",
       "      <td>2019-01-01</td>\n",
       "      <td>QUEENS</td>\n",
       "      <td>1.0</td>\n",
       "      <td>0</td>\n",
       "      <td>0</td>\n",
       "      <td>0</td>\n",
       "      <td>0</td>\n",
       "      <td>0</td>\n",
       "      <td>1</td>\n",
       "      <td>0</td>\n",
       "      <td>1</td>\n",
       "    </tr>\n",
       "  </tbody>\n",
       "</table>\n",
       "</div>"
      ],
      "text/plain": [
       "  crash_date borough  number_of_persons_injured  number_of_persons_killed  \\\n",
       "0 2019-01-01     NaN                        0.0                         0   \n",
       "1 2019-01-01     NaN                        1.0                         0   \n",
       "2 2019-01-01     NaN                        1.0                         0   \n",
       "3 2019-01-01  QUEENS                        0.0                         0   \n",
       "4 2019-01-01  QUEENS                        1.0                         0   \n",
       "\n",
       "   number_of_pedestrians_injured  number_of_pedestrians_killed  \\\n",
       "0                              0                             0   \n",
       "1                              0                             0   \n",
       "2                              0                             0   \n",
       "3                              0                             0   \n",
       "4                              0                             0   \n",
       "\n",
       "   number_of_cyclist_injured  number_of_cyclist_killed  \\\n",
       "0                          0                         0   \n",
       "1                          0                         0   \n",
       "2                          0                         0   \n",
       "3                          0                         0   \n",
       "4                          0                         0   \n",
       "\n",
       "   number_of_motorist_injured  number_of_motorist_killed  collisions  \n",
       "0                           0                          0           1  \n",
       "1                           1                          0           1  \n",
       "2                           1                          0           1  \n",
       "3                           0                          0           1  \n",
       "4                           1                          0           1  "
      ]
     },
     "execution_count": 15,
     "metadata": {},
     "output_type": "execute_result"
    }
   ],
   "source": [
    "df.head()"
   ]
  },
  {
   "cell_type": "markdown",
   "metadata": {},
   "source": [
    "### Grouping columns based on month"
   ]
  },
  {
   "cell_type": "code",
   "execution_count": 16,
   "metadata": {},
   "outputs": [
    {
     "name": "stderr",
     "output_type": "stream",
     "text": [
      "C:\\Users\\Kartik Kotian\\AppData\\Local\\Temp\\ipykernel_19216\\835002635.py:1: FutureWarning: The default value of numeric_only in DataFrameGroupBy.sum is deprecated. In a future version, numeric_only will default to False. Either specify numeric_only or select only columns which should be valid for the function.\n",
      "  df = df.resample('M', on='crash_date').sum()\n"
     ]
    }
   ],
   "source": [
    "df = df.resample('M', on='crash_date').sum()"
   ]
  },
  {
   "cell_type": "code",
   "execution_count": 17,
   "metadata": {},
   "outputs": [],
   "source": [
    "df[\"severity_injuries\"] = df[\"number_of_persons_injured\"]/df[\"collisions\"]"
   ]
  },
  {
   "cell_type": "code",
   "execution_count": 18,
   "metadata": {},
   "outputs": [],
   "source": [
    "df[\"severity_killed\"] = df[\"number_of_persons_killed\"]/df[\"collisions\"]"
   ]
  },
  {
   "cell_type": "code",
   "execution_count": 31,
   "metadata": {},
   "outputs": [
    {
     "data": {
      "image/png": "[encoded data removed]",
      "text/plain": [
       "<Figure size 640x480 with 1 Axes>"
      ]
     },
     "metadata": {},
     "output_type": "display_data"
    }
   ],
   "source": [
    "import matplotlib.pyplot as plt\n",
    "from matplotlib.pyplot import figure\n",
    "import numpy as np\n",
    "\n",
    "plt.plot(df[\"severity_injuries\"], color='darkorange', label='Injuries per collsion')\n",
    "plt.xticks(rotation = 90)\n",
    "\n",
    "plt.legend()\n",
    "plt.show()"
   ]
  },
  {
   "cell_type": "code",
   "execution_count": 30,
   "metadata": {},
   "outputs": [
    {
     "data": {
      "image/png": "[encoded data removed]",
      "text/plain": [
       "<Figure size 640x480 with 1 Axes>"
      ]
     },
     "metadata": {},
     "output_type": "display_data"
    }
   ],
   "source": [
    "import matplotlib.pyplot as plt\n",
    "from matplotlib.pyplot import figure\n",
    "# Plot a simple line chart\n",
    "# plt.plot(df[\"severity_injuries\"], color='g', label='Line y')\n",
    "\n",
    "# Plot another line on the same chart/graph\n",
    "\n",
    "plt.plot(df[\"severity_killed\"], color='red', label='Deaths per collision')\n",
    "plt.xticks(rotation = 90)\n",
    "\n",
    "\n",
    "plt.legend()\n",
    "plt.show()"
   ]
  },
  {
   "cell_type": "code",
   "execution_count": null,
   "metadata": {},
   "outputs": [],
   "source": [
    "import matplotlib.pyplot as plt\n",
    "from matplotlib.pyplot import figure\n",
    "# Plot a simple line chart\n",
    "# plt.plot(df[\"severity_injuries\"], color='g', label='Line y')\n",
    "\n",
    "\n",
    "# Plot another line on the same chart/graph\n",
    "plt.plot(df[\"collisions\"], color='black', label='Number of collisions')\n",
    "plt.xticks(rotation = 90)\n",
    "\n",
    "\n",
    "plt.legend()\n",
    "plt.show()"
   ]
  },
  {
   "cell_type": "code",
   "execution_count": 32,
   "metadata": {},
   "outputs": [
    {
     "data": {
      "image/png": "[encoded data removed]",
      "text/plain": [
       "<Figure size 640x480 with 1 Axes>"
      ]
     },
     "metadata": {},
     "output_type": "display_data"
    }
   ],
   "source": [
    "import matplotlib.pyplot as plt\n",
    "from matplotlib.pyplot import figure\n",
    "# Plot a simple line chart\n",
    "# plt.plot(df[\"severity_injuries\"], color='g', label='Line y')\n",
    "\n",
    "# Plot another line on the same chart/graph\n",
    "plt.plot(df[\"number_of_persons_injured\"], color='darkorange', label='total number of people injured')\n",
    "plt.xticks(rotation = 90)\n",
    "\n",
    "\n",
    "plt.legend()\n",
    "plt.show()"
   ]
  },
  {
   "cell_type": "code",
   "execution_count": 25,
   "metadata": {},
   "outputs": [
    {
     "data": {
      "image/png": "[encoded data removed]",
      "text/plain": [
       "<Figure size 640x480 with 1 Axes>"
      ]
     },
     "metadata": {},
     "output_type": "display_data"
    }
   ],
   "source": [
    "import matplotlib.pyplot as plt\n",
    "from matplotlib.pyplot import figure\n",
    "# Plot a simple line chart\n",
    "# plt.plot(df[\"severity_injuries\"], color='g', label='Line y')\n",
    "\n",
    "# Plot another line on the same chart/graph\n",
    "plt.plot(df[\"number_of_persons_killed\"], color='r', label='total number of people killed')\n",
    "plt.xticks(rotation = 90)\n",
    "\n",
    "\n",
    "plt.legend()\n",
    "plt.show()"
   ]
  }
 ],
 "metadata": {
  "hide_input": false,
  "kernelspec": {
   "display_name": "Python 3 (ipykernel)",
   "language": "python",
   "name": "python3"
  },
  "language_info": {
   "codemirror_mode": {
    "name": "ipython",
    "version": 3
   },
   "file_extension": ".py",
   "mimetype": "text/x-python",
   "name": "python",
   "nbconvert_exporter": "python",
   "pygments_lexer": "ipython3",
   "version": "3.9.12"
  },
  "vscode": {
   "interpreter": {
    "hash": "f61617900249e3ffc12ad4080b22e723f9d019ffa78fe13a75b7abfd0290bc55"
   }
  }
 },
 "nbformat": 4,
 "nbformat_minor": 2
}
