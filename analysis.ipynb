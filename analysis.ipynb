{
 "cells": [
  {
   "cell_type": "code",
   "execution_count": 10,
   "metadata": {},
   "outputs": [
    {
     "name": "stdout",
     "output_type": "stream",
     "text": [
      "Requirement already satisfied: asttokens==2.0.8 in d:\\documents\\masters\\3rd semester\\applied data science - gr5243\\fall2022-project2-group4\\.venv\\lib\\site-packages (from -r requiremets.txt (line 1)) (2.0.8)Note: you may need to restart the kernel to use updated packages.\n",
      "\n",
      "Requirement already satisfied: autopep8==1.7.0 in d:\\documents\\masters\\3rd semester\\applied data science - gr5243\\fall2022-project2-group4\\.venv\\lib\\site-packages (from -r requiremets.txt (line 2)) (1.7.0)\n",
      "Requirement already satisfied: backcall==0.2.0 in d:\\documents\\masters\\3rd semester\\applied data science - gr5243\\fall2022-project2-group4\\.venv\\lib\\site-packages (from -r requiremets.txt (line 3)) (0.2.0)\n",
      "Requirement already satisfied: certifi==2022.9.24 in d:\\documents\\masters\\3rd semester\\applied data science - gr5243\\fall2022-project2-group4\\.venv\\lib\\site-packages (from -r requiremets.txt (line 4)) (2022.9.24)\n",
      "Requirement already satisfied: charset-normalizer==2.1.1 in d:\\documents\\masters\\3rd semester\\applied data science - gr5243\\fall2022-project2-group4\\.venv\\lib\\site-packages (from -r requiremets.txt (line 5)) (2.1.1)\n",
      "Requirement already satisfied: colorama==0.4.5 in d:\\documents\\masters\\3rd semester\\applied data science - gr5243\\fall2022-project2-group4\\.venv\\lib\\site-packages (from -r requiremets.txt (line 6)) (0.4.5)\n",
      "Requirement already satisfied: debugpy==1.6.3 in d:\\documents\\masters\\3rd semester\\applied data science - gr5243\\fall2022-project2-group4\\.venv\\lib\\site-packages (from -r requiremets.txt (line 7)) (1.6.3)\n",
      "Requirement already satisfied: decorator==5.1.1 in d:\\documents\\masters\\3rd semester\\applied data science - gr5243\\fall2022-project2-group4\\.venv\\lib\\site-packages (from -r requiremets.txt (line 8)) (5.1.1)\n",
      "Requirement already satisfied: entrypoints==0.4 in d:\\documents\\masters\\3rd semester\\applied data science - gr5243\\fall2022-project2-group4\\.venv\\lib\\site-packages (from -r requiremets.txt (line 9)) (0.4)\n",
      "Requirement already satisfied: executing==1.1.0 in d:\\documents\\masters\\3rd semester\\applied data science - gr5243\\fall2022-project2-group4\\.venv\\lib\\site-packages (from -r requiremets.txt (line 10)) (1.1.0)\n",
      "Requirement already satisfied: idna==3.4 in d:\\documents\\masters\\3rd semester\\applied data science - gr5243\\fall2022-project2-group4\\.venv\\lib\\site-packages (from -r requiremets.txt (line 11)) (3.4)\n",
      "Requirement already satisfied: ipykernel==6.16.0 in d:\\documents\\masters\\3rd semester\\applied data science - gr5243\\fall2022-project2-group4\\.venv\\lib\\site-packages (from -r requiremets.txt (line 12)) (6.16.0)\n",
      "Requirement already satisfied: ipython==8.5.0 in d:\\documents\\masters\\3rd semester\\applied data science - gr5243\\fall2022-project2-group4\\.venv\\lib\\site-packages (from -r requiremets.txt (line 13)) (8.5.0)\n",
      "Requirement already satisfied: jedi==0.18.1 in d:\\documents\\masters\\3rd semester\\applied data science - gr5243\\fall2022-project2-group4\\.venv\\lib\\site-packages (from -r requiremets.txt (line 14)) (0.18.1)\n",
      "Requirement already satisfied: jupyter-core==4.11.1 in d:\\documents\\masters\\3rd semester\\applied data science - gr5243\\fall2022-project2-group4\\.venv\\lib\\site-packages (from -r requiremets.txt (line 15)) (4.11.1)\n",
      "Requirement already satisfied: jupyter_client==7.3.5 in d:\\documents\\masters\\3rd semester\\applied data science - gr5243\\fall2022-project2-group4\\.venv\\lib\\site-packages (from -r requiremets.txt (line 16)) (7.3.5)\n",
      "Requirement already satisfied: matplotlib-inline==0.1.6 in d:\\documents\\masters\\3rd semester\\applied data science - gr5243\\fall2022-project2-group4\\.venv\\lib\\site-packages (from -r requiremets.txt (line 17)) (0.1.6)\n",
      "Requirement already satisfied: nest-asyncio==1.5.6 in d:\\documents\\masters\\3rd semester\\applied data science - gr5243\\fall2022-project2-group4\\.venv\\lib\\site-packages (from -r requiremets.txt (line 18)) (1.5.6)\n",
      "Requirement already satisfied: numpy==1.23.3 in d:\\documents\\masters\\3rd semester\\applied data science - gr5243\\fall2022-project2-group4\\.venv\\lib\\site-packages (from -r requiremets.txt (line 19)) (1.23.3)\n",
      "Requirement already satisfied: packaging==21.3 in d:\\documents\\masters\\3rd semester\\applied data science - gr5243\\fall2022-project2-group4\\.venv\\lib\\site-packages (from -r requiremets.txt (line 20)) (21.3)\n",
      "Requirement already satisfied: pandas==1.5.0 in d:\\documents\\masters\\3rd semester\\applied data science - gr5243\\fall2022-project2-group4\\.venv\\lib\\site-packages (from -r requiremets.txt (line 21)) (1.5.0)\n",
      "Requirement already satisfied: parso==0.8.3 in d:\\documents\\masters\\3rd semester\\applied data science - gr5243\\fall2022-project2-group4\\.venv\\lib\\site-packages (from -r requiremets.txt (line 22)) (0.8.3)\n",
      "Requirement already satisfied: pickleshare==0.7.5 in d:\\documents\\masters\\3rd semester\\applied data science - gr5243\\fall2022-project2-group4\\.venv\\lib\\site-packages (from -r requiremets.txt (line 23)) (0.7.5)\n",
      "Requirement already satisfied: prompt-toolkit==3.0.31 in d:\\documents\\masters\\3rd semester\\applied data science - gr5243\\fall2022-project2-group4\\.venv\\lib\\site-packages (from -r requiremets.txt (line 24)) (3.0.31)\n",
      "Requirement already satisfied: psutil==5.9.2 in d:\\documents\\masters\\3rd semester\\applied data science - gr5243\\fall2022-project2-group4\\.venv\\lib\\site-packages (from -r requiremets.txt (line 25)) (5.9.2)\n",
      "Requirement already satisfied: pure-eval==0.2.2 in d:\\documents\\masters\\3rd semester\\applied data science - gr5243\\fall2022-project2-group4\\.venv\\lib\\site-packages (from -r requiremets.txt (line 26)) (0.2.2)\n",
      "Requirement already satisfied: pycodestyle==2.9.1 in d:\\documents\\masters\\3rd semester\\applied data science - gr5243\\fall2022-project2-group4\\.venv\\lib\\site-packages (from -r requiremets.txt (line 27)) (2.9.1)\n",
      "Requirement already satisfied: Pygments==2.13.0 in d:\\documents\\masters\\3rd semester\\applied data science - gr5243\\fall2022-project2-group4\\.venv\\lib\\site-packages (from -r requiremets.txt (line 28)) (2.13.0)\n",
      "Requirement already satisfied: pyparsing==3.0.9 in d:\\documents\\masters\\3rd semester\\applied data science - gr5243\\fall2022-project2-group4\\.venv\\lib\\site-packages (from -r requiremets.txt (line 29)) (3.0.9)\n",
      "Requirement already satisfied: python-dateutil==2.8.2 in d:\\documents\\masters\\3rd semester\\applied data science - gr5243\\fall2022-project2-group4\\.venv\\lib\\site-packages (from -r requiremets.txt (line 30)) (2.8.2)\n",
      "Requirement already satisfied: pytz==2022.4 in d:\\documents\\masters\\3rd semester\\applied data science - gr5243\\fall2022-project2-group4\\.venv\\lib\\site-packages (from -r requiremets.txt (line 31)) (2022.4)\n",
      "Requirement already satisfied: pywin32==304 in d:\\documents\\masters\\3rd semester\\applied data science - gr5243\\fall2022-project2-group4\\.venv\\lib\\site-packages (from -r requiremets.txt (line 32)) (304)\n",
      "Requirement already satisfied: PyYAML==6.0 in d:\\documents\\masters\\3rd semester\\applied data science - gr5243\\fall2022-project2-group4\\.venv\\lib\\site-packages (from -r requiremets.txt (line 33)) (6.0)\n",
      "Requirement already satisfied: pyzmq==24.0.1 in d:\\documents\\masters\\3rd semester\\applied data science - gr5243\\fall2022-project2-group4\\.venv\\lib\\site-packages (from -r requiremets.txt (line 34)) (24.0.1)\n",
      "Requirement already satisfied: requests==2.28.1 in d:\\documents\\masters\\3rd semester\\applied data science - gr5243\\fall2022-project2-group4\\.venv\\lib\\site-packages (from -r requiremets.txt (line 35)) (2.28.1)\n",
      "Requirement already satisfied: six==1.16.0 in d:\\documents\\masters\\3rd semester\\applied data science - gr5243\\fall2022-project2-group4\\.venv\\lib\\site-packages (from -r requiremets.txt (line 36)) (1.16.0)\n",
      "Requirement already satisfied: sodapy==2.2.0 in d:\\documents\\masters\\3rd semester\\applied data science - gr5243\\fall2022-project2-group4\\.venv\\lib\\site-packages (from -r requiremets.txt (line 37)) (2.2.0)\n",
      "Requirement already satisfied: stack-data==0.5.1 in d:\\documents\\masters\\3rd semester\\applied data science - gr5243\\fall2022-project2-group4\\.venv\\lib\\site-packages (from -r requiremets.txt (line 38)) (0.5.1)\n",
      "Requirement already satisfied: toml==0.10.2 in d:\\documents\\masters\\3rd semester\\applied data science - gr5243\\fall2022-project2-group4\\.venv\\lib\\site-packages (from -r requiremets.txt (line 39)) (0.10.2)\n",
      "Requirement already satisfied: tornado==6.2 in d:\\documents\\masters\\3rd semester\\applied data science - gr5243\\fall2022-project2-group4\\.venv\\lib\\site-packages (from -r requiremets.txt (line 40)) (6.2)\n",
      "Requirement already satisfied: traitlets==5.4.0 in d:\\documents\\masters\\3rd semester\\applied data science - gr5243\\fall2022-project2-group4\\.venv\\lib\\site-packages (from -r requiremets.txt (line 41)) (5.4.0)\n",
      "Requirement already satisfied: urllib3==1.26.12 in d:\\documents\\masters\\3rd semester\\applied data science - gr5243\\fall2022-project2-group4\\.venv\\lib\\site-packages (from -r requiremets.txt (line 42)) (1.26.12)\n",
      "Requirement already satisfied: wcwidth==0.2.5 in d:\\documents\\masters\\3rd semester\\applied data science - gr5243\\fall2022-project2-group4\\.venv\\lib\\site-packages (from -r requiremets.txt (line 43)) (0.2.5)\n"
     ]
    }
   ],
   "source": [
    "%pip install -r requiremets.txt"
   ]
  },
  {
   "cell_type": "code",
   "execution_count": 8,
   "metadata": {},
   "outputs": [],
   "source": [
    "from lib import data_pipeline\n",
    "import pandas as pd"
   ]
  },
  {
   "cell_type": "code",
   "execution_count": 11,
   "metadata": {},
   "outputs": [
    {
     "name": "stdout",
     "output_type": "stream",
     "text": [
      "Downloading motor_vehicle_collisions_crashes.csv. This may take a while...\n",
      "motor_vehicle_collisions_crashes.csv downloaded successfully!\n"
     ]
    }
   ],
   "source": [
    "data_pipeline.download_datasets()"
   ]
  },
  {
   "cell_type": "code",
   "execution_count": 12,
   "metadata": {},
   "outputs": [
    {
     "data": {
      "text/html": [
       "<div>\n",
       "<style scoped>\n",
       "    .dataframe tbody tr th:only-of-type {\n",
       "        vertical-align: middle;\n",
       "    }\n",
       "\n",
       "    .dataframe tbody tr th {\n",
       "        vertical-align: top;\n",
       "    }\n",
       "\n",
       "    .dataframe thead th {\n",
       "        text-align: right;\n",
       "    }\n",
       "</style>\n",
       "<table border=\"1\" class=\"dataframe\">\n",
       "  <thead>\n",
       "    <tr style=\"text-align: right;\">\n",
       "      <th></th>\n",
       "      <th>crash_date</th>\n",
       "      <th>crash_time</th>\n",
       "      <th>borough</th>\n",
       "      <th>zip_code</th>\n",
       "      <th>latitude</th>\n",
       "      <th>on_street_name</th>\n",
       "      <th>number_of_persons_injured</th>\n",
       "      <th>number_of_persons_killed</th>\n",
       "      <th>number_of_pedestrians_injured</th>\n",
       "      <th>number_of_pedestrians_killed</th>\n",
       "      <th>number_of_cyclist_injured</th>\n",
       "      <th>number_of_cyclist_killed</th>\n",
       "      <th>number_of_motorist_injured</th>\n",
       "      <th>number_of_motorist_killed</th>\n",
       "    </tr>\n",
       "  </thead>\n",
       "  <tbody>\n",
       "    <tr>\n",
       "      <th>0</th>\n",
       "      <td>2019-01-02T00:00:00.000</td>\n",
       "      <td>18:03</td>\n",
       "      <td>NaN</td>\n",
       "      <td>NaN</td>\n",
       "      <td>NaN</td>\n",
       "      <td>NaN</td>\n",
       "      <td>0</td>\n",
       "      <td>0</td>\n",
       "      <td>0</td>\n",
       "      <td>0</td>\n",
       "      <td>0</td>\n",
       "      <td>0</td>\n",
       "      <td>0</td>\n",
       "      <td>0</td>\n",
       "    </tr>\n",
       "    <tr>\n",
       "      <th>1</th>\n",
       "      <td>2019-01-02T00:00:00.000</td>\n",
       "      <td>18:52</td>\n",
       "      <td>MANHATTAN</td>\n",
       "      <td>10036.0</td>\n",
       "      <td>NaN</td>\n",
       "      <td>WEST 42 STREET</td>\n",
       "      <td>0</td>\n",
       "      <td>0</td>\n",
       "      <td>0</td>\n",
       "      <td>0</td>\n",
       "      <td>0</td>\n",
       "      <td>0</td>\n",
       "      <td>0</td>\n",
       "      <td>0</td>\n",
       "    </tr>\n",
       "    <tr>\n",
       "      <th>2</th>\n",
       "      <td>2019-01-02T00:00:00.000</td>\n",
       "      <td>7:35</td>\n",
       "      <td>NaN</td>\n",
       "      <td>NaN</td>\n",
       "      <td>40.762978</td>\n",
       "      <td>LONG ISLAND EXPRESSWAY</td>\n",
       "      <td>1</td>\n",
       "      <td>0</td>\n",
       "      <td>0</td>\n",
       "      <td>0</td>\n",
       "      <td>0</td>\n",
       "      <td>0</td>\n",
       "      <td>1</td>\n",
       "      <td>0</td>\n",
       "    </tr>\n",
       "    <tr>\n",
       "      <th>3</th>\n",
       "      <td>2019-01-02T00:00:00.000</td>\n",
       "      <td>16:58</td>\n",
       "      <td>QUEENS</td>\n",
       "      <td>11377.0</td>\n",
       "      <td>40.734230</td>\n",
       "      <td>59 STREET</td>\n",
       "      <td>0</td>\n",
       "      <td>0</td>\n",
       "      <td>0</td>\n",
       "      <td>0</td>\n",
       "      <td>0</td>\n",
       "      <td>0</td>\n",
       "      <td>0</td>\n",
       "      <td>0</td>\n",
       "    </tr>\n",
       "    <tr>\n",
       "      <th>4</th>\n",
       "      <td>2019-01-02T00:00:00.000</td>\n",
       "      <td>13:00</td>\n",
       "      <td>NaN</td>\n",
       "      <td>NaN</td>\n",
       "      <td>40.671350</td>\n",
       "      <td>CLASSON AVENUE</td>\n",
       "      <td>0</td>\n",
       "      <td>0</td>\n",
       "      <td>0</td>\n",
       "      <td>0</td>\n",
       "      <td>0</td>\n",
       "      <td>0</td>\n",
       "      <td>0</td>\n",
       "      <td>0</td>\n",
       "    </tr>\n",
       "  </tbody>\n",
       "</table>\n",
       "</div>"
      ],
      "text/plain": [
       "                crash_date crash_time    borough  zip_code   latitude  \\\n",
       "0  2019-01-02T00:00:00.000      18:03        NaN       NaN        NaN   \n",
       "1  2019-01-02T00:00:00.000      18:52  MANHATTAN   10036.0        NaN   \n",
       "2  2019-01-02T00:00:00.000       7:35        NaN       NaN  40.762978   \n",
       "3  2019-01-02T00:00:00.000      16:58     QUEENS   11377.0  40.734230   \n",
       "4  2019-01-02T00:00:00.000      13:00        NaN       NaN  40.671350   \n",
       "\n",
       "                     on_street_name  number_of_persons_injured  \\\n",
       "0                               NaN                          0   \n",
       "1  WEST 42 STREET                                            0   \n",
       "2  LONG ISLAND EXPRESSWAY                                    1   \n",
       "3  59 STREET                                                 0   \n",
       "4  CLASSON AVENUE                                            0   \n",
       "\n",
       "   number_of_persons_killed  number_of_pedestrians_injured  \\\n",
       "0                         0                              0   \n",
       "1                         0                              0   \n",
       "2                         0                              0   \n",
       "3                         0                              0   \n",
       "4                         0                              0   \n",
       "\n",
       "   number_of_pedestrians_killed  number_of_cyclist_injured  \\\n",
       "0                             0                          0   \n",
       "1                             0                          0   \n",
       "2                             0                          0   \n",
       "3                             0                          0   \n",
       "4                             0                          0   \n",
       "\n",
       "   number_of_cyclist_killed  number_of_motorist_injured  \\\n",
       "0                         0                           0   \n",
       "1                         0                           0   \n",
       "2                         0                           1   \n",
       "3                         0                           0   \n",
       "4                         0                           0   \n",
       "\n",
       "   number_of_motorist_killed  \n",
       "0                          0  \n",
       "1                          0  \n",
       "2                          0  \n",
       "3                          0  \n",
       "4                          0  "
      ]
     },
     "execution_count": 12,
     "metadata": {},
     "output_type": "execute_result"
    }
   ],
   "source": [
    "raw_data = pd.read_csv(\"./data/motor_vehicle_collisions_crashes.csv\")\n",
    "raw_data.head()"
   ]
  },
  {
   "cell_type": "code",
   "execution_count": 13,
   "metadata": {},
   "outputs": [
    {
     "data": {
      "text/plain": [
       "crash_date                        object\n",
       "crash_time                        object\n",
       "borough                           object\n",
       "zip_code                         float64\n",
       "latitude                         float64\n",
       "on_street_name                    object\n",
       "number_of_persons_injured          int64\n",
       "number_of_persons_killed           int64\n",
       "number_of_pedestrians_injured      int64\n",
       "number_of_pedestrians_killed       int64\n",
       "number_of_cyclist_injured          int64\n",
       "number_of_cyclist_killed           int64\n",
       "number_of_motorist_injured         int64\n",
       "number_of_motorist_killed          int64\n",
       "dtype: object"
      ]
     },
     "execution_count": 13,
     "metadata": {},
     "output_type": "execute_result"
    }
   ],
   "source": [
    "raw_data.dtypes"
   ]
  },
  {
   "cell_type": "code",
   "execution_count": 14,
   "metadata": {},
   "outputs": [
    {
     "data": {
      "text/plain": [
       "(10, 14)"
      ]
     },
     "execution_count": 14,
     "metadata": {},
     "output_type": "execute_result"
    }
   ],
   "source": [
    "raw_data.shape"
   ]
  }
 ],
 "metadata": {
  "kernelspec": {
   "display_name": "Python 3.10.5 ('.venv': venv)",
   "language": "python",
   "name": "python3"
  },
  "language_info": {
   "codemirror_mode": {
    "name": "ipython",
    "version": 3
   },
   "file_extension": ".py",
   "mimetype": "text/x-python",
   "name": "python",
   "nbconvert_exporter": "python",
   "pygments_lexer": "ipython3",
   "version": "3.10.5"
  },
  "orig_nbformat": 4,
  "vscode": {
   "interpreter": {
    "hash": "f61617900249e3ffc12ad4080b22e723f9d019ffa78fe13a75b7abfd0290bc55"
   }
  }
 },
 "nbformat": 4,
 "nbformat_minor": 2
}
