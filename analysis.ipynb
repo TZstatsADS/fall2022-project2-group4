{
 "cells": [
  {
   "cell_type": "code",
   "execution_count": null,
   "metadata": {},
   "outputs": [],
   "source": [
    "%pip install -r requirements.txt"
   ]
  },
  {
   "cell_type": "code",
   "execution_count": 1,
   "metadata": {},
   "outputs": [],
   "source": [
    "from lib import data_pipeline\n",
    "import pandas as pd"
   ]
  },
  {
   "cell_type": "code",
   "execution_count": 2,
   "metadata": {},
   "outputs": [
    {
     "name": "stdout",
     "output_type": "stream",
     "text": [
      "Downloading motor_vehicle_collisions_crashes.csv. This may take a while...\n",
      "motor_vehicle_collisions_crashes.csv downloaded successfully!\n",
      "Downloading real-time_traffic_speed_data.csv. This may take a while...\n",
      "real-time_traffic_speed_data.csv downloaded successfully!\n"
     ]
    }
   ],
   "source": [
    "data_pipeline.download_datasets(limit = 1000)"
   ]
  },
  {
   "cell_type": "code",
   "execution_count": 3,
   "metadata": {},
   "outputs": [
    {
     "data": {
      "text/html": [
       "<div>\n",
       "<style scoped>\n",
       "    .dataframe tbody tr th:only-of-type {\n",
       "        vertical-align: middle;\n",
       "    }\n",
       "\n",
       "    .dataframe tbody tr th {\n",
       "        vertical-align: top;\n",
       "    }\n",
       "\n",
       "    .dataframe thead th {\n",
       "        text-align: right;\n",
       "    }\n",
       "</style>\n",
       "<table border=\"1\" class=\"dataframe\">\n",
       "  <thead>\n",
       "    <tr style=\"text-align: right;\">\n",
       "      <th></th>\n",
       "      <th>crash_date</th>\n",
       "      <th>crash_time</th>\n",
       "      <th>borough</th>\n",
       "      <th>zip_code</th>\n",
       "      <th>longitude</th>\n",
       "      <th>latitude</th>\n",
       "      <th>on_street_name</th>\n",
       "      <th>number_of_persons_injured</th>\n",
       "      <th>number_of_persons_killed</th>\n",
       "      <th>number_of_pedestrians_injured</th>\n",
       "      <th>number_of_pedestrians_killed</th>\n",
       "      <th>number_of_cyclist_injured</th>\n",
       "      <th>number_of_cyclist_killed</th>\n",
       "      <th>number_of_motorist_injured</th>\n",
       "      <th>number_of_motorist_killed</th>\n",
       "    </tr>\n",
       "  </thead>\n",
       "  <tbody>\n",
       "    <tr>\n",
       "      <th>0</th>\n",
       "      <td>2019-01-01T00:00:00.000</td>\n",
       "      <td>18:41</td>\n",
       "      <td>NaN</td>\n",
       "      <td>NaN</td>\n",
       "      <td>NaN</td>\n",
       "      <td>NaN</td>\n",
       "      <td>VERRAZANO BRIDGE UPPER</td>\n",
       "      <td>0</td>\n",
       "      <td>0</td>\n",
       "      <td>0</td>\n",
       "      <td>0</td>\n",
       "      <td>0</td>\n",
       "      <td>0</td>\n",
       "      <td>0</td>\n",
       "      <td>0</td>\n",
       "    </tr>\n",
       "    <tr>\n",
       "      <th>1</th>\n",
       "      <td>2019-01-01T00:00:00.000</td>\n",
       "      <td>1:30</td>\n",
       "      <td>NaN</td>\n",
       "      <td>NaN</td>\n",
       "      <td>NaN</td>\n",
       "      <td>NaN</td>\n",
       "      <td>NARROWS ROAD NORTH</td>\n",
       "      <td>1</td>\n",
       "      <td>0</td>\n",
       "      <td>0</td>\n",
       "      <td>0</td>\n",
       "      <td>0</td>\n",
       "      <td>0</td>\n",
       "      <td>1</td>\n",
       "      <td>0</td>\n",
       "    </tr>\n",
       "    <tr>\n",
       "      <th>2</th>\n",
       "      <td>2019-01-01T00:00:00.000</td>\n",
       "      <td>23:55</td>\n",
       "      <td>NaN</td>\n",
       "      <td>NaN</td>\n",
       "      <td>NaN</td>\n",
       "      <td>NaN</td>\n",
       "      <td>MARTIN LUTHER KING JR</td>\n",
       "      <td>1</td>\n",
       "      <td>0</td>\n",
       "      <td>0</td>\n",
       "      <td>0</td>\n",
       "      <td>0</td>\n",
       "      <td>0</td>\n",
       "      <td>1</td>\n",
       "      <td>0</td>\n",
       "    </tr>\n",
       "    <tr>\n",
       "      <th>3</th>\n",
       "      <td>2019-01-01T00:00:00.000</td>\n",
       "      <td>0:20</td>\n",
       "      <td>QUEENS</td>\n",
       "      <td>11377.0</td>\n",
       "      <td>-73.915855</td>\n",
       "      <td>40.743137</td>\n",
       "      <td>ROOSEVELT AVENUE</td>\n",
       "      <td>0</td>\n",
       "      <td>0</td>\n",
       "      <td>0</td>\n",
       "      <td>0</td>\n",
       "      <td>0</td>\n",
       "      <td>0</td>\n",
       "      <td>0</td>\n",
       "      <td>0</td>\n",
       "    </tr>\n",
       "    <tr>\n",
       "      <th>4</th>\n",
       "      <td>2019-01-01T00:00:00.000</td>\n",
       "      <td>3:30</td>\n",
       "      <td>QUEENS</td>\n",
       "      <td>11103.0</td>\n",
       "      <td>-73.913450</td>\n",
       "      <td>40.759020</td>\n",
       "      <td>NaN</td>\n",
       "      <td>1</td>\n",
       "      <td>0</td>\n",
       "      <td>0</td>\n",
       "      <td>0</td>\n",
       "      <td>0</td>\n",
       "      <td>0</td>\n",
       "      <td>1</td>\n",
       "      <td>0</td>\n",
       "    </tr>\n",
       "  </tbody>\n",
       "</table>\n",
       "</div>"
      ],
      "text/plain": [
       "                crash_date crash_time borough  zip_code  longitude   latitude  \\\n",
       "0  2019-01-01T00:00:00.000      18:41     NaN       NaN        NaN        NaN   \n",
       "1  2019-01-01T00:00:00.000       1:30     NaN       NaN        NaN        NaN   \n",
       "2  2019-01-01T00:00:00.000      23:55     NaN       NaN        NaN        NaN   \n",
       "3  2019-01-01T00:00:00.000       0:20  QUEENS   11377.0 -73.915855  40.743137   \n",
       "4  2019-01-01T00:00:00.000       3:30  QUEENS   11103.0 -73.913450  40.759020   \n",
       "\n",
       "                     on_street_name  number_of_persons_injured  \\\n",
       "0  VERRAZANO BRIDGE UPPER                                    0   \n",
       "1  NARROWS ROAD NORTH                                        1   \n",
       "2  MARTIN LUTHER KING JR                                     1   \n",
       "3  ROOSEVELT AVENUE                                          0   \n",
       "4                               NaN                          1   \n",
       "\n",
       "   number_of_persons_killed  number_of_pedestrians_injured  \\\n",
       "0                         0                              0   \n",
       "1                         0                              0   \n",
       "2                         0                              0   \n",
       "3                         0                              0   \n",
       "4                         0                              0   \n",
       "\n",
       "   number_of_pedestrians_killed  number_of_cyclist_injured  \\\n",
       "0                             0                          0   \n",
       "1                             0                          0   \n",
       "2                             0                          0   \n",
       "3                             0                          0   \n",
       "4                             0                          0   \n",
       "\n",
       "   number_of_cyclist_killed  number_of_motorist_injured  \\\n",
       "0                         0                           0   \n",
       "1                         0                           1   \n",
       "2                         0                           1   \n",
       "3                         0                           0   \n",
       "4                         0                           1   \n",
       "\n",
       "   number_of_motorist_killed  \n",
       "0                          0  \n",
       "1                          0  \n",
       "2                          0  \n",
       "3                          0  \n",
       "4                          0  "
      ]
     },
     "execution_count": 3,
     "metadata": {},
     "output_type": "execute_result"
    }
   ],
   "source": [
    "raw_data_crashes = pd.read_csv(\"./data/motor_vehicle_collisions_crashes.csv\")\n",
    "raw_data_crashes.head()"
   ]
  },
  {
   "cell_type": "code",
   "execution_count": 4,
   "metadata": {},
   "outputs": [
    {
     "data": {
      "text/html": [
       "<div>\n",
       "<style scoped>\n",
       "    .dataframe tbody tr th:only-of-type {\n",
       "        vertical-align: middle;\n",
       "    }\n",
       "\n",
       "    .dataframe tbody tr th {\n",
       "        vertical-align: top;\n",
       "    }\n",
       "\n",
       "    .dataframe thead th {\n",
       "        text-align: right;\n",
       "    }\n",
       "</style>\n",
       "<table border=\"1\" class=\"dataframe\">\n",
       "  <thead>\n",
       "    <tr style=\"text-align: right;\">\n",
       "      <th></th>\n",
       "      <th>speed</th>\n",
       "      <th>travel_time</th>\n",
       "      <th>data_as_of</th>\n",
       "      <th>link_points</th>\n",
       "      <th>borough</th>\n",
       "    </tr>\n",
       "  </thead>\n",
       "  <tbody>\n",
       "    <tr>\n",
       "      <th>0</th>\n",
       "      <td>65.24</td>\n",
       "      <td>107</td>\n",
       "      <td>2022-10-06T02:14:12.000</td>\n",
       "      <td>40.60213,-74.187981 40.60504,-74.185 40.60687,...</td>\n",
       "      <td>Staten Island</td>\n",
       "    </tr>\n",
       "    <tr>\n",
       "      <th>1</th>\n",
       "      <td>0.00</td>\n",
       "      <td>0</td>\n",
       "      <td>2022-10-06T02:14:12.000</td>\n",
       "      <td>40.52581,-74.23039 40.52593,-74.228371 40.5261...</td>\n",
       "      <td>Staten Island</td>\n",
       "    </tr>\n",
       "    <tr>\n",
       "      <th>2</th>\n",
       "      <td>44.73</td>\n",
       "      <td>123</td>\n",
       "      <td>2022-10-06T02:14:12.000</td>\n",
       "      <td>40.8563506,-73.87233 40.85219,-73.871371 40.85...</td>\n",
       "      <td>Bronx</td>\n",
       "    </tr>\n",
       "    <tr>\n",
       "      <th>3</th>\n",
       "      <td>0.00</td>\n",
       "      <td>0</td>\n",
       "      <td>2022-10-06T02:14:12.000</td>\n",
       "      <td>40.63092,-74.14592 40.62975,-74.14593 40.62877...</td>\n",
       "      <td>Staten Island</td>\n",
       "    </tr>\n",
       "    <tr>\n",
       "      <th>4</th>\n",
       "      <td>65.24</td>\n",
       "      <td>60</td>\n",
       "      <td>2022-10-06T02:14:12.000</td>\n",
       "      <td>40.6152105,-74.157401 40.61231,-74.15362 40.60...</td>\n",
       "      <td>Staten Island</td>\n",
       "    </tr>\n",
       "  </tbody>\n",
       "</table>\n",
       "</div>"
      ],
      "text/plain": [
       "   speed  travel_time               data_as_of  \\\n",
       "0  65.24          107  2022-10-06T02:14:12.000   \n",
       "1   0.00            0  2022-10-06T02:14:12.000   \n",
       "2  44.73          123  2022-10-06T02:14:12.000   \n",
       "3   0.00            0  2022-10-06T02:14:12.000   \n",
       "4  65.24           60  2022-10-06T02:14:12.000   \n",
       "\n",
       "                                         link_points        borough  \n",
       "0  40.60213,-74.187981 40.60504,-74.185 40.60687,...  Staten Island  \n",
       "1  40.52581,-74.23039 40.52593,-74.228371 40.5261...  Staten Island  \n",
       "2  40.8563506,-73.87233 40.85219,-73.871371 40.85...          Bronx  \n",
       "3  40.63092,-74.14592 40.62975,-74.14593 40.62877...  Staten Island  \n",
       "4  40.6152105,-74.157401 40.61231,-74.15362 40.60...  Staten Island  "
      ]
     },
     "execution_count": 4,
     "metadata": {},
     "output_type": "execute_result"
    }
   ],
   "source": [
    "raw_data_speed = pd.read_csv(\"./data/real-time_traffic_speed_data.csv\")\n",
    "raw_data_speed.head()"
   ]
  },
  {
   "cell_type": "code",
   "execution_count": 5,
   "metadata": {},
   "outputs": [
    {
     "data": {
      "text/plain": [
       "crash_date                        object\n",
       "crash_time                        object\n",
       "borough                           object\n",
       "zip_code                         float64\n",
       "longitude                        float64\n",
       "latitude                         float64\n",
       "on_street_name                    object\n",
       "number_of_persons_injured          int64\n",
       "number_of_persons_killed           int64\n",
       "number_of_pedestrians_injured      int64\n",
       "number_of_pedestrians_killed       int64\n",
       "number_of_cyclist_injured          int64\n",
       "number_of_cyclist_killed           int64\n",
       "number_of_motorist_injured         int64\n",
       "number_of_motorist_killed          int64\n",
       "dtype: object"
      ]
     },
     "execution_count": 5,
     "metadata": {},
     "output_type": "execute_result"
    }
   ],
   "source": [
    "raw_data_crashes.dtypes"
   ]
  },
  {
   "cell_type": "code",
   "execution_count": 6,
   "metadata": {},
   "outputs": [
    {
     "data": {
      "text/plain": [
       "speed          float64\n",
       "travel_time      int64\n",
       "data_as_of      object\n",
       "link_points     object\n",
       "borough         object\n",
       "dtype: object"
      ]
     },
     "execution_count": 6,
     "metadata": {},
     "output_type": "execute_result"
    }
   ],
   "source": [
    "raw_data_speed.dtypes\n"
   ]
  },
  {
   "cell_type": "code",
   "execution_count": 7,
   "metadata": {},
   "outputs": [
    {
     "data": {
      "text/plain": [
       "((1000, 15), (1000, 5))"
      ]
     },
     "execution_count": 7,
     "metadata": {},
     "output_type": "execute_result"
    }
   ],
   "source": [
    "raw_data_crashes.shape, raw_data_speed.shape"
   ]
  },
  {
   "cell_type": "code",
   "execution_count": null,
   "metadata": {},
   "outputs": [],
   "source": []
  }
 ],
 "metadata": {
  "kernelspec": {
   "display_name": "Python 3.10.5 ('.venv': venv)",
   "language": "python",
   "name": "python3"
  },
  "language_info": {
   "codemirror_mode": {
    "name": "ipython",
    "version": 3
   },
   "file_extension": ".py",
   "mimetype": "text/x-python",
   "name": "python",
   "nbconvert_exporter": "python",
   "pygments_lexer": "ipython3",
   "version": "3.10.5"
  },
  "orig_nbformat": 4,
  "vscode": {
   "interpreter": {
    "hash": "f61617900249e3ffc12ad4080b22e723f9d019ffa78fe13a75b7abfd0290bc55"
   }
  }
 },
 "nbformat": 4,
 "nbformat_minor": 2
}
